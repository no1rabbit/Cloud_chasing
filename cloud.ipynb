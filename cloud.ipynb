version https://git-lfs.github.com/spec/v1
oid sha256:e4f5fc46c0167e8a3232b9ce293c7f69a93ec5c8900e9b1a68d694316339a04e
size 283646305
