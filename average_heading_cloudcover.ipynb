{
  "cells": [
    {
      "cell_type": "markdown",
      "metadata": {
        "id": "view-in-github",
        "colab_type": "text"
      },
      "source": [
        "<a href=\"https://colab.research.google.com/github/no1rabbit/Cloud_chasing/blob/main/average_heading_cloudcover.ipynb\" target=\"_parent\"><img src=\"https://colab.research.google.com/assets/colab-badge.svg\" alt=\"Open In Colab\"/></a>"
      ]
    },
    {
      "cell_type": "markdown",
      "metadata": {
        "id": "CM09yBaKMqez"
      },
      "source": [
        "## Exploration of the rainfall images"
      ]
    },
    {
      "cell_type": "code",
      "source": [
        "!pip install Windrose dash"
      ],
      "metadata": {
        "id": "uQAT0tlJMxvf",
        "outputId": "8ac21602-f41a-4ab0-a640-b966a9981a56",
        "colab": {
          "base_uri": "https://localhost:8080/"
        }
      },
      "execution_count": 1,
      "outputs": [
        {
          "output_type": "stream",
          "name": "stdout",
          "text": [
            "Requirement already satisfied: Windrose in /usr/local/lib/python3.10/dist-packages (1.9.0)\n",
            "Requirement already satisfied: dash in /usr/local/lib/python3.10/dist-packages (2.16.1)\n",
            "Requirement already satisfied: matplotlib>=3 in /usr/local/lib/python3.10/dist-packages (from Windrose) (3.7.1)\n",
            "Requirement already satisfied: numpy>=1.21 in /usr/local/lib/python3.10/dist-packages (from Windrose) (1.25.2)\n",
            "Requirement already satisfied: Flask<3.1,>=1.0.4 in /usr/local/lib/python3.10/dist-packages (from dash) (2.2.5)\n",
            "Requirement already satisfied: Werkzeug<3.1 in /usr/local/lib/python3.10/dist-packages (from dash) (3.0.2)\n",
            "Requirement already satisfied: plotly>=5.0.0 in /usr/local/lib/python3.10/dist-packages (from dash) (5.15.0)\n",
            "Requirement already satisfied: dash-html-components==2.0.0 in /usr/local/lib/python3.10/dist-packages (from dash) (2.0.0)\n",
            "Requirement already satisfied: dash-core-components==2.0.0 in /usr/local/lib/python3.10/dist-packages (from dash) (2.0.0)\n",
            "Requirement already satisfied: dash-table==5.0.0 in /usr/local/lib/python3.10/dist-packages (from dash) (5.0.0)\n",
            "Requirement already satisfied: importlib-metadata in /usr/local/lib/python3.10/dist-packages (from dash) (7.1.0)\n",
            "Requirement already satisfied: typing-extensions>=4.1.1 in /usr/local/lib/python3.10/dist-packages (from dash) (4.10.0)\n",
            "Requirement already satisfied: requests in /usr/local/lib/python3.10/dist-packages (from dash) (2.31.0)\n",
            "Requirement already satisfied: retrying in /usr/local/lib/python3.10/dist-packages (from dash) (1.3.4)\n",
            "Requirement already satisfied: nest-asyncio in /usr/local/lib/python3.10/dist-packages (from dash) (1.6.0)\n",
            "Requirement already satisfied: setuptools in /usr/local/lib/python3.10/dist-packages (from dash) (67.7.2)\n",
            "Requirement already satisfied: Jinja2>=3.0 in /usr/local/lib/python3.10/dist-packages (from Flask<3.1,>=1.0.4->dash) (3.1.3)\n",
            "Requirement already satisfied: itsdangerous>=2.0 in /usr/local/lib/python3.10/dist-packages (from Flask<3.1,>=1.0.4->dash) (2.1.2)\n",
            "Requirement already satisfied: click>=8.0 in /usr/local/lib/python3.10/dist-packages (from Flask<3.1,>=1.0.4->dash) (8.1.7)\n",
            "Requirement already satisfied: contourpy>=1.0.1 in /usr/local/lib/python3.10/dist-packages (from matplotlib>=3->Windrose) (1.2.1)\n",
            "Requirement already satisfied: cycler>=0.10 in /usr/local/lib/python3.10/dist-packages (from matplotlib>=3->Windrose) (0.12.1)\n",
            "Requirement already satisfied: fonttools>=4.22.0 in /usr/local/lib/python3.10/dist-packages (from matplotlib>=3->Windrose) (4.50.0)\n",
            "Requirement already satisfied: kiwisolver>=1.0.1 in /usr/local/lib/python3.10/dist-packages (from matplotlib>=3->Windrose) (1.4.5)\n",
            "Requirement already satisfied: packaging>=20.0 in /usr/local/lib/python3.10/dist-packages (from matplotlib>=3->Windrose) (24.0)\n",
            "Requirement already satisfied: pillow>=6.2.0 in /usr/local/lib/python3.10/dist-packages (from matplotlib>=3->Windrose) (9.4.0)\n",
            "Requirement already satisfied: pyparsing>=2.3.1 in /usr/local/lib/python3.10/dist-packages (from matplotlib>=3->Windrose) (3.1.2)\n",
            "Requirement already satisfied: python-dateutil>=2.7 in /usr/local/lib/python3.10/dist-packages (from matplotlib>=3->Windrose) (2.8.2)\n",
            "Requirement already satisfied: tenacity>=6.2.0 in /usr/local/lib/python3.10/dist-packages (from plotly>=5.0.0->dash) (8.2.3)\n",
            "Requirement already satisfied: MarkupSafe>=2.1.1 in /usr/local/lib/python3.10/dist-packages (from Werkzeug<3.1->dash) (2.1.5)\n",
            "Requirement already satisfied: zipp>=0.5 in /usr/local/lib/python3.10/dist-packages (from importlib-metadata->dash) (3.18.1)\n",
            "Requirement already satisfied: charset-normalizer<4,>=2 in /usr/local/lib/python3.10/dist-packages (from requests->dash) (3.3.2)\n",
            "Requirement already satisfied: idna<4,>=2.5 in /usr/local/lib/python3.10/dist-packages (from requests->dash) (3.6)\n",
            "Requirement already satisfied: urllib3<3,>=1.21.1 in /usr/local/lib/python3.10/dist-packages (from requests->dash) (2.0.7)\n",
            "Requirement already satisfied: certifi>=2017.4.17 in /usr/local/lib/python3.10/dist-packages (from requests->dash) (2024.2.2)\n",
            "Requirement already satisfied: six>=1.7.0 in /usr/local/lib/python3.10/dist-packages (from retrying->dash) (1.16.0)\n"
          ]
        }
      ]
    },
    {
      "cell_type": "code",
      "execution_count": 2,
      "metadata": {
        "id": "32WU2QqqpZRE",
        "tags": []
      },
      "outputs": [],
      "source": [
        "import pandas as pd\n",
        "import numpy as np\n",
        "import matplotlib.pyplot as plt\n",
        "import xarray as xr\n",
        "from windrose import WindroseAxes\n",
        "import ipywidgets as widgets\n",
        "from calendar import month\n",
        "from tqdm import tqdm\n",
        "from scipy.ndimage import rotate\n",
        "from collections import defaultdict\n",
        "import dash\n",
        "from dash import dcc, html\n",
        "from IPython.display import display\n",
        "import plotly.graph_objs as go"
      ]
    },
    {
      "cell_type": "code",
      "source": [
        "from google.colab import drive\n",
        "drive.mount('/content/drive')"
      ],
      "metadata": {
        "id": "xFa4M3erNauC",
        "outputId": "c9ab1ebd-10ff-4ffd-8f17-0cf94749a690",
        "colab": {
          "base_uri": "https://localhost:8080/"
        }
      },
      "execution_count": 3,
      "outputs": [
        {
          "output_type": "stream",
          "name": "stdout",
          "text": [
            "Drive already mounted at /content/drive; to attempt to forcibly remount, call drive.mount(\"/content/drive\", force_remount=True).\n"
          ]
        }
      ]
    },
    {
      "cell_type": "code",
      "execution_count": 4,
      "metadata": {
        "id": "zyAReh-xpZRH",
        "tags": [
          "hide_tag"
        ]
      },
      "outputs": [],
      "source": [
        "# Define paths to your data\n",
        "gps_file = '/content/drive/MyDrive/Cloud data/Serengeti_HMM.csv'\n",
        "#gps_file = 'data/Serengeti_HMM.csv'\n",
        "\n",
        "# Load GPS data\n",
        "gps_data = pd.read_csv(gps_file)\n",
        "gps_data = gps_data[gps_data['case_'] == True]\n",
        "gps_data['sp_m'] = gps_data['species'] + '_' + gps_data['migrant'].astype(str)\n",
        "gps_data = gps_data[gps_data['sp_m'] == 'WB_migrant']\n",
        "gps_data['date1'] = pd.to_datetime(gps_data['date'])\n",
        "gps_data['date'] = gps_data['date1'].dt.date\n",
        "gps_data['year'] = gps_data['date1'].dt.year\n",
        "gps_data['month'] = gps_data['date1'].dt.month\n",
        "gps_data = gps_data.sort_values(by=['ID','date'])\n",
        "\n",
        "\n"
      ]
    },
    {
      "cell_type": "markdown",
      "metadata": {
        "id": "kuURdcMrMqe4"
      },
      "source": [
        "Load rainfall data and plot monthly means over years"
      ]
    },
    {
      "cell_type": "code",
      "execution_count": 5,
      "metadata": {
        "id": "Zs73gI5cpZRI"
      },
      "outputs": [],
      "source": [
        "## Load rainfall data\n",
        "rain = xr.open_dataset('/content/drive/MyDrive/Cloud data/Serengeti_chirps_wide.nc')\n",
        "#rain = xr.open_dataset('data/Serengeti_chirps_wide.nc')\n",
        "#threshold = 10\n",
        "#rain = rain.where(rain['rainfall'] <= threshold, 0)  # Set values below threshold to 0\n",
        "#rain = rain.where(rain >= threshold, other=np.nan)\n",
        "\n",
        "# Resample to monthly frequency\n",
        "#monthly_ds = rain.resample(time='1M').mean()\n",
        "\n",
        "# Print the resulting dataset\n",
        "#print(monthly_ds)\n",
        "#monthly_ds.rainfall.plot(col='time', col_wrap=12)"
      ]
    },
    {
      "cell_type": "code",
      "execution_count": 6,
      "metadata": {
        "id": "yQjEt8zVMqe5",
        "outputId": "2f828f84-952f-4351-afbc-8e848decf7c7",
        "colab": {
          "base_uri": "https://localhost:8080/",
          "height": 505
        }
      },
      "outputs": [
        {
          "output_type": "execute_result",
          "data": {
            "text/plain": [
              "<matplotlib.collections.QuadMesh at 0x7aaaa81dfc10>"
            ]
          },
          "metadata": {},
          "execution_count": 6
        },
        {
          "output_type": "display_data",
          "data": {
            "text/plain": [
              "<Figure size 640x480 with 2 Axes>"
            ],
            "image/png": "[encoded data removed]"
          },
          "metadata": {}
        }
      ],
      "source": [
        "rain.isel(time=0).rainfall.plot()"
      ]
    },
    {
      "cell_type": "markdown",
      "metadata": {
        "id": "YrOLxAa8Mqe5"
      },
      "source": [
        "Extract the images per individual at 32 x 32 pixels per image. The image is centered around the known GPS of the individual.   "
      ]
    },
    {
      "cell_type": "code",
      "execution_count": 7,
      "metadata": {
        "colab": {
          "base_uri": "https://localhost:8080/"
        },
        "id": "-c6EcXZ8pZRJ",
        "outputId": "bdf196e7-632d-41e3-beb5-5bfd61116ae4"
      },
      "outputs": [
        {
          "output_type": "stream",
          "name": "stderr",
          "text": [
            "100%|██████████| 59/59 [04:19<00:00,  4.41s/it]"
          ]
        },
        {
          "output_type": "stream",
          "name": "stdout",
          "text": [
            "31390\n"
          ]
        },
        {
          "output_type": "stream",
          "name": "stderr",
          "text": [
            "\n"
          ]
        }
      ],
      "source": [
        "image_size = 16\n",
        "step = 1\n",
        "lag = 1\n",
        "\n",
        "# Create an empty array to store image-GPS pairs\n",
        "xdata = np.zeros((len(gps_data),image_size,image_size,lag))\n",
        "ydata = np.zeros((len(gps_data),2))\n",
        "heading = np.zeros(len(gps_data))\n",
        "years = np.zeros(len(gps_data))\n",
        "months = np.zeros(len(gps_data))\n",
        "doy = np.zeros(len(gps_data))\n",
        "id_dtype = 'U10'\n",
        "ids = np.empty(len(gps_data), dtype=id_dtype)\n",
        "\n",
        "i=0\n",
        "for uid in tqdm(gps_data['ID'].unique()):\n",
        "    current_data = gps_data[gps_data['ID'] == uid]\n",
        "    # iterate through every other row\n",
        "    for index, row in current_data.iterrows():\n",
        "        # Extract the unique identifier for the current row\n",
        "        ids[i] = uid\n",
        "\n",
        "        # if index % step != 0:\n",
        "        #     continue\n",
        "\n",
        "        # Extract GPS coordinates and time from the DataFrame\n",
        "        center_x = row['x1_']\n",
        "        center_y = row['y1_']\n",
        "        center_date = row['date1']\n",
        "        # find the row that is step days later\n",
        "        next_date = center_date + pd.Timedelta(days=step)\n",
        "        next_data = current_data[current_data['date1'] == next_date]\n",
        "        if len(next_data) == 0:\n",
        "            continue\n",
        "        next_x = next_data['x1_'].values[0]\n",
        "        next_y = next_data['y1_'].values[0]\n",
        "\n",
        "        # Calculate the heading direction from the current location to the next location\n",
        "        heading[i] = np.arctan2(next_y - center_y, next_x - center_x)\n",
        "        heading[i] = np.mod(np.degrees(heading[i]), 360)\n",
        "        # 0 degrees should be north, but the heading is calculated as 0 degrees being east\n",
        "        heading[i] = np.mod(90 - heading[i], 360)\n",
        "\n",
        "        ydata[i] = [next_x - center_x, next_y - center_y]\n",
        "\n",
        "        # Convert latitude and longitude to indices in the xarray dataset\n",
        "        x_index = np.abs(rain.x - center_x).argmin().values\n",
        "        y_index = np.abs(rain.y - center_y).argmin().values\n",
        "\n",
        "        # Find the index corresponding to the center_time in the time dimension\n",
        "        time_index = np.abs(rain.time - np.datetime64(center_date)).argmin().values\n",
        "        if time_index - lag < 0:\n",
        "            continue\n",
        "\n",
        "        # Extract a subset of the dataset centered around the specified location for 1 week starting at the current time\n",
        "        subset = rain.isel(x=slice(x_index - image_size//2, x_index + image_size//2),\n",
        "                            y=slice(y_index - image_size//2, y_index + image_size//2),\n",
        "                            time=slice(time_index - lag + 1, time_index+1))\n",
        "\n",
        "        # Extract the 2D array of the variable you want to visualize\n",
        "        data_array = subset.rainfall.values\n",
        "\n",
        "        # Check for NaN and infinite values\n",
        "        #if np.isnan(data_array).any() or np.isinf(data_array).any():\n",
        "         #   print(f\"Warning: NaN or infinite values found in data_array for ID {uid}, index {index}, time_index {time_index}\")\n",
        "          #  print(f\"NaN values: {np.sum(np.isnan(data_array))}\")\n",
        "           # print(f\"Infinite values: {np.sum(np.isinf(data_array))}\")\n",
        "\n",
        "        # Handle invalid values by replacing NaN and infinite values with 0\n",
        "        # normalized_data = np.nan_to_num((data_array - np.min(data_array)) / (np.max(data_array) - np.min(data_array)))\n",
        "        #data_array = np.nan_to_num(data_array)\n",
        "\n",
        "        # data_array = np.mean(data_array,axis=0)\n",
        "        data_array = np.transpose(data_array,[1,2,0])\n",
        "        xdata[i] = data_array #np.reshape(data_array, (image_size, image_size, 1))\n",
        "        years[i] = center_date.year\n",
        "        months[i] = center_date.month\n",
        "        doy[i] = center_date.dayofyear\n",
        "        i += 1\n",
        "\n",
        "\n",
        "##\n",
        "print(i)\n",
        "xdata = xdata[:i]\n",
        "ydata = ydata[:i]\n",
        "years = years[:i]\n",
        "months = months[:i]\n",
        "heading = heading[:i]\n",
        "doy = doy[:i]\n",
        "ids = ids[:i]\n",
        "\n",
        "xdata = xdata.astype('float32')\n",
        "years = years.astype('int32')\n",
        "months = months.astype('int32')\n",
        "doy = doy.astype('int32')\n",
        "#xdata = xdata / np.percentile(xdata,95) #remove outliers\n",
        "ydata = ydata.astype('float32')\n",
        "#ydata = ydata / np.linalg.norm(ydata,axis=1,keepdims=True)\n",
        "#heading = np.degrees(heading)\n",
        "##"
      ]
    },
    {
      "cell_type": "markdown",
      "metadata": {
        "id": "I12XIbBsMqe6"
      },
      "source": [
        "The maximum and minimum rainfall per image"
      ]
    },
    {
      "cell_type": "code",
      "execution_count": null,
      "metadata": {
        "id": "w-VjyaUfMqe6"
      },
      "outputs": [],
      "source": [
        "print(np.max(xdata))\n",
        "print(np.min(xdata))"
      ]
    },
    {
      "cell_type": "markdown",
      "metadata": {
        "id": "C-7vSTn2Mqe7"
      },
      "source": [
        "Calculate the heading in degrees and rotate the images and heading of each individual to face north."
      ]
    },
    {
      "cell_type": "code",
      "execution_count": null,
      "metadata": {
        "id": "MvGsuzSvpZRK"
      },
      "outputs": [],
      "source": [
        "# Calculate the difference between the true heading and 0 degrees (north)\n",
        "heading_difference = 0 - heading\n",
        "\n",
        "# Rotate the heading array to align with 0 degrees (north)\n",
        "heading_aligned = np.mod(heading + heading_difference, 360)\n",
        "\n",
        "#rxdata = np.zeros((len(gps_data),image_size,image_size,lag))\n",
        "\n",
        "# Rotate the image data\n",
        "for i in range(len(xdata)):\n",
        "    xdata[i] = rotate(xdata[i], -heading_difference[i], reshape=False)\n"
      ]
    },
    {
      "cell_type": "markdown",
      "metadata": {
        "id": "wYt0Fn28Mqe7"
      },
      "source": [
        "Plot the rotated image and the heading of the individual so make sure it's travelling north."
      ]
    },
    {
      "cell_type": "code",
      "execution_count": null,
      "metadata": {
        "id": "aGfo76W8Mqe7"
      },
      "outputs": [],
      "source": [
        "# Function to plot rainfall for a specific individual, year, and day of the year\n",
        "def plot_individual_rainfall(individual_id, year, day_of_year):\n",
        "    plt.figure(figsize=(5, 3))\n",
        "    # Check if data exists for the selected individual, year, and day of the year\n",
        "    mask = (ids == individual_id) & (years == year) & (doy == day_of_year)\n",
        "    if np.sum(mask) == 0:\n",
        "        plt.text(0.5, 0.5, 'No data available', ha='center', va='center', fontsize=14, color='red')\n",
        "        plt.axis('off')\n",
        "    else:\n",
        "        individual_data = xdata[mask]\n",
        "        plt.imshow(individual_data.mean(axis=0), cmap='viridis')  # Plot average rainfall\n",
        "        plt.scatter(16, 16, marker='x', color='red')\n",
        "        plt.title(f'Average Rainfall for Individual {individual_id}, {year}-{day_of_year}')\n",
        "        plt.colorbar()\n",
        "    plt.show()\n",
        "\n",
        "# Function to plot windrose for a specific individual, year, and day of the year\n",
        "def plot_individual_windrose(individual_id, year, day_of_year):\n",
        "    plt.figure(figsize=(6, 4))\n",
        "    # Check if data exists for the selected individual, year, and day of the year\n",
        "    mask = (ids == individual_id) & (years == year) & (doy == day_of_year)\n",
        "    if np.sum(mask) == 0:\n",
        "        plt.text(0.5, 0.5, 'No data available', ha='center', va='center', fontsize=14, color='red')\n",
        "        plt.axis('off')\n",
        "    else:\n",
        "        individual_headings = heading_aligned[mask]\n",
        "        ax = WindroseAxes.from_ax(figsize=(6, 4))\n",
        "        ax.bar(individual_headings, var=np.ones_like(individual_headings), bins=np.arange(0, 360, 10), normed=True, opening=0.8, edgecolor='white')\n",
        "        ax.set_title(f'Windrose Plot for Individual {individual_id}, {year}-{day_of_year}')\n",
        "    plt.show()\n",
        "\n",
        "# Get unique individual IDs, years, and days of the year\n",
        "individual_ids = np.unique(ids).tolist()\n",
        "years_list = np.unique(years).tolist()\n",
        "days_of_year_list = np.unique(doy).tolist()\n",
        "\n",
        "# Create dropdown widgets to select individual, year, and day of the year\n",
        "individual_dropdown = widgets.Dropdown(options=individual_ids, description='Individual ID')\n",
        "year_dropdown = widgets.Dropdown(options=years_list, description='Year')\n",
        "day_of_year_dropdown = widgets.Dropdown(options=days_of_year_list, description='Day of Year')\n",
        "\n",
        "# Create interactive widgets\n",
        "widgets.interact(plot_individual_rainfall, individual_id=individual_dropdown, year=year_dropdown, day_of_year=day_of_year_dropdown)\n",
        "widgets.interact(plot_individual_windrose, individual_id=individual_dropdown, year=year_dropdown, day_of_year=day_of_year_dropdown)\n",
        "\n",
        "\n"
      ]
    },
    {
      "cell_type": "markdown",
      "metadata": {
        "id": "nMa1ma3aMqe7"
      },
      "source": [
        "Plot the above images averaged per month"
      ]
    },
    {
      "cell_type": "code",
      "execution_count": null,
      "metadata": {
        "id": "cwp01x1hpZRJ",
        "tags": [
          "hide_code"
        ]
      },
      "outputs": [],
      "source": [
        "# Step 1: Calculate the average rain per month for each year\n",
        "average_rain_per_month = {}\n",
        "for year in np.unique(years):\n",
        "    for month in range(1, 13):\n",
        "        mask = (years == year) & (months == month)\n",
        "        monthly_rain = xdata[mask].mean(axis=0)\n",
        "        if year not in average_rain_per_month:\n",
        "            average_rain_per_month[year] = {}\n",
        "        average_rain_per_month[year][month] = monthly_rain\n",
        "\n",
        "# Step 1: Calculate the overall minimum and maximum rainfall values\n",
        "min_rainfall = np.min(xdata)\n",
        "max_rainfall = np.max(xdata)\n",
        "\n",
        "# Step 2: Create rasters of average rain per month for each year\n",
        "def plot_rainfall(year, month):\n",
        "    plt.figure(figsize=(5, 3))  # Adjust the figure size here\n",
        "    plt.imshow(average_rain_per_month[year][month], cmap='viridis')#, vmin=min_rainfall, vmax=max_rainfall)  # Set colorbar limits\n",
        "    plt.title(f'Average Rainfall for {year}-{month}')\n",
        "    plt.colorbar()\n",
        "    plt.show()\n",
        "\n",
        "# Step 3: Create windrose plot for heading directions\n",
        "def plot_windrose(year, month):\n",
        "    #plt.figure(figsize=(5, 3))\n",
        "    indices = np.where((years == year) & (months == month))[0]\n",
        "    month_headings = heading_aligned[indices]\n",
        "    ax = WindroseAxes.from_ax(figsize=(6, 4))\n",
        "    ax.bar(month_headings, var=np.ones_like(month_headings), bins=np.arange(0, 360, 10), normed=True, opening=0.8, edgecolor='white')\n",
        "    ax.set_title(f'Windrose Plot for {year}-{month}')\n",
        "    plt.show()\n",
        "\n",
        "# Create interactive widgets\n",
        "year_slider = widgets.IntSlider(value=min(years), min=min(years), max=max(years), description='Year')\n",
        "month_slider = widgets.IntSlider(value=1, min=1, max=12, description='Month')\n",
        "\n",
        "widgets.interact(plot_rainfall, year=year_slider, month=month_slider)\n",
        "widgets.interact(plot_windrose, year=year_slider, month=month_slider)"
      ]
    },
    {
      "cell_type": "markdown",
      "metadata": {
        "id": "UTgB7gRWMqe8"
      },
      "source": [
        "Create a v mask to select all pixels in the heading direction of the animal"
      ]
    },
    {
      "cell_type": "code",
      "source": [
        "# Create a circle mask\n",
        "circle_mask = np.zeros((image_size, image_size))\n",
        "\n",
        "# Calculate the center of the circle\n",
        "center_x = image_size // 2\n",
        "center_y = image_size // 2\n",
        "\n",
        "# Calculate the radius of the circle\n",
        "radius = 16  # Half of the diameter (16/2)\n",
        "\n",
        "# Set pixels for the circle\n",
        "y, x = np.ogrid[-center_y:image_size-center_y, -center_x:image_size-center_x]\n",
        "mask = x**2 + y**2 <= radius**2\n",
        "circle_mask[mask] = 1\n",
        "\n",
        "\n",
        "# Visualize the combined mask\n",
        "plt.imshow(circle_mask, cmap='gray')\n",
        "plt.title('Circle Mask')\n",
        "plt.colorbar()\n",
        "plt.show()\n"
      ],
      "metadata": {
        "id": "6ymAFIvjdTEt"
      },
      "execution_count": null,
      "outputs": []
    },
    {
      "cell_type": "code",
      "source": [
        "# Create a circle mask\n",
        "circle_mask = np.zeros((image_size, image_size))\n",
        "\n",
        "# Calculate the center of the circle\n",
        "center_x = image_size // 2\n",
        "center_y = image_size // 2\n",
        "\n",
        "# Calculate the radius of the circle\n",
        "radius = image_size/2  # Half of the diameter (16/2)\n",
        "\n",
        "# Set pixels for the circle\n",
        "y, x = np.ogrid[-center_y:image_size-center_y, -center_x:image_size-center_x]\n",
        "mask = x**2 + y**2 <= radius**2\n",
        "circle_mask[mask] = 1\n",
        "\n",
        "# Create a \"V\" shape mask\n",
        "v_mask = np.zeros((image_size, image_size))\n",
        "\n",
        "# Determine the vertical center\n",
        "center_y = image_size // 2\n",
        "\n",
        "# Set pixels for the \"V\" shape\n",
        "for i in range(center_y, image_size):\n",
        "    v_mask[i, center_y - (i - center_y):center_y + (i - center_y) + 1] = 1\n",
        "\n",
        "# Flip the \"V\" shape mask vertically\n",
        "v_mask = np.flipud(v_mask)\n",
        "\n",
        "# Apply circle mask to remove areas outside the circle\n",
        "circle_v_mask = np.multiply(circle_mask, v_mask)\n",
        "\n",
        "# Visualize the combined mask\n",
        "plt.imshow(circle_v_mask, cmap='gray')\n",
        "plt.title('Combined Mask')\n",
        "plt.colorbar()\n",
        "plt.show()\n"
      ],
      "metadata": {
        "id": "ndZ7kjWKhWE-"
      },
      "execution_count": null,
      "outputs": []
    },
    {
      "cell_type": "markdown",
      "metadata": {
        "id": "sm5PTcTuMqe8"
      },
      "source": [
        "View the masked pixels to see if they are correctly selected"
      ]
    },
    {
      "cell_type": "code",
      "execution_count": null,
      "metadata": {
        "id": "JjYUTlQsMqe8"
      },
      "outputs": [],
      "source": [
        "# Choose an index for visualization\n",
        "index = 350  # You can change this to visualize different samples\n",
        "\n",
        "# Apply the mask to the image\n",
        "masked_image = xdata[index][:, :, 0] * circle_v_mask\n",
        "image = xdata[index][:, :, 0] * circle_mask\n",
        "\n",
        "# Get the minimum and maximum values for consistent color scale\n",
        "vmin = min(masked_image.min(), xdata[index][:, :, 0].min())\n",
        "vmax = max(masked_image.max(), xdata[index][:, :, 0].max())\n",
        "\n",
        "# Create a figure and subplots\n",
        "fig, axs = plt.subplots(1, 2, figsize=(10, 5))\n",
        "\n",
        "# Plot the masked pixels\n",
        "axs[0].imshow(masked_image, cmap='viridis', vmin=vmin, vmax=vmax)\n",
        "axs[0].set_title('Masked Pixels')\n",
        "\n",
        "# Plot the total pixels\n",
        "axs[1].imshow(image, cmap='viridis', vmin=vmin, vmax=vmax)\n",
        "axs[1].set_title('Total Pixels')\n",
        "\n",
        "# Create a colorbar\n",
        "cbar = fig.colorbar(axs[1].imshow(image, cmap='viridis', vmin=vmin, vmax=vmax), ax=axs, orientation='vertical')\n",
        "\n",
        "# Set the colorbar label\n",
        "cbar.set_label('Pixel Intensity')\n",
        "\n",
        "plt.show()\n",
        "\n",
        "\n"
      ]
    },
    {
      "cell_type": "markdown",
      "metadata": {
        "id": "JyVXuSV5Mqe8"
      },
      "source": [
        "Calculate the average rainfall in the \"V\" shape region for each sample and calculate the ratio between the average rainfall and the animal's movement"
      ]
    },
    {
      "cell_type": "code",
      "execution_count": null,
      "metadata": {
        "id": "Jk7NXY1HMqe8"
      },
      "outputs": [],
      "source": [
        "# Initialize lists to store the sums\n",
        "v_pixels = []\n",
        "total_pixels = []\n",
        "\n",
        "# Iterate over each image in xdata\n",
        "for image in xdata:\n",
        "    # Apply the mask to the image\n",
        "    masked_image = image[:, :, 0] * circle_v_mask\n",
        "    image = image[:, :, 0] * circle_mask\n",
        "\n",
        "    # Calculate the sum of pixels with mask value 1\n",
        "    v_pixel = np.sum(masked_image)/np.sum(circle_v_mask)\n",
        "    #v_pixel = np.mean(masked_image)/np.mean(circle_v_mask)\n",
        "\n",
        "    # Calculate the total sum of pixels for the entire image\n",
        "    total_pixel = np.sum(image)/np.sum(circle_mask)\n",
        "    #total_pixel = np.mean(image)/np.mean(circle_mask)\n",
        "\n",
        "    # Append the sums to the lists\n",
        "    v_pixels.append(v_pixel)\n",
        "    total_pixels.append(total_pixel)\n",
        "\n",
        "# Convert the lists to numpy arrays\n",
        "v_pixels = np.array(v_pixels)\n",
        "total_pixels = np.array(total_pixels)\n",
        "\n",
        "# Calculate the ratio of means pixels within the mask and total pixels for each image\n",
        "ratio = np.zeros_like(v_pixels)  # Initialize ratio array with zeros\n",
        "non_zero_mask = (total_pixels != 0) & (v_pixels != 0)  # Mask for non-zero values\n",
        "ratio[non_zero_mask] = v_pixels[non_zero_mask] / total_pixels[non_zero_mask]  # Calculate ratio where non-zero\n",
        "\n",
        "# Print the results\n",
        "print(\"Mean of pixels with mask value 1 for each image:\")\n",
        "print(v_pixels)\n",
        "print(\"\\nTotal mean of pixels for each image:\")\n",
        "print(total_pixels)\n",
        "print(\"\\nRatio of means pixels within mask and total pixels for each image:\")\n",
        "print(ratio)\n",
        "print(\"\\nAverage ratio of means pixels within mask and total pixels for each image:\")\n",
        "print(np.mean(ratio))"
      ]
    },
    {
      "cell_type": "code",
      "source": [
        "print(np.max(abs(ratio)))\n",
        "print(np.min(abs(ratio)))"
      ],
      "metadata": {
        "id": "uYjTJXSPoA6R"
      },
      "execution_count": null,
      "outputs": []
    },
    {
      "cell_type": "markdown",
      "metadata": {
        "id": "duFZCkTgMqe8"
      },
      "source": [
        "Plot the ratio over day of year for all individuals by year"
      ]
    },
    {
      "cell_type": "code",
      "execution_count": null,
      "metadata": {
        "tags": [
          "hide_code"
        ],
        "id": "bqk7cNJdMqe9"
      },
      "outputs": [],
      "source": [
        "data = pd.DataFrame({'Year': years, 'Julian Day': doy, 'Ratio': ratio})\n",
        "\n",
        "# Group the data by year and Julian day and calculate the average proportion\n",
        "grouped_data = data.groupby(['Year', 'Julian Day']).mean().reset_index()\n",
        "\n",
        "# Create traces for each year\n",
        "traces = []\n",
        "for year, group in grouped_data.groupby('Year'):\n",
        "    trace = go.Scatter(\n",
        "        x=group['Julian Day'],\n",
        "        y=group['Ratio'],\n",
        "        mode='lines',\n",
        "        name=str(year)\n",
        "    )\n",
        "    traces.append(trace)\n",
        "\n",
        "# Define layout\n",
        "layout = go.Layout(\n",
        "    title='Ratio of Mask over Total vs Julian Day by Year',\n",
        "    xaxis=dict(title='Julian Day'),\n",
        "    yaxis=dict(title='Ratio'),\n",
        "    hovermode='closest'\n",
        ")\n",
        "\n",
        "# Create figure\n",
        "fig = go.Figure(data=traces, layout=layout)\n",
        "\n",
        "# Show interactive plot\n",
        "fig.show()"
      ]
    },
    {
      "cell_type": "code",
      "source": [
        "data = pd.DataFrame({'Ratio': ratio, 'month':months, 'doys': doy})\n",
        "\n",
        "#print(data)\n",
        "grouped_data = data.groupby(['doys']).mean().reset_index()\n",
        "print(grouped_data)\n",
        "\n",
        "grouped_data.Ratio\n",
        "plt.plot(grouped_data.Ratio,'-o')"
      ],
      "metadata": {
        "id": "Qscr4_YnN7nm"
      },
      "execution_count": null,
      "outputs": []
    },
    {
      "cell_type": "markdown",
      "metadata": {
        "id": "5Ukdq9JmMqe9"
      },
      "source": [
        "Same plot as above but separated per individual"
      ]
    },
    {
      "cell_type": "code",
      "execution_count": null,
      "metadata": {
        "tags": [
          "hide_code"
        ],
        "id": "76CHLmBSMqe9"
      },
      "outputs": [],
      "source": [
        "# Create a DataFrame to store the data\n",
        "data = pd.DataFrame({'Year': years, 'Julian Day': doy, 'Ratio': ratio, 'ID': ids})\n",
        "\n",
        "# Group the data by year and Julian day and calculate the average proportion\n",
        "grouped_data = data.groupby(['Year', 'Julian Day','ID']).mean().reset_index()\n",
        "\n",
        "# Create traces for each year\n",
        "traces = []\n",
        "for year, group in grouped_data.groupby('Year'):\n",
        "    trace = go.Scatter(\n",
        "        x=group['Julian Day'],\n",
        "        y=group['Ratio'],\n",
        "        mode='lines',\n",
        "        name=str(year)\n",
        "    )\n",
        "    traces.append(trace)\n",
        "\n",
        "# Define layout\n",
        "layout = go.Layout(\n",
        "    title='Ratio of Mask over Total vs Julian Day by Year',\n",
        "    xaxis=dict(title='Julian Day'),\n",
        "    yaxis=dict(title='Ratio'),\n",
        "    hovermode='closest'\n",
        ")\n",
        "\n",
        "# Create figure\n",
        "fig = go.Figure(data=traces, layout=layout)\n",
        "\n",
        "# Define Dash app\n",
        "app = dash.Dash(__name__)\n",
        "\n",
        "# Define dropdown options\n",
        "dropdown_options = [{'label': str(id), 'value': id} for id in data['ID'].unique()]\n",
        "\n",
        "# Define app layout\n",
        "app.layout = html.Div([\n",
        "    dcc.Graph(id='graph', figure=fig),\n",
        "    html.Label('Select ID'),\n",
        "    dcc.Dropdown(\n",
        "        id='id-dropdown',\n",
        "        options=dropdown_options,\n",
        "        value=ids[0]\n",
        "    )\n",
        "])\n",
        "\n",
        "# Define callback to update graph based on dropdown value\n",
        "@app.callback(\n",
        "    dash.dependencies.Output('graph', 'figure'),\n",
        "    [dash.dependencies.Input('id-dropdown', 'value')]\n",
        ")\n",
        "def update_graph(selected_id):\n",
        "    filtered_data = grouped_data[grouped_data['ID'] == selected_id]\n",
        "    traces = []\n",
        "    for year, group in filtered_data.groupby('Year'):\n",
        "        trace = go.Scatter(\n",
        "            x=group['Julian Day'],\n",
        "            y=group['Ratio'],\n",
        "            mode='lines',\n",
        "            name=str(year)\n",
        "        )\n",
        "        traces.append(trace)\n",
        "\n",
        "    fig = go.Figure(data=traces, layout=layout)\n",
        "    return fig\n",
        "\n",
        "# Run the app\n",
        "if __name__ == '__main__':\n",
        "    app.run_server(debug=True)\n",
        "\n"
      ]
    }
  ],
  "metadata": {
    "colab": {
      "provenance": [],
      "machine_shape": "hm",
      "include_colab_link": true
    },
    "kernelspec": {
      "display_name": "Python 3",
      "name": "python3"
    },
    "language_info": {
      "codemirror_mode": {
        "name": "ipython",
        "version": 3
      },
      "file_extension": ".py",
      "mimetype": "text/x-python",
      "name": "python",
      "nbconvert_exporter": "python",
      "pygments_lexer": "ipython3",
      "version": "3.10.6"
    }
  },
  "nbformat": 4,
  "nbformat_minor": 0
}