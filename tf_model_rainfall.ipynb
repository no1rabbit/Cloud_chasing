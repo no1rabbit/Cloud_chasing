{
 "cells": [
  {
   "cell_type": "code",
   "execution_count": 1,
   "metadata": {},
   "outputs": [
    {
     "name": "stderr",
     "output_type": "stream",
     "text": [
      "2023-11-21 13:36:12.661567: I tensorflow/core/util/port.cc:111] oneDNN custom operations are on. You may see slightly different numerical results due to floating-point round-off errors from different computation orders. To turn them off, set the environment variable `TF_ENABLE_ONEDNN_OPTS=0`.\n",
      "2023-11-21 13:36:12.936668: E tensorflow/compiler/xla/stream_executor/cuda/cuda_dnn.cc:9342] Unable to register cuDNN factory: Attempting to register factory for plugin cuDNN when one has already been registered\n",
      "2023-11-21 13:36:12.936726: E tensorflow/compiler/xla/stream_executor/cuda/cuda_fft.cc:609] Unable to register cuFFT factory: Attempting to register factory for plugin cuFFT when one has already been registered\n",
      "2023-11-21 13:36:12.937063: E tensorflow/compiler/xla/stream_executor/cuda/cuda_blas.cc:1518] Unable to register cuBLAS factory: Attempting to register factory for plugin cuBLAS when one has already been registered\n",
      "2023-11-21 13:36:13.015625: I tensorflow/core/platform/cpu_feature_guard.cc:182] This TensorFlow binary is optimized to use available CPU instructions in performance-critical operations.\n",
      "To enable the following instructions: AVX2 AVX_VNNI FMA, in other operations, rebuild TensorFlow with the appropriate compiler flags.\n"
     ]
    },
    {
     "name": "stdout",
     "output_type": "stream",
     "text": [
      "2.14.1\n",
      "[PhysicalDevice(name='/physical_device:GPU:0', device_type='GPU')]\n"
     ]
    },
    {
     "name": "stderr",
     "output_type": "stream",
     "text": [
      "2023-11-21 13:36:19.516955: I tensorflow/compiler/xla/stream_executor/cuda/cuda_gpu_executor.cc:880] could not open file to read NUMA node: /sys/bus/pci/devices/0000:01:00.0/numa_node\n",
      "Your kernel may have been built without NUMA support.\n",
      "2023-11-21 13:36:19.607396: I tensorflow/compiler/xla/stream_executor/cuda/cuda_gpu_executor.cc:880] could not open file to read NUMA node: /sys/bus/pci/devices/0000:01:00.0/numa_node\n",
      "Your kernel may have been built without NUMA support.\n",
      "2023-11-21 13:36:19.607459: I tensorflow/compiler/xla/stream_executor/cuda/cuda_gpu_executor.cc:880] could not open file to read NUMA node: /sys/bus/pci/devices/0000:01:00.0/numa_node\n",
      "Your kernel may have been built without NUMA support.\n"
     ]
    }
   ],
   "source": [
    "import tensorflow as tf\n",
    "print(tf.__version__)\n",
    "print(tf.config.list_physical_devices('GPU'))"
   ]
  },
  {
   "cell_type": "markdown",
   "metadata": {},
   "source": [
    "Step 1: Load Rainfall Images and GPS Data"
   ]
  },
  {
   "cell_type": "code",
   "execution_count": 2,
   "metadata": {},
   "outputs": [
    {
     "name": "stdout",
     "output_type": "stream",
     "text": [
      "          ID          x1_          x2_          y1_          y2_          sl_  \\\n",
      "27368  SW100  685184.3605  680764.8743  9723333.494  9724120.192  4488.958901   \n",
      "27379  SW100  680764.8743  674933.7549  9724120.192  9728178.122  7104.136073   \n",
      "27390  SW100  674933.7549  675019.5210  9728178.122  9727439.122   743.960230   \n",
      "27401  SW100  675019.5210  673586.9019  9727439.122  9726742.822  1592.868851   \n",
      "27412  SW100  673586.9019  669799.8705  9726742.822  9723233.359  5163.132516   \n",
      "\n",
      "            ta_ species       lat       long  ... case_ step_id_   cos_ta_  \\\n",
      "27368 -0.341631      WB -2.504718  34.666306  ...  True        3  0.942210   \n",
      "27379 -0.431814      WB -2.497654  34.626559  ...  True        4  0.908208   \n",
      "27390  2.294312      WB -2.461019  34.574084  ...  True        5 -0.662023   \n",
      "27401 -1.233925      WB -2.467701  34.574863  ...  True        6  0.330536   \n",
      "27412  0.294964      WB -2.474014  34.561989  ...  True        7  0.956813   \n",
      "\n",
      "        log_sl_ sl_dist_shape  sl_dist_scale ta_dist_kappa ta_dist_mu  \\\n",
      "27368  8.409376      0.818046    5021.951243       0.78471          0   \n",
      "27379  8.868432      0.818046    5021.951243       0.78471          0   \n",
      "27390  6.611988      0.818046    5021.951243       0.78471          0   \n",
      "27401  7.373292      0.818046    5021.951243       0.78471          0   \n",
      "27412  8.549299      0.818046    5021.951243       0.78471          0   \n",
      "\n",
      "             sp_m      cta_  \n",
      "27368  WB_migrant  0.942210  \n",
      "27379  WB_migrant  0.908208  \n",
      "27390  WB_migrant -0.662023  \n",
      "27401  WB_migrant  0.330536  \n",
      "27412  WB_migrant  0.956813  \n",
      "\n",
      "[5 rows x 30 columns]\n"
     ]
    }
   ],
   "source": [
    "from math import cos\n",
    "import os\n",
    "from PIL import Image\n",
    "import pandas as pd\n",
    "import numpy as np\n",
    "\n",
    "# Define paths to your data\n",
    "images_folder = 'data/output_images/WB_migrant'\n",
    "gps_file = 'data/Serengeti_all.csv'\n",
    "\n",
    "# Load GPS data\n",
    "gps_data = pd.read_csv(gps_file)\n",
    "gps_data = gps_data[gps_data['case_'] == True]\n",
    "gps_data['sp_m'] = gps_data['species'] + '_' + gps_data['migrant'].astype(str)\n",
    "gps_data = gps_data[gps_data['sp_m'] == 'WB_migrant']\n",
    "#gps_data['cta_'] = np.cos(gps_data['ta_'])\n",
    "\n",
    "# Display the first few rows of the GPS data\n",
    "print(gps_data.head())\n",
    "\n",
    "# Create an empty list to store image-GPS pairs\n",
    "data = []\n",
    "\n",
    "# Load images and corresponding GPS data\n",
    "for index, row in gps_data.iterrows():\n",
    "    image_path = os.path.join(images_folder, f\"image_{index}.jpg\")  # Assuming images are named with corresponding indices\n",
    "    image = Image.open(image_path)\n",
    "    gps_info = row[['x1_', 'y1_']].tolist()\n",
    "    data.append((image, gps_info))\n",
    "\n"
   ]
  },
  {
   "cell_type": "markdown",
   "metadata": {},
   "source": [
    "Step 2: Preprocess Images and Combine with GPS Data"
   ]
  },
  {
   "cell_type": "code",
   "execution_count": null,
   "metadata": {},
   "outputs": [],
   "source": [
    "data"
   ]
  },
  {
   "cell_type": "code",
   "execution_count": 3,
   "metadata": {},
   "outputs": [],
   "source": [
    "# Resize and normalize images\n",
    "data = [(np.array(image.resize((32, 32))) / 255.0, gps_info) for image, gps_info in data]\n",
    "\n",
    "# Separate data back into images and GPS information\n",
    "X_images = np.array([item[0] for item in data])\n",
    "X_gps = np.array([item[1] for item in data])\n",
    "\n",
    "# Assuming 'gps_lat' and 'gps_lon' are the columns for latitude and longitude\n",
    "y_gps_x = gps_data['x1_'].values\n",
    "y_gps_y = gps_data['y1_'].values\n",
    "\n"
   ]
  },
  {
   "cell_type": "code",
   "execution_count": null,
   "metadata": {},
   "outputs": [],
   "source": [
    "X_images"
   ]
  },
  {
   "cell_type": "markdown",
   "metadata": {},
   "source": [
    "View the first 9 images"
   ]
  },
  {
   "cell_type": "code",
   "execution_count": 4,
   "metadata": {},
   "outputs": [
    {
     "data": {
      "image/png": "[encoded data removed]",
      "text/plain": [
       "<Figure size 640x480 with 9 Axes>"
      ]
     },
     "metadata": {},
     "output_type": "display_data"
    }
   ],
   "source": [
    "import matplotlib.pyplot as plt\n",
    "\n",
    "# Assuming X_images is a numpy array containing the images\n",
    "for i in range(min(9, X_images.shape[0])):\n",
    "    plt.subplot(3, 3, i + 1)\n",
    "    plt.imshow(X_images[i], cmap='gray')  # Assuming images are grayscale\n",
    "    plt.title(f\"Image {i + 1}\")\n",
    "    plt.axis('off')\n",
    "\n",
    "plt.tight_layout()\n",
    "plt.show()\n",
    "\n"
   ]
  },
  {
   "cell_type": "code",
   "execution_count": 6,
   "metadata": {},
   "outputs": [
    {
     "name": "stdout",
     "output_type": "stream",
     "text": [
      "Training set shapes - X_images_train: (26531, 32, 32) y_turning_angles_train: (26531,) y_gps_x_train: (26531,) y_gps_y_train: (26531,)\n",
      "Testing set shapes - X_images_test: (6633, 32, 32) y_turning_angles_test: (6633,) y_gps_x_test: (6633,) y_gps_y_test: (6633,)\n"
     ]
    }
   ],
   "source": [
    "# Split the data into training and testing sets\n",
    "from sklearn.model_selection import train_test_split\n",
    "\n",
    "X_images_train, X_images_test, X_gps_train, X_gps_test, y_gps_x_train, y_gps_x_test, y_gps_y_train, y_gps_y_test = train_test_split(X_images, X_gps, y_turning_angles, y_gps_x, y_gps_y, test_size=0.2, random_state=42)\n",
    "\n",
    "# Display the shapes of the resulting datasets\n",
    "print(\"Training set shapes - X_images_train:\", X_images_train.shape, \"y_gps_x_train:\", y_gps_x_train.shape, \"y_gps_y_train:\", y_gps_x_train.shape )\n",
    "print(\"Testing set shapes - X_images_test:\", X_images_test.shape, \"y_gps_x_test:\", y_gps_x_test.shape, \"y_gps_y_test:\", y_gps_x_test.shape)\n",
    "\n"
   ]
  },
  {
   "cell_type": "markdown",
   "metadata": {},
   "source": [
    "Step 3: Model-Specific Preprocessing"
   ]
  },
  {
   "cell_type": "code",
   "execution_count": 7,
   "metadata": {},
   "outputs": [
    {
     "name": "stderr",
     "output_type": "stream",
     "text": [
      "2023-11-21 13:42:50.693155: I tensorflow/compiler/xla/stream_executor/cuda/cuda_gpu_executor.cc:880] could not open file to read NUMA node: /sys/bus/pci/devices/0000:01:00.0/numa_node\n",
      "Your kernel may have been built without NUMA support.\n",
      "2023-11-21 13:42:50.693262: I tensorflow/compiler/xla/stream_executor/cuda/cuda_gpu_executor.cc:880] could not open file to read NUMA node: /sys/bus/pci/devices/0000:01:00.0/numa_node\n",
      "Your kernel may have been built without NUMA support.\n",
      "2023-11-21 13:42:50.693278: I tensorflow/compiler/xla/stream_executor/cuda/cuda_gpu_executor.cc:880] could not open file to read NUMA node: /sys/bus/pci/devices/0000:01:00.0/numa_node\n",
      "Your kernel may have been built without NUMA support.\n",
      "2023-11-21 13:42:51.992830: I tensorflow/compiler/xla/stream_executor/cuda/cuda_gpu_executor.cc:880] could not open file to read NUMA node: /sys/bus/pci/devices/0000:01:00.0/numa_node\n",
      "Your kernel may have been built without NUMA support.\n",
      "2023-11-21 13:42:51.992908: I tensorflow/compiler/xla/stream_executor/cuda/cuda_gpu_executor.cc:880] could not open file to read NUMA node: /sys/bus/pci/devices/0000:01:00.0/numa_node\n",
      "Your kernel may have been built without NUMA support.\n",
      "2023-11-21 13:42:51.992926: I tensorflow/core/common_runtime/gpu/gpu_device.cc:1977] Could not identify NUMA node of platform GPU id 0, defaulting to 0.  Your kernel may not have been built with NUMA support.\n",
      "2023-11-21 13:42:51.992960: I tensorflow/compiler/xla/stream_executor/cuda/cuda_gpu_executor.cc:880] could not open file to read NUMA node: /sys/bus/pci/devices/0000:01:00.0/numa_node\n",
      "Your kernel may have been built without NUMA support.\n",
      "2023-11-21 13:42:51.993011: I tensorflow/core/common_runtime/gpu/gpu_device.cc:1886] Created device /job:localhost/replica:0/task:0/device:GPU:0 with 1171 MB memory:  -> device: 0, name: NVIDIA GeForce MX550, pci bus id: 0000:01:00.0, compute capability: 7.5\n"
     ]
    }
   ],
   "source": [
    "from tensorflow.keras import layers, models\n",
    "\n",
    "# Define your model\n",
    "image_input = layers.Input(shape=(32, 32, 1), name='image_input')\n",
    "gps_input = layers.Input(shape=(2,), name='gps_input')\n",
    "\n",
    "# Image processing branch\n",
    "x = layers.Conv2D(32, (3, 3), activation='relu')(image_input)\n",
    "x = layers.MaxPooling2D((2, 2))(x)\n",
    "x = layers.Flatten()(x)\n",
    "x = layers.Dense(64, activation='relu')(x)\n",
    "\n",
    "# GPS information processing branch\n",
    "y = layers.Dense(64, activation='relu')(gps_input)\n",
    "\n",
    "# Combine the branches\n",
    "combined = layers.concatenate([x, y])\n",
    "\n",
    "# Output layer for turning angle prediction\n",
    "gps_output = layers.Dense(2, activation='linear', name='gps_output')(combined)  # Assuming 2 coordinates (latitude, longitude)\n",
    "\n",
    "\n",
    "# Define the model with multiple inputs\n",
    "#model = models.Model(inputs=[image_input, gps_input], outputs=output)\n",
    "model = models.Model(inputs=[image_input, gps_input], outputs=[gps_output])"
   ]
  },
  {
   "cell_type": "code",
   "execution_count": 8,
   "metadata": {},
   "outputs": [
    {
     "name": "stdout",
     "output_type": "stream",
     "text": [
      "Model: \"model\"\n",
      "__________________________________________________________________________________________________\n",
      " Layer (type)                Output Shape                 Param #   Connected to                  \n",
      "==================================================================================================\n",
      " image_input (InputLayer)    [(None, 32, 32, 1)]          0         []                            \n",
      "                                                                                                  \n",
      " conv2d (Conv2D)             (None, 30, 30, 32)           320       ['image_input[0][0]']         \n",
      "                                                                                                  \n",
      " max_pooling2d (MaxPooling2  (None, 15, 15, 32)           0         ['conv2d[0][0]']              \n",
      " D)                                                                                               \n",
      "                                                                                                  \n",
      " flatten (Flatten)           (None, 7200)                 0         ['max_pooling2d[0][0]']       \n",
      "                                                                                                  \n",
      " gps_input (InputLayer)      [(None, 3)]                  0         []                            \n",
      "                                                                                                  \n",
      " dense (Dense)               (None, 64)                   460864    ['flatten[0][0]']             \n",
      "                                                                                                  \n",
      " dense_1 (Dense)             (None, 64)                   256       ['gps_input[0][0]']           \n",
      "                                                                                                  \n",
      " concatenate (Concatenate)   (None, 128)                  0         ['dense[0][0]',               \n",
      "                                                                     'dense_1[0][0]']             \n",
      "                                                                                                  \n",
      " turning_angle_output (Dens  (None, 1)                    129       ['concatenate[0][0]']         \n",
      " e)                                                                                               \n",
      "                                                                                                  \n",
      " gps_output (Dense)          (None, 2)                    258       ['concatenate[0][0]']         \n",
      "                                                                                                  \n",
      "==================================================================================================\n",
      "Total params: 461827 (1.76 MB)\n",
      "Trainable params: 461827 (1.76 MB)\n",
      "Non-trainable params: 0 (0.00 Byte)\n",
      "__________________________________________________________________________________________________\n"
     ]
    }
   ],
   "source": [
    "from tensorflow.keras.optimizers import Adam\n",
    "from tensorflow.keras.callbacks import LearningRateScheduler\n",
    "\n",
    "# Define a learning rate decay function\n",
    "def learning_rate_scheduler(epoch, lr):\n",
    "    return lr * 0.95  # Adjust the decay factor as needed\n",
    "\n",
    "# Create a learning rate scheduler\n",
    "lr_scheduler = LearningRateScheduler(learning_rate_scheduler)\n",
    "\n",
    "# Compile the model with an initial learning rate\n",
    "initial_learning_rate = 0.001\n",
    "opt = Adam(learning_rate=initial_learning_rate)\n",
    "\n",
    "model.compile(optimizer=opt, loss={'gps_output': 'mean_squared_error'}, metrics={'gps_output': 'mae'})\n",
    "\n",
    "# Display the model summary\n",
    "model.summary()\n",
    "\n",
    "#\n"
   ]
  },
  {
   "cell_type": "markdown",
   "metadata": {},
   "source": [
    "Step 4: Model Training"
   ]
  },
  {
   "cell_type": "code",
   "execution_count": 10,
   "metadata": {},
   "outputs": [
    {
     "name": "stdout",
     "output_type": "stream",
     "text": [
      "Epoch 1/10\n"
     ]
    },
    {
     "name": "stderr",
     "output_type": "stream",
     "text": [
      "2023-11-21 13:43:39.702627: I tensorflow/compiler/xla/stream_executor/cuda/cuda_dnn.cc:442] Loaded cuDNN version 8700\n",
      "2023-11-21 13:43:40.059780: I tensorflow/tsl/platform/default/subprocess.cc:304] Start cannot spawn child process: No such file or directory\n",
      "2023-11-21 13:43:41.720562: I tensorflow/tsl/platform/default/subprocess.cc:304] Start cannot spawn child process: No such file or directory\n",
      "2023-11-21 13:43:42.362085: I tensorflow/compiler/xla/service/service.cc:168] XLA service 0x7fbf0802d010 initialized for platform CUDA (this does not guarantee that XLA will be used). Devices:\n",
      "2023-11-21 13:43:42.362138: I tensorflow/compiler/xla/service/service.cc:176]   StreamExecutor device (0): NVIDIA GeForce MX550, Compute Capability 7.5\n",
      "2023-11-21 13:43:42.372905: I tensorflow/compiler/mlir/tensorflow/utils/dump_mlir_util.cc:269] disabling MLIR crash reproducer, set env var `MLIR_CRASH_REPRODUCER_DIRECTORY` to enable.\n",
      "2023-11-21 13:43:42.462048: I ./tensorflow/compiler/jit/device_compiler.h:186] Compiled cluster using XLA!  This line is logged at most once for the lifetime of the process.\n"
     ]
    },
    {
     "name": "stdout",
     "output_type": "stream",
     "text": [
      "830/830 [==============================] - 25s 24ms/step - loss: 2036521500672.0000 - turning_angle_output_loss: 124088440.0000 - gps_output_loss: 2036397768704.0000 - turning_angle_output_mae: 6801.6289 - gps_output_mae: 376597.0625 - val_loss: 682750464.0000 - val_turning_angle_output_loss: 45825236.0000 - val_gps_output_loss: 636925056.0000 - val_turning_angle_output_mae: 5100.0947 - val_gps_output_mae: 15986.3154 - lr: 9.5000e-04\n",
      "Epoch 2/10\n",
      "830/830 [==============================] - 19s 23ms/step - loss: 657709056.0000 - turning_angle_output_loss: 47898644.0000 - gps_output_loss: 609811136.0000 - turning_angle_output_mae: 5465.3965 - gps_output_mae: 16003.8574 - val_loss: 652601088.0000 - val_turning_angle_output_loss: 47719916.0000 - val_gps_output_loss: 604881344.0000 - val_turning_angle_output_mae: 5199.1104 - val_gps_output_mae: 15768.0000 - lr: 9.0250e-04\n",
      "Epoch 3/10\n",
      "830/830 [==============================] - 21s 25ms/step - loss: 627587712.0000 - turning_angle_output_loss: 39111812.0000 - gps_output_loss: 588476160.0000 - turning_angle_output_mae: 4957.3984 - gps_output_mae: 15746.9971 - val_loss: 699567232.0000 - val_turning_angle_output_loss: 75654328.0000 - val_gps_output_loss: 623912768.0000 - val_turning_angle_output_mae: 7322.7642 - val_gps_output_mae: 15629.6455 - lr: 8.5737e-04\n",
      "Epoch 4/10\n",
      "830/830 [==============================] - 21s 25ms/step - loss: 593757248.0000 - turning_angle_output_loss: 34210120.0000 - gps_output_loss: 559547328.0000 - turning_angle_output_mae: 4646.4111 - gps_output_mae: 15395.0264 - val_loss: 614858432.0000 - val_turning_angle_output_loss: 69209016.0000 - val_gps_output_loss: 545649408.0000 - val_turning_angle_output_mae: 7187.7769 - val_gps_output_mae: 14913.4541 - lr: 8.1451e-04\n",
      "Epoch 5/10\n",
      "830/830 [==============================] - 21s 25ms/step - loss: 548207872.0000 - turning_angle_output_loss: 23480028.0000 - gps_output_loss: 524727584.0000 - turning_angle_output_mae: 3832.6116 - gps_output_mae: 14927.9727 - val_loss: 522034688.0000 - val_turning_angle_output_loss: 39187104.0000 - val_gps_output_loss: 482847744.0000 - val_turning_angle_output_mae: 5159.5195 - val_gps_output_mae: 14307.2119 - lr: 7.7378e-04\n",
      "Epoch 6/10\n",
      "830/830 [==============================] - 20s 24ms/step - loss: 492079232.0000 - turning_angle_output_loss: 21621530.0000 - gps_output_loss: 470457280.0000 - turning_angle_output_mae: 3677.7935 - gps_output_mae: 14226.3359 - val_loss: 608512512.0000 - val_turning_angle_output_loss: 70178800.0000 - val_gps_output_loss: 538333888.0000 - val_turning_angle_output_mae: 7686.8174 - val_gps_output_mae: 16034.0156 - lr: 7.3509e-04\n",
      "Epoch 7/10\n",
      "830/830 [==============================] - 22s 27ms/step - loss: 418273088.0000 - turning_angle_output_loss: 14750731.0000 - gps_output_loss: 403522016.0000 - turning_angle_output_mae: 3043.6765 - gps_output_mae: 13286.8447 - val_loss: 377304128.0000 - val_turning_angle_output_loss: 8992038.0000 - val_gps_output_loss: 368312128.0000 - val_turning_angle_output_mae: 2289.4199 - val_gps_output_mae: 12558.0127 - lr: 6.9834e-04\n",
      "Epoch 8/10\n",
      "830/830 [==============================] - 22s 26ms/step - loss: 345661696.0000 - turning_angle_output_loss: 10735521.0000 - gps_output_loss: 334926240.0000 - turning_angle_output_mae: 2602.9143 - gps_output_mae: 12237.3301 - val_loss: 356895456.0000 - val_turning_angle_output_loss: 7032776.5000 - val_gps_output_loss: 349862688.0000 - val_turning_angle_output_mae: 2208.3347 - val_gps_output_mae: 13096.0938 - lr: 6.6342e-04\n",
      "Epoch 9/10\n",
      "830/830 [==============================] - 19s 23ms/step - loss: 269082784.0000 - turning_angle_output_loss: 8149321.0000 - gps_output_loss: 260933504.0000 - turning_angle_output_mae: 2266.9514 - gps_output_mae: 10929.7051 - val_loss: 213877120.0000 - val_turning_angle_output_loss: 4825631.5000 - val_gps_output_loss: 209051488.0000 - val_turning_angle_output_mae: 1838.3558 - val_gps_output_mae: 10390.5869 - lr: 6.3025e-04\n",
      "Epoch 10/10\n",
      "830/830 [==============================] - 17s 21ms/step - loss: 188626688.0000 - turning_angle_output_loss: 5867615.5000 - gps_output_loss: 182759040.0000 - turning_angle_output_mae: 1914.8606 - gps_output_mae: 9263.7969 - val_loss: 146266288.0000 - val_turning_angle_output_loss: 7280489.0000 - val_gps_output_loss: 138985776.0000 - val_turning_angle_output_mae: 2288.1304 - val_gps_output_mae: 8418.8955 - lr: 5.9874e-04\n"
     ]
    },
    {
     "data": {
      "text/plain": [
       "<keras.src.callbacks.History at 0x7fbfe7a5d3f0>"
      ]
     },
     "execution_count": 10,
     "metadata": {},
     "output_type": "execute_result"
    }
   ],
   "source": [
    "# Train the model with learning rate decay\n",
    "model.fit([X_images_train, X_gps_train], {'gps_output': np.column_stack((y_gps_x_train, y_gps_y_train))}, \n",
    "          epochs=10, validation_data=([X_images_test, X_gps_test], {'gps_output': np.column_stack((y_gps_x_test, y_gps_y_test))}),\n",
    "          callbacks=[lr_scheduler])"
   ]
  },
  {
   "cell_type": "markdown",
   "metadata": {},
   "source": [
    "Step 5: Model Evaluation"
   ]
  },
  {
   "cell_type": "code",
   "execution_count": 12,
   "metadata": {},
   "outputs": [
    {
     "name": "stdout",
     "output_type": "stream",
     "text": [
      "208/208 [==============================] - 2s 10ms/step - loss: 146266288.0000 - turning_angle_output_loss: 7280489.0000 - gps_output_loss: 138985776.0000 - turning_angle_output_mae: 2288.1304 - gps_output_mae: 8418.8955\n",
      "Test Total Loss: 146266288.0\n",
      "Test Turning Angle Loss: 7280489.0\n",
      "Test GPS Loss: 138985776.0\n"
     ]
    }
   ],
   "source": [
    "# Evaluate the model on the test set\n",
    "losses = model.evaluate([X_images_test, X_gps_test], {'gps_output': np.column_stack((y_gps_x_test, y_gps_y_test))})\n",
    "\n",
    "# Extract individual losses\n",
    "total_loss = losses[0]\n",
    "gps_loss = losses[1]\n",
    "\n",
    "print(f'Test Total Loss: {total_loss}')\n",
    "print(f'Test GPS Loss: {gps_loss}')\n"
   ]
  }
 ],
 "metadata": {
  "kernelspec": {
   "display_name": "cloud-env",
   "language": "python",
   "name": "python3"
  },
  "language_info": {
   "codemirror_mode": {
    "name": "ipython",
    "version": 3
   },
   "file_extension": ".py",
   "mimetype": "text/x-python",
   "name": "python",
   "nbconvert_exporter": "python",
   "pygments_lexer": "ipython3",
   "version": "3.10.12"
  }
 },
 "nbformat": 4,
 "nbformat_minor": 2
}
