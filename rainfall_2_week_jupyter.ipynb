{
  "cells": [
    {
      "cell_type": "markdown",
      "metadata": {
        "id": "view-in-github",
        "colab_type": "text"
      },
      "source": [
        "<a href=\"https://colab.research.google.com/github/no1rabbit/Cloud_chasing/blob/main/rainfall_2_week_jupyter.ipynb\" target=\"_parent\"><img src=\"https://colab.research.google.com/assets/colab-badge.svg\" alt=\"Open In Colab\"/></a>"
      ]
    },
    {
      "cell_type": "code",
      "execution_count": 1,
      "metadata": {
        "colab": {
          "base_uri": "https://localhost:8080/"
        },
        "id": "riYRswP_-gW9",
        "outputId": "856c8da3-83ed-4d2b-cfc5-fc3791a21202"
      },
      "outputs": [
        {
          "output_type": "stream",
          "name": "stdout",
          "text": [
            "2.14.0\n",
            "[PhysicalDevice(name='/physical_device:GPU:0', device_type='GPU')]\n"
          ]
        }
      ],
      "source": [
        "#import os\n",
        "#os.environ[\"CUDA_VISIBLE_DEVICES\"] = \"-1\"\n",
        "\n",
        "# Now import TensorFlow and it will use CPU\n",
        "import tensorflow as tf\n",
        "\n",
        "print(tf.__version__)\n",
        "print(tf.config.list_physical_devices('GPU'))\n",
        "\n",
        "from math import cos\n",
        "from tqdm import tqdm\n",
        "import os\n",
        "import xarray as xr\n",
        "import pandas as pd\n",
        "import numpy as np\n",
        "import matplotlib.pyplot as plt\n",
        "\n",
        "# view all the entire dataset not truncated\n",
        "pd.set_option('display.max_rows', None)\n",
        "pd.set_option('display.max_columns', None)"
      ]
    },
    {
      "cell_type": "code",
      "source": [
        "from google.colab import drive\n",
        "drive.mount('/content/drive')"
      ],
      "metadata": {
        "colab": {
          "base_uri": "https://localhost:8080/"
        },
        "id": "vcFBPl3n-9wa",
        "outputId": "42bd8cb8-5a0e-4b0f-c2e7-c3f209edf6d9"
      },
      "execution_count": 2,
      "outputs": [
        {
          "output_type": "stream",
          "name": "stdout",
          "text": [
            "Drive already mounted at /content/drive; to attempt to forcibly remount, call drive.mount(\"/content/drive\", force_remount=True).\n"
          ]
        }
      ]
    },
    {
      "cell_type": "code",
      "execution_count": 3,
      "metadata": {
        "id": "ONbNyqJs-gW_"
      },
      "outputs": [],
      "source": [
        "# Define paths to your data\n",
        "gps_file = '/content/drive/MyDrive/Cloud data/Serengeti_HMM.csv'\n",
        "\n",
        "# Load GPS data\n",
        "gps_data = pd.read_csv(gps_file)\n",
        "gps_data = gps_data[gps_data['case_'] == True]\n",
        "gps_data['sp_m'] = gps_data['species'] + '_' + gps_data['migrant'].astype(str)\n",
        "gps_data = gps_data[gps_data['sp_m'] == 'WB_migrant']\n",
        "gps_data['date1'] = pd.to_datetime(gps_data['date'])\n",
        "gps_data['date'] = gps_data['date1'].dt.date\n",
        "gps_data['month'] = gps_data['date1'].dt.month\n",
        "\n",
        "gps_data = gps_data.sort_values(by=['ID','date'])"
      ]
    },
    {
      "cell_type": "code",
      "execution_count": 6,
      "metadata": {
        "colab": {
          "base_uri": "https://localhost:8080/",
          "height": 399
        },
        "id": "cOGa5rxj-gW_",
        "outputId": "d00680af-2d22-45a6-af48-976a5cf4521a"
      },
      "outputs": [
        {
          "output_type": "execute_result",
          "data": {
            "text/plain": [
              "       ID          x1_          x2_          y1_          y2_          sl_  \\\n",
              "0   SW100  680764.8743  674933.7549  9724120.192  9728178.122  7104.136073   \n",
              "11  SW100  674933.7549  675019.5210  9728178.122  9727439.122   743.960230   \n",
              "22  SW100  675019.5210  673586.9019  9727439.122  9726742.822  1592.868851   \n",
              "33  SW100  673586.9019  669799.8705  9726742.822  9723233.359  5163.132516   \n",
              "44  SW100  669799.8705  666982.3274  9723233.359  9716497.189  7301.680313   \n",
              "\n",
              "         ta_ species  migrant        date         x          y sex dailystate  \\\n",
              "0  -0.431814      WB  migrant  2021-12-13 -2.497654  34.626559   F  migrating   \n",
              "11  2.294312      WB  migrant  2021-12-14 -2.461019  34.574084   F   encamped   \n",
              "22 -1.233925      WB  migrant  2021-12-15 -2.467701  34.574863   F   encamped   \n",
              "33  0.294964      WB  migrant  2021-12-16 -2.474014  34.561989   F  migrating   \n",
              "44  0.427264      WB  migrant  2021-12-17 -2.505793  34.527973   F  migrating   \n",
              "\n",
              "    year months     mon2                 season  burst_                   t1_  \\\n",
              "0   2021    Dec  Dec-Jan  Dry to Wet transition       1  2021-12-13T07:30:00Z   \n",
              "11  2021    Dec  Dec-Jan  Dry to Wet transition       1  2021-12-14T07:30:00Z   \n",
              "22  2021    Dec  Dec-Jan  Dry to Wet transition       1  2021-12-15T07:30:00Z   \n",
              "33  2021    Dec  Dec-Jan  Dry to Wet transition       1  2021-12-16T07:30:00Z   \n",
              "44  2021    Dec  Dec-Jan  Dry to Wet transition       1  2021-12-17T07:30:00Z   \n",
              "\n",
              "                     t2_    dt_  case_  step_id_   cos_ta_   log_sl_  \\\n",
              "0   2021-12-14T07:30:00Z  86400   True         3  0.908208  8.868432   \n",
              "11  2021-12-15T07:30:00Z  86400   True         4 -0.662023  6.611988   \n",
              "22  2021-12-16T07:30:00Z  86400   True         5  0.330536  7.373292   \n",
              "33  2021-12-17T07:30:00Z  86400   True         6  0.956813  8.549299   \n",
              "44  2021-12-18T07:30:00Z  86400   True         7  0.910103  8.895860   \n",
              "\n",
              "    sl_dist_shape  sl_dist_scale  ta_dist_kappa  ta_dist_mu        sp_m  \\\n",
              "0        0.810685    5075.168409       0.777039           0  WB_migrant   \n",
              "11       0.810685    5075.168409       0.777039           0  WB_migrant   \n",
              "22       0.810685    5075.168409       0.777039           0  WB_migrant   \n",
              "33       0.810685    5075.168409       0.777039           0  WB_migrant   \n",
              "44       0.810685    5075.168409       0.777039           0  WB_migrant   \n",
              "\n",
              "        date1  month  \n",
              "0  2021-12-13     12  \n",
              "11 2021-12-14     12  \n",
              "22 2021-12-15     12  \n",
              "33 2021-12-16     12  \n",
              "44 2021-12-17     12  "
            ],
            "text/html": [
              "\n",
              "  <div id=\"df-fa270c28-e286-446c-9dda-fa52f22e0d8b\" class=\"colab-df-container\">\n",
              "    <div>\n",
              "<style scoped>\n",
              "    .dataframe tbody tr th:only-of-type {\n",
              "        vertical-align: middle;\n",
              "    }\n",
              "\n",
              "    .dataframe tbody tr th {\n",
              "        vertical-align: top;\n",
              "    }\n",
              "\n",
              "    .dataframe thead th {\n",
              "        text-align: right;\n",
              "    }\n",
              "</style>\n",
              "<table border=\"1\" class=\"dataframe\">\n",
              "  <thead>\n",
              "    <tr style=\"text-align: right;\">\n",
              "      <th></th>\n",
              "      <th>ID</th>\n",
              "      <th>x1_</th>\n",
              "      <th>x2_</th>\n",
              "      <th>y1_</th>\n",
              "      <th>y2_</th>\n",
              "      <th>sl_</th>\n",
              "      <th>ta_</th>\n",
              "      <th>species</th>\n",
              "      <th>migrant</th>\n",
              "      <th>date</th>\n",
              "      <th>x</th>\n",
              "      <th>y</th>\n",
              "      <th>sex</th>\n",
              "      <th>dailystate</th>\n",
              "      <th>year</th>\n",
              "      <th>months</th>\n",
              "      <th>mon2</th>\n",
              "      <th>season</th>\n",
              "      <th>burst_</th>\n",
              "      <th>t1_</th>\n",
              "      <th>t2_</th>\n",
              "      <th>dt_</th>\n",
              "      <th>case_</th>\n",
              "      <th>step_id_</th>\n",
              "      <th>cos_ta_</th>\n",
              "      <th>log_sl_</th>\n",
              "      <th>sl_dist_shape</th>\n",
              "      <th>sl_dist_scale</th>\n",
              "      <th>ta_dist_kappa</th>\n",
              "      <th>ta_dist_mu</th>\n",
              "      <th>sp_m</th>\n",
              "      <th>date1</th>\n",
              "      <th>month</th>\n",
              "    </tr>\n",
              "  </thead>\n",
              "  <tbody>\n",
              "    <tr>\n",
              "      <th>0</th>\n",
              "      <td>SW100</td>\n",
              "      <td>680764.8743</td>\n",
              "      <td>674933.7549</td>\n",
              "      <td>9724120.192</td>\n",
              "      <td>9728178.122</td>\n",
              "      <td>7104.136073</td>\n",
              "      <td>-0.431814</td>\n",
              "      <td>WB</td>\n",
              "      <td>migrant</td>\n",
              "      <td>2021-12-13</td>\n",
              "      <td>-2.497654</td>\n",
              "      <td>34.626559</td>\n",
              "      <td>F</td>\n",
              "      <td>migrating</td>\n",
              "      <td>2021</td>\n",
              "      <td>Dec</td>\n",
              "      <td>Dec-Jan</td>\n",
              "      <td>Dry to Wet transition</td>\n",
              "      <td>1</td>\n",
              "      <td>2021-12-13T07:30:00Z</td>\n",
              "      <td>2021-12-14T07:30:00Z</td>\n",
              "      <td>86400</td>\n",
              "      <td>True</td>\n",
              "      <td>3</td>\n",
              "      <td>0.908208</td>\n",
              "      <td>8.868432</td>\n",
              "      <td>0.810685</td>\n",
              "      <td>5075.168409</td>\n",
              "      <td>0.777039</td>\n",
              "      <td>0</td>\n",
              "      <td>WB_migrant</td>\n",
              "      <td>2021-12-13</td>\n",
              "      <td>12</td>\n",
              "    </tr>\n",
              "    <tr>\n",
              "      <th>11</th>\n",
              "      <td>SW100</td>\n",
              "      <td>674933.7549</td>\n",
              "      <td>675019.5210</td>\n",
              "      <td>9728178.122</td>\n",
              "      <td>9727439.122</td>\n",
              "      <td>743.960230</td>\n",
              "      <td>2.294312</td>\n",
              "      <td>WB</td>\n",
              "      <td>migrant</td>\n",
              "      <td>2021-12-14</td>\n",
              "      <td>-2.461019</td>\n",
              "      <td>34.574084</td>\n",
              "      <td>F</td>\n",
              "      <td>encamped</td>\n",
              "      <td>2021</td>\n",
              "      <td>Dec</td>\n",
              "      <td>Dec-Jan</td>\n",
              "      <td>Dry to Wet transition</td>\n",
              "      <td>1</td>\n",
              "      <td>2021-12-14T07:30:00Z</td>\n",
              "      <td>2021-12-15T07:30:00Z</td>\n",
              "      <td>86400</td>\n",
              "      <td>True</td>\n",
              "      <td>4</td>\n",
              "      <td>-0.662023</td>\n",
              "      <td>6.611988</td>\n",
              "      <td>0.810685</td>\n",
              "      <td>5075.168409</td>\n",
              "      <td>0.777039</td>\n",
              "      <td>0</td>\n",
              "      <td>WB_migrant</td>\n",
              "      <td>2021-12-14</td>\n",
              "      <td>12</td>\n",
              "    </tr>\n",
              "    <tr>\n",
              "      <th>22</th>\n",
              "      <td>SW100</td>\n",
              "      <td>675019.5210</td>\n",
              "      <td>673586.9019</td>\n",
              "      <td>9727439.122</td>\n",
              "      <td>9726742.822</td>\n",
              "      <td>1592.868851</td>\n",
              "      <td>-1.233925</td>\n",
              "      <td>WB</td>\n",
              "      <td>migrant</td>\n",
              "      <td>2021-12-15</td>\n",
              "      <td>-2.467701</td>\n",
              "      <td>34.574863</td>\n",
              "      <td>F</td>\n",
              "      <td>encamped</td>\n",
              "      <td>2021</td>\n",
              "      <td>Dec</td>\n",
              "      <td>Dec-Jan</td>\n",
              "      <td>Dry to Wet transition</td>\n",
              "      <td>1</td>\n",
              "      <td>2021-12-15T07:30:00Z</td>\n",
              "      <td>2021-12-16T07:30:00Z</td>\n",
              "      <td>86400</td>\n",
              "      <td>True</td>\n",
              "      <td>5</td>\n",
              "      <td>0.330536</td>\n",
              "      <td>7.373292</td>\n",
              "      <td>0.810685</td>\n",
              "      <td>5075.168409</td>\n",
              "      <td>0.777039</td>\n",
              "      <td>0</td>\n",
              "      <td>WB_migrant</td>\n",
              "      <td>2021-12-15</td>\n",
              "      <td>12</td>\n",
              "    </tr>\n",
              "    <tr>\n",
              "      <th>33</th>\n",
              "      <td>SW100</td>\n",
              "      <td>673586.9019</td>\n",
              "      <td>669799.8705</td>\n",
              "      <td>9726742.822</td>\n",
              "      <td>9723233.359</td>\n",
              "      <td>5163.132516</td>\n",
              "      <td>0.294964</td>\n",
              "      <td>WB</td>\n",
              "      <td>migrant</td>\n",
              "      <td>2021-12-16</td>\n",
              "      <td>-2.474014</td>\n",
              "      <td>34.561989</td>\n",
              "      <td>F</td>\n",
              "      <td>migrating</td>\n",
              "      <td>2021</td>\n",
              "      <td>Dec</td>\n",
              "      <td>Dec-Jan</td>\n",
              "      <td>Dry to Wet transition</td>\n",
              "      <td>1</td>\n",
              "      <td>2021-12-16T07:30:00Z</td>\n",
              "      <td>2021-12-17T07:30:00Z</td>\n",
              "      <td>86400</td>\n",
              "      <td>True</td>\n",
              "      <td>6</td>\n",
              "      <td>0.956813</td>\n",
              "      <td>8.549299</td>\n",
              "      <td>0.810685</td>\n",
              "      <td>5075.168409</td>\n",
              "      <td>0.777039</td>\n",
              "      <td>0</td>\n",
              "      <td>WB_migrant</td>\n",
              "      <td>2021-12-16</td>\n",
              "      <td>12</td>\n",
              "    </tr>\n",
              "    <tr>\n",
              "      <th>44</th>\n",
              "      <td>SW100</td>\n",
              "      <td>669799.8705</td>\n",
              "      <td>666982.3274</td>\n",
              "      <td>9723233.359</td>\n",
              "      <td>9716497.189</td>\n",
              "      <td>7301.680313</td>\n",
              "      <td>0.427264</td>\n",
              "      <td>WB</td>\n",
              "      <td>migrant</td>\n",
              "      <td>2021-12-17</td>\n",
              "      <td>-2.505793</td>\n",
              "      <td>34.527973</td>\n",
              "      <td>F</td>\n",
              "      <td>migrating</td>\n",
              "      <td>2021</td>\n",
              "      <td>Dec</td>\n",
              "      <td>Dec-Jan</td>\n",
              "      <td>Dry to Wet transition</td>\n",
              "      <td>1</td>\n",
              "      <td>2021-12-17T07:30:00Z</td>\n",
              "      <td>2021-12-18T07:30:00Z</td>\n",
              "      <td>86400</td>\n",
              "      <td>True</td>\n",
              "      <td>7</td>\n",
              "      <td>0.910103</td>\n",
              "      <td>8.895860</td>\n",
              "      <td>0.810685</td>\n",
              "      <td>5075.168409</td>\n",
              "      <td>0.777039</td>\n",
              "      <td>0</td>\n",
              "      <td>WB_migrant</td>\n",
              "      <td>2021-12-17</td>\n",
              "      <td>12</td>\n",
              "    </tr>\n",
              "  </tbody>\n",
              "</table>\n",
              "</div>\n",
              "    <div class=\"colab-df-buttons\">\n",
              "\n",
              "  <div class=\"colab-df-container\">\n",
              "    <button class=\"colab-df-convert\" onclick=\"convertToInteractive('df-fa270c28-e286-446c-9dda-fa52f22e0d8b')\"\n",
              "            title=\"Convert this dataframe to an interactive table.\"\n",
              "            style=\"display:none;\">\n",
              "\n",
              "  <svg xmlns=\"http://www.w3.org/2000/svg\" height=\"24px\" viewBox=\"0 -960 960 960\">\n",
              "    <path d=\"M120-120v-720h720v720H120Zm60-500h600v-160H180v160Zm220 220h160v-160H400v160Zm0 220h160v-160H400v160ZM180-400h160v-160H180v160Zm440 0h160v-160H620v160ZM180-180h160v-160H180v160Zm440 0h160v-160H620v160Z\"/>\n",
              "  </svg>\n",
              "    </button>\n",
              "\n",
              "  <style>\n",
              "    .colab-df-container {\n",
              "      display:flex;\n",
              "      gap: 12px;\n",
              "    }\n",
              "\n",
              "    .colab-df-convert {\n",
              "      background-color: #E8F0FE;\n",
              "      border: none;\n",
              "      border-radius: 50%;\n",
              "      cursor: pointer;\n",
              "      display: none;\n",
              "      fill: #1967D2;\n",
              "      height: 32px;\n",
              "      padding: 0 0 0 0;\n",
              "      width: 32px;\n",
              "    }\n",
              "\n",
              "    .colab-df-convert:hover {\n",
              "      background-color: #E2EBFA;\n",
              "      box-shadow: 0px 1px 2px rgba(60, 64, 67, 0.3), 0px 1px 3px 1px rgba(60, 64, 67, 0.15);\n",
              "      fill: #174EA6;\n",
              "    }\n",
              "\n",
              "    .colab-df-buttons div {\n",
              "      margin-bottom: 4px;\n",
              "    }\n",
              "\n",
              "    [theme=dark] .colab-df-convert {\n",
              "      background-color: #3B4455;\n",
              "      fill: #D2E3FC;\n",
              "    }\n",
              "\n",
              "    [theme=dark] .colab-df-convert:hover {\n",
              "      background-color: #434B5C;\n",
              "      box-shadow: 0px 1px 3px 1px rgba(0, 0, 0, 0.15);\n",
              "      filter: drop-shadow(0px 1px 2px rgba(0, 0, 0, 0.3));\n",
              "      fill: #FFFFFF;\n",
              "    }\n",
              "  </style>\n",
              "\n",
              "    <script>\n",
              "      const buttonEl =\n",
              "        document.querySelector('#df-fa270c28-e286-446c-9dda-fa52f22e0d8b button.colab-df-convert');\n",
              "      buttonEl.style.display =\n",
              "        google.colab.kernel.accessAllowed ? 'block' : 'none';\n",
              "\n",
              "      async function convertToInteractive(key) {\n",
              "        const element = document.querySelector('#df-fa270c28-e286-446c-9dda-fa52f22e0d8b');\n",
              "        const dataTable =\n",
              "          await google.colab.kernel.invokeFunction('convertToInteractive',\n",
              "                                                    [key], {});\n",
              "        if (!dataTable) return;\n",
              "\n",
              "        const docLinkHtml = 'Like what you see? Visit the ' +\n",
              "          '<a target=\"_blank\" href=https://colab.research.google.com/notebooks/data_table.ipynb>data table notebook</a>'\n",
              "          + ' to learn more about interactive tables.';\n",
              "        element.innerHTML = '';\n",
              "        dataTable['output_type'] = 'display_data';\n",
              "        await google.colab.output.renderOutput(dataTable, element);\n",
              "        const docLink = document.createElement('div');\n",
              "        docLink.innerHTML = docLinkHtml;\n",
              "        element.appendChild(docLink);\n",
              "      }\n",
              "    </script>\n",
              "  </div>\n",
              "\n",
              "\n",
              "<div id=\"df-952252b7-3e1a-4878-be21-212e6dd60eb9\">\n",
              "  <button class=\"colab-df-quickchart\" onclick=\"quickchart('df-952252b7-3e1a-4878-be21-212e6dd60eb9')\"\n",
              "            title=\"Suggest charts\"\n",
              "            style=\"display:none;\">\n",
              "\n",
              "<svg xmlns=\"http://www.w3.org/2000/svg\" height=\"24px\"viewBox=\"0 0 24 24\"\n",
              "     width=\"24px\">\n",
              "    <g>\n",
              "        <path d=\"M19 3H5c-1.1 0-2 .9-2 2v14c0 1.1.9 2 2 2h14c1.1 0 2-.9 2-2V5c0-1.1-.9-2-2-2zM9 17H7v-7h2v7zm4 0h-2V7h2v10zm4 0h-2v-4h2v4z\"/>\n",
              "    </g>\n",
              "</svg>\n",
              "  </button>\n",
              "\n",
              "<style>\n",
              "  .colab-df-quickchart {\n",
              "      --bg-color: #E8F0FE;\n",
              "      --fill-color: #1967D2;\n",
              "      --hover-bg-color: #E2EBFA;\n",
              "      --hover-fill-color: #174EA6;\n",
              "      --disabled-fill-color: #AAA;\n",
              "      --disabled-bg-color: #DDD;\n",
              "  }\n",
              "\n",
              "  [theme=dark] .colab-df-quickchart {\n",
              "      --bg-color: #3B4455;\n",
              "      --fill-color: #D2E3FC;\n",
              "      --hover-bg-color: #434B5C;\n",
              "      --hover-fill-color: #FFFFFF;\n",
              "      --disabled-bg-color: #3B4455;\n",
              "      --disabled-fill-color: #666;\n",
              "  }\n",
              "\n",
              "  .colab-df-quickchart {\n",
              "    background-color: var(--bg-color);\n",
              "    border: none;\n",
              "    border-radius: 50%;\n",
              "    cursor: pointer;\n",
              "    display: none;\n",
              "    fill: var(--fill-color);\n",
              "    height: 32px;\n",
              "    padding: 0;\n",
              "    width: 32px;\n",
              "  }\n",
              "\n",
              "  .colab-df-quickchart:hover {\n",
              "    background-color: var(--hover-bg-color);\n",
              "    box-shadow: 0 1px 2px rgba(60, 64, 67, 0.3), 0 1px 3px 1px rgba(60, 64, 67, 0.15);\n",
              "    fill: var(--button-hover-fill-color);\n",
              "  }\n",
              "\n",
              "  .colab-df-quickchart-complete:disabled,\n",
              "  .colab-df-quickchart-complete:disabled:hover {\n",
              "    background-color: var(--disabled-bg-color);\n",
              "    fill: var(--disabled-fill-color);\n",
              "    box-shadow: none;\n",
              "  }\n",
              "\n",
              "  .colab-df-spinner {\n",
              "    border: 2px solid var(--fill-color);\n",
              "    border-color: transparent;\n",
              "    border-bottom-color: var(--fill-color);\n",
              "    animation:\n",
              "      spin 1s steps(1) infinite;\n",
              "  }\n",
              "\n",
              "  @keyframes spin {\n",
              "    0% {\n",
              "      border-color: transparent;\n",
              "      border-bottom-color: var(--fill-color);\n",
              "      border-left-color: var(--fill-color);\n",
              "    }\n",
              "    20% {\n",
              "      border-color: transparent;\n",
              "      border-left-color: var(--fill-color);\n",
              "      border-top-color: var(--fill-color);\n",
              "    }\n",
              "    30% {\n",
              "      border-color: transparent;\n",
              "      border-left-color: var(--fill-color);\n",
              "      border-top-color: var(--fill-color);\n",
              "      border-right-color: var(--fill-color);\n",
              "    }\n",
              "    40% {\n",
              "      border-color: transparent;\n",
              "      border-right-color: var(--fill-color);\n",
              "      border-top-color: var(--fill-color);\n",
              "    }\n",
              "    60% {\n",
              "      border-color: transparent;\n",
              "      border-right-color: var(--fill-color);\n",
              "    }\n",
              "    80% {\n",
              "      border-color: transparent;\n",
              "      border-right-color: var(--fill-color);\n",
              "      border-bottom-color: var(--fill-color);\n",
              "    }\n",
              "    90% {\n",
              "      border-color: transparent;\n",
              "      border-bottom-color: var(--fill-color);\n",
              "    }\n",
              "  }\n",
              "</style>\n",
              "\n",
              "  <script>\n",
              "    async function quickchart(key) {\n",
              "      const quickchartButtonEl =\n",
              "        document.querySelector('#' + key + ' button');\n",
              "      quickchartButtonEl.disabled = true;  // To prevent multiple clicks.\n",
              "      quickchartButtonEl.classList.add('colab-df-spinner');\n",
              "      try {\n",
              "        const charts = await google.colab.kernel.invokeFunction(\n",
              "            'suggestCharts', [key], {});\n",
              "      } catch (error) {\n",
              "        console.error('Error during call to suggestCharts:', error);\n",
              "      }\n",
              "      quickchartButtonEl.classList.remove('colab-df-spinner');\n",
              "      quickchartButtonEl.classList.add('colab-df-quickchart-complete');\n",
              "    }\n",
              "    (() => {\n",
              "      let quickchartButtonEl =\n",
              "        document.querySelector('#df-952252b7-3e1a-4878-be21-212e6dd60eb9 button');\n",
              "      quickchartButtonEl.style.display =\n",
              "        google.colab.kernel.accessAllowed ? 'block' : 'none';\n",
              "    })();\n",
              "  </script>\n",
              "</div>\n",
              "    </div>\n",
              "  </div>\n"
            ]
          },
          "metadata": {},
          "execution_count": 6
        }
      ],
      "source": [
        "gps_data.head()"
      ]
    },
    {
      "cell_type": "code",
      "execution_count": 4,
      "metadata": {
        "id": "nsVc0DsE-gW_"
      },
      "outputs": [],
      "source": [
        "##\n",
        "\n",
        "#ds = xr.open_dataset('/content/drive/MyDrive/Cloud data/Serengeti_chirps_wide.nc')\n",
        "ds = xr.open_dataset('/content/drive/MyDrive/Cloud data/modis_Serengeti_13y_daily.nc')\n",
        "##"
      ]
    },
    {
      "cell_type": "code",
      "source": [
        "# Define parameters for the image\n",
        "image_size = 32\n",
        "step = 3\n",
        "lag = 1\n",
        "\n",
        "# Create an empty array to store image-GPS pairs\n",
        "xdata = np.zeros((len(gps_data),image_size,image_size,lag))\n",
        "ydata = np.zeros((len(gps_data),2))\n",
        "years = np.zeros(len(gps_data))\n",
        "months = np.zeros(len(gps_data))\n",
        "\n",
        "i=0\n",
        "for uid in tqdm(gps_data['ID'].unique()):\n",
        "    current_data = gps_data[gps_data['ID'] == uid]\n",
        "    # iterate through every other row\n",
        "    for index, row in current_data.iterrows():\n",
        "\n",
        "        # if index % step != 0:\n",
        "        #     continue\n",
        "\n",
        "        # Extract GPS coordinates and time from the DataFrame\n",
        "        center_x = row['x1_']\n",
        "        center_y = row['y1_']\n",
        "        center_date = row['date']\n",
        "        # find the row that is step days later\n",
        "        next_date = center_date + pd.Timedelta(days=step)\n",
        "        next_data = current_data[current_data['date'] == next_date]\n",
        "        if len(next_data) == 0:\n",
        "            continue\n",
        "        next_x = next_data['x1_'].values[0]\n",
        "        next_y = next_data['y1_'].values[0]\n",
        "        ydata[i] = [next_x - center_x, next_y - center_y]\n",
        "\n",
        "        # Convert latitude and longitude to indices in the xarray dataset\n",
        "        x_index = np.abs(ds.x - center_x).argmin().values\n",
        "        y_index = np.abs(ds.y - center_y).argmin().values\n",
        "\n",
        "        # Find the index corresponding to the center_time in the time dimension\n",
        "        time_index = np.abs(ds.time - np.datetime64(center_date)).argmin().values\n",
        "        if time_index - lag < 0:\n",
        "            continue\n",
        "\n",
        "        # Extract a subset of the dataset centered around the specified location for 1 week starting at the current time\n",
        "        subset = ds.isel(x=slice(x_index - image_size//2, x_index + image_size//2),\n",
        "                            y=slice(y_index - image_size//2, y_index + image_size//2),\n",
        "                            time=slice(time_index - lag + 1, time_index+1))\n",
        "\n",
        "        # Extract the 2D array of the variable you want to visualize\n",
        "        data_array = subset.rainfall.values\n",
        "\n",
        "        # Check for NaN and infinite values\n",
        "        if np.isnan(data_array).any() or np.isinf(data_array).any():\n",
        "            print(f\"Warning: NaN or infinite values found in data_array for ID {uid}, index {index}, time_index {time_index}\")\n",
        "            print(f\"NaN values: {np.sum(np.isnan(data_array))}\")\n",
        "            print(f\"Infinite values: {np.sum(np.isinf(data_array))}\")\n",
        "\n",
        "        # Handle invalid values by replacing NaN and infinite values with 0\n",
        "        # normalized_data = np.nan_to_num((data_array - np.min(data_array)) / (np.max(data_array) - np.min(data_array)))\n",
        "        data_array = np.nan_to_num(data_array)\n",
        "\n",
        "        # data_array = np.mean(data_array,axis=0)\n",
        "        data_array = np.transpose(data_array,[1,2,0])\n",
        "\n",
        "        # Store data_array in xdata\n",
        "        xdata[i] = data_array\n",
        "        xdata[i] = data_array #np.reshape(data_array, (image_size, image_size, 1))\n",
        "        years[i] = center_date.year\n",
        "        months[i] = center_date.month\n",
        "        i += 1\n",
        "\n",
        "##\n",
        "#print(i)\n",
        "xdata = xdata[:i]\n",
        "ydata = ydata[:i]\n",
        "years = years[:i]\n",
        "xdata = xdata.astype('float32')\n",
        "xdata = xdata / np.percentile(xdata,95)\n",
        "ydata = ydata.astype('float32')\n",
        "ydata = ydata / np.linalg.norm(ydata,axis=1,keepdims=True)\n"
      ],
      "metadata": {
        "colab": {
          "base_uri": "https://localhost:8080/"
        },
        "id": "GUZjDEzsZ5dO",
        "outputId": "0bdb3c88-8f57-460d-e51c-ffe7128f9887"
      },
      "execution_count": null,
      "outputs": [
        {
          "output_type": "stream",
          "name": "stderr",
          "text": [
            " 32%|███▏      | 19/59 [00:25<01:42,  2.55s/it]"
          ]
        }
      ]
    },
    {
      "cell_type": "code",
      "execution_count": 6,
      "metadata": {
        "colab": {
          "base_uri": "https://localhost:8080/",
          "height": 449
        },
        "id": "oH5K0BmV-gXA",
        "outputId": "5f21c0b8-351d-4c54-ad96-f7680b5597d5"
      },
      "outputs": [
        {
          "output_type": "display_data",
          "data": {
            "text/plain": [
              "<Figure size 640x480 with 1 Axes>"
            ],
            "image/png": "[encoded data removed]"
          },
          "metadata": {}
        }
      ],
      "source": [
        "# count the number of images for each year\n",
        "unique_years, counts = np.unique(years, return_counts=True)\n",
        "plt.bar(unique_years, counts)\n",
        "plt.xlabel('Year')\n",
        "plt.ylabel('Number of Images')\n",
        "plt.show()\n",
        "##\n"
      ]
    },
    {
      "cell_type": "markdown",
      "metadata": {
        "id": "EmEpjWZu-gXA"
      },
      "source": [
        "# Step 2: Preprocess Images and Combine with GPS Data"
      ]
    },
    {
      "cell_type": "code",
      "execution_count": 7,
      "metadata": {
        "id": "Yu0HPoV6-gXB"
      },
      "outputs": [],
      "source": [
        "# Split the data into training and testing sets\n",
        "# from sklearn.model_selection import train_test_split\n",
        "\n",
        "# xtrain, xtest, ytrain, ytest = train_test_split(xdata, ydata, test_size=0.2, random_state=42)\n",
        "\n",
        "# use 2018 for testing and the rest for training\n",
        "xtrain = xdata[years != 2018]\n",
        "ytrain = ydata[years != 2018]\n",
        "xtest = xdata[years == 2018]\n",
        "ytest = ydata[years == 2018]\n"
      ]
    },
    {
      "cell_type": "markdown",
      "metadata": {
        "id": "7VfQ6vSu-gXB"
      },
      "source": [
        "# Step 3: Model-Specific Preprocessing"
      ]
    },
    {
      "cell_type": "code",
      "execution_count": 8,
      "metadata": {
        "colab": {
          "base_uri": "https://localhost:8080/"
        },
        "id": "tZkIdFGN-gXB",
        "outputId": "5b4c74c0-eeac-4879-9dba-e4bfd0823292"
      },
      "outputs": [
        {
          "output_type": "stream",
          "name": "stdout",
          "text": [
            "Model: \"model\"\n",
            "_________________________________________________________________\n",
            " Layer (type)                Output Shape              Param #   \n",
            "=================================================================\n",
            " image_input (InputLayer)    [(None, 32, 32, 1)]       0         \n",
            "                                                                 \n",
            " conv2d (Conv2D)             (None, 32, 32, 8)         80        \n",
            "                                                                 \n",
            " max_pooling2d (MaxPooling2  (None, 16, 16, 8)         0         \n",
            " D)                                                              \n",
            "                                                                 \n",
            " conv2d_1 (Conv2D)           (None, 16, 16, 8)         584       \n",
            "                                                                 \n",
            " max_pooling2d_1 (MaxPoolin  (None, 8, 8, 8)           0         \n",
            " g2D)                                                            \n",
            "                                                                 \n",
            " conv2d_2 (Conv2D)           (None, 8, 8, 8)           584       \n",
            "                                                                 \n",
            " max_pooling2d_2 (MaxPoolin  (None, 4, 4, 8)           0         \n",
            " g2D)                                                            \n",
            "                                                                 \n",
            " flatten (Flatten)           (None, 128)               0         \n",
            "                                                                 \n",
            " dense (Dense)               (None, 16)                2064      \n",
            "                                                                 \n",
            " dense_1 (Dense)             (None, 2)                 34        \n",
            "                                                                 \n",
            " lambda (Lambda)             (None, 2)                 0         \n",
            "                                                                 \n",
            "=================================================================\n",
            "Total params: 3346 (13.07 KB)\n",
            "Trainable params: 3346 (13.07 KB)\n",
            "Non-trainable params: 0 (0.00 Byte)\n",
            "_________________________________________________________________\n"
          ]
        }
      ],
      "source": [
        "from tensorflow.keras import layers, models\n",
        "from tensorflow.keras.optimizers import Adam\n",
        "\n",
        "# Define your model\n",
        "image_input = layers.Input(shape=(image_size, image_size, lag), name='image_input')\n",
        "\n",
        "# Image processing branch\n",
        "x = layers.Conv2D(8, (3, 3), activation='relu', padding='same')(image_input)\n",
        "x = layers.MaxPooling2D((2, 2))(x)\n",
        "x = layers.Conv2D(8, (3, 3), activation='relu', padding='same')(x)\n",
        "x = layers.MaxPooling2D((2, 2))(x)\n",
        "x = layers.Conv2D(8, (3, 3), activation='relu', padding='same')(x)\n",
        "x = layers.MaxPooling2D((2, 2))(x)\n",
        "x = layers.Flatten()(x)\n",
        "x = layers.Dense(16, activation='relu')(x)\n",
        "\n",
        "\n",
        "# Output layer for heading prediction\n",
        "output = layers.Dense(2, activation='linear')(x)\n",
        "\n",
        "# keras layer for normalizing the output vector to have unit norm\n",
        "output = layers.Lambda(lambda x: tf.keras.backend.l2_normalize(x, axis=1))(output)\n",
        "\n",
        "# Define the model with multiple inputs\n",
        "model = models.Model(inputs=image_input, outputs=output)\n",
        "\n",
        "opt = Adam(learning_rate=1e-2)\n",
        "model.compile(optimizer=opt,loss=tf.keras.losses.CosineSimilarity(axis=-1))\n",
        "\n",
        "# Display the model summary\n",
        "model.summary()\n"
      ]
    },
    {
      "cell_type": "markdown",
      "metadata": {
        "id": "a_IicXO4-gXB"
      },
      "source": [
        "# Step 4: Model Training"
      ]
    },
    {
      "cell_type": "code",
      "execution_count": 9,
      "metadata": {
        "colab": {
          "base_uri": "https://localhost:8080/"
        },
        "id": "LxNpXgLu-gXB",
        "outputId": "2ac0c81f-8076-4102-cec6-a2fce2221e56"
      },
      "outputs": [
        {
          "output_type": "stream",
          "name": "stdout",
          "text": [
            "Epoch 1/100\n",
            "50/50 [==============================] - 7s 19ms/step - loss: -0.0920 - val_loss: -0.1244\n",
            "Epoch 2/100\n",
            "50/50 [==============================] - 0s 9ms/step - loss: -0.1024 - val_loss: -0.1537\n",
            "Epoch 3/100\n",
            "50/50 [==============================] - 0s 9ms/step - loss: -0.1065 - val_loss: -0.1552\n",
            "Epoch 4/100\n",
            "50/50 [==============================] - 0s 8ms/step - loss: -0.1085 - val_loss: -0.1331\n",
            "Epoch 5/100\n",
            "50/50 [==============================] - 0s 9ms/step - loss: -0.0991 - val_loss: -0.1398\n",
            "Epoch 6/100\n",
            "50/50 [==============================] - 0s 7ms/step - loss: -0.1124 - val_loss: -0.1467\n",
            "Epoch 7/100\n",
            "50/50 [==============================] - 0s 6ms/step - loss: -0.1123 - val_loss: -0.1454\n",
            "Epoch 8/100\n",
            "40/50 [=======================>......] - ETA: 0s - loss: -0.1021Restoring model weights from the end of the best epoch: 3.\n",
            "50/50 [==============================] - 0s 7ms/step - loss: -0.1001 - val_loss: -0.1465\n",
            "Epoch 8: early stopping\n"
          ]
        },
        {
          "output_type": "execute_result",
          "data": {
            "text/plain": [
              "<keras.src.callbacks.History at 0x79936ffe1510>"
            ]
          },
          "metadata": {},
          "execution_count": 9
        }
      ],
      "source": [
        "# fit with early stopping on the validation loss\n",
        "from tensorflow.keras.callbacks import EarlyStopping\n",
        "\n",
        "es = EarlyStopping(monitor='val_loss', mode='min', verbose=1, patience=5, restore_best_weights=True)\n",
        "\n",
        "# Train the model with learning rate decay\n",
        "model.fit(xtrain, ytrain, epochs=100, validation_data=(xtest, ytest), callbacks=[es], batch_size=512)\n",
        "\n"
      ]
    },
    {
      "cell_type": "markdown",
      "metadata": {
        "id": "tzqkOTTN-gXC"
      },
      "source": [
        "# Step 5: Model Evaluation"
      ]
    },
    {
      "cell_type": "code",
      "source": [
        "model.evaluate(xtest, ytest)"
      ],
      "metadata": {
        "colab": {
          "base_uri": "https://localhost:8080/"
        },
        "id": "favb9Gr2g5CP",
        "outputId": "e15dfc95-1b42-44b7-96f1-cb91dc060b02"
      },
      "execution_count": 10,
      "outputs": [
        {
          "output_type": "stream",
          "name": "stdout",
          "text": [
            "181/181 [==============================] - 1s 3ms/step - loss: -0.1552\n"
          ]
        },
        {
          "output_type": "execute_result",
          "data": {
            "text/plain": [
              "-0.15516620874404907"
            ]
          },
          "metadata": {},
          "execution_count": 10
        }
      ]
    },
    {
      "cell_type": "code",
      "execution_count": 11,
      "metadata": {
        "colab": {
          "base_uri": "https://localhost:8080/",
          "height": 472
        },
        "id": "Xx-LnIVu-gXC",
        "outputId": "462e4a6c-3d16-466b-b7a5-5773823deb13"
      },
      "outputs": [
        {
          "output_type": "display_data",
          "data": {
            "text/plain": [
              "<Figure size 640x480 with 1 Axes>"
            ],
            "image/png": "[encoded data removed]"
          },
          "metadata": {}
        }
      ],
      "source": [
        "# predict on the train set in batches of 512\n",
        "\n",
        "for i in range(0,len(xtrain),512):\n",
        "    preds = model.predict(xtrain[i:i+512],verbose=0)\n",
        "    if i == 0:\n",
        "        all_preds = preds\n",
        "    else:\n",
        "        all_preds = np.concatenate((all_preds,preds),axis=0)\n",
        "\n",
        "\n",
        "a = np.arctan2(ytrain[:,1],ytrain[:,0]) - np.arctan2(all_preds[:,1],all_preds[:,0])\n",
        "\n",
        "a[a > np.pi] = a[a > np.pi] - 2*np.pi\n",
        "a[a < -np.pi] = a[a < -np.pi] + 2*np.pi\n",
        "\n",
        "plt.hist(a,bins=50)\n",
        "plt.title('Training Set (all years except 2018)')\n",
        "plt.xlabel('Heading Error (radians)')\n",
        "plt.ylabel('Number of Images')\n",
        "plt.show()\n",
        "\n"
      ]
    },
    {
      "cell_type": "code",
      "execution_count": 12,
      "metadata": {
        "colab": {
          "base_uri": "https://localhost:8080/",
          "height": 489
        },
        "id": "Hz4sdGoD-gXC",
        "outputId": "d78c4b26-af25-49fe-9f06-1b1f5b3f1d7b"
      },
      "outputs": [
        {
          "output_type": "stream",
          "name": "stdout",
          "text": [
            "181/181 [==============================] - 0s 2ms/step\n"
          ]
        },
        {
          "output_type": "display_data",
          "data": {
            "text/plain": [
              "<Figure size 640x480 with 1 Axes>"
            ],
            "image/png": "[encoded data removed]"
          },
          "metadata": {}
        }
      ],
      "source": [
        "preds = model.predict(xtest)\n",
        "\n",
        "# plot a histogram of the difference between true and predicted angles\n",
        "a = np.arctan2(ytest[:,1],ytest[:,0]) - np.arctan2(preds[:,1],preds[:,0])\n",
        "\n",
        "a[a > np.pi] = a[a > np.pi] - 2*np.pi\n",
        "a[a < -np.pi] = a[a < -np.pi] + 2*np.pi\n",
        "\n",
        "plt.hist(a,bins=50)\n",
        "plt.title('Test Set (2018)')\n",
        "plt.xlabel('Heading Error (radians)')\n",
        "plt.ylabel('Number of Images')\n",
        "plt.show()\n",
        "##"
      ]
    },
    {
      "cell_type": "code",
      "source": [
        "mae = np.mean(np.abs(a))\n",
        "print(f\"Mean Absolute Error: {mae}\")\n",
        "\n",
        "r_squared = 1 - np.sum(a**2) / np.sum((ytest - np.mean(ytest))**2)\n",
        "print(f\"R-squared: {r_squared}\")\n",
        "\n"
      ],
      "metadata": {
        "colab": {
          "base_uri": "https://localhost:8080/"
        },
        "id": "EfbkOfC_IdTv",
        "outputId": "8c6d5f5b-1d6e-4bbc-853c-740a242435f8"
      },
      "execution_count": 13,
      "outputs": [
        {
          "output_type": "stream",
          "name": "stdout",
          "text": [
            "Mean Absolute Error: 1.3723410367965698\n",
            "R-squared: -1.7080790996551514\n"
          ]
        }
      ]
    },
    {
      "cell_type": "code",
      "source": [
        "# Predict on the test set\n",
        "preds = model.predict(xtest)\n",
        "\n",
        "# Calculate the heading error for each prediction\n",
        "heading_errors = np.arctan2(ytest[:, 1], ytest[:, 0]) - np.arctan2(preds[:, 1], preds[:, 0])\n",
        "\n",
        "# Handle wrapping of angles\n",
        "heading_errors[heading_errors > np.pi] -= 2 * np.pi\n",
        "heading_errors[heading_errors < -np.pi] += 2 * np.pi\n",
        "\n",
        "# Ensure the lengths match by using only the corresponding 'month' values for the test set\n",
        "test_data_with_month = pd.DataFrame({'heading_error': heading_errors, 'month': gps_data[gps_data['date1'].dt.year == 2018]['month'].values[:len(heading_errors)]})\n",
        "\n",
        "# Group by month and calculate mean heading error\n",
        "mean_heading_error_by_month = test_data_with_month.groupby('month')['heading_error'].mean()\n",
        "\n",
        "# Visualize the results\n",
        "plt.bar(mean_heading_error_by_month.index, mean_heading_error_by_month)\n",
        "plt.xlabel('Month')\n",
        "plt.ylabel('Mean Heading Error (radians)')\n",
        "plt.title('Model Accuracy by Month')\n",
        "plt.show()\n",
        "\n"
      ],
      "metadata": {
        "colab": {
          "base_uri": "https://localhost:8080/",
          "height": 489
        },
        "id": "-JH45LtIOrgk",
        "outputId": "dd3a7001-3e3d-4700-8c20-05425ad93ea3"
      },
      "execution_count": 14,
      "outputs": [
        {
          "output_type": "stream",
          "name": "stdout",
          "text": [
            "181/181 [==============================] - 0s 2ms/step\n"
          ]
        },
        {
          "output_type": "display_data",
          "data": {
            "text/plain": [
              "<Figure size 640x480 with 1 Axes>"
            ],
            "image/png": "[encoded data removed]"
          },
          "metadata": {}
        }
      ]
    },
    {
      "cell_type": "code",
      "source": [
        "mean_heading_error_by_month"
      ],
      "metadata": {
        "colab": {
          "base_uri": "https://localhost:8080/"
        },
        "id": "fRV9MNiaSSUN",
        "outputId": "661676de-f758-44b4-9249-fce8af469c5c"
      },
      "execution_count": 48,
      "outputs": [
        {
          "output_type": "execute_result",
          "data": {
            "text/plain": [
              "month\n",
              "1    -0.017307\n",
              "2    -0.106758\n",
              "3     0.043873\n",
              "4    -0.156485\n",
              "5    -0.280845\n",
              "6    -0.378435\n",
              "7    -0.174992\n",
              "8    -0.043483\n",
              "9    -0.356156\n",
              "10   -0.038795\n",
              "11   -0.018447\n",
              "12   -0.071719\n",
              "Name: heading_error, dtype: float32"
            ]
          },
          "metadata": {},
          "execution_count": 48
        }
      ]
    },
    {
      "cell_type": "markdown",
      "source": [
        "Select an image for analysis"
      ],
      "metadata": {
        "id": "mOsFZxFzL8Wz"
      }
    },
    {
      "cell_type": "code",
      "source": [
        "# Print the model summary to find the correct layer names\n",
        "#model.summary()\n",
        "chosen_index = 0  # Replace with the index you want to visualize\n",
        "input_image = xtest[chosen_index]\n",
        "\n",
        "plt.imshow(input_image)\n",
        "plt.title('Chosen Input Image')\n",
        "plt.show()\n",
        "\n",
        "\n"
      ],
      "metadata": {
        "colab": {
          "base_uri": "https://localhost:8080/",
          "height": 809
        },
        "id": "bVyqk6hjJn2v",
        "outputId": "d1ba70a6-cfb0-4b1b-a62c-937a99c8ebe0"
      },
      "execution_count": 22,
      "outputs": [
        {
          "output_type": "error",
          "ename": "TypeError",
          "evalue": "Invalid shape (24, 24, 14) for image data",
          "traceback": [
            "\u001b[0;31m---------------------------------------------------------------------------\u001b[0m",
            "\u001b[0;31mTypeError\u001b[0m                                 Traceback (most recent call last)",
            "\u001b[0;32m<ipython-input-22-ae95154cf80a>\u001b[0m in \u001b[0;36m<cell line: 6>\u001b[0;34m()\u001b[0m\n\u001b[1;32m      4\u001b[0m \u001b[0minput_image\u001b[0m \u001b[0;34m=\u001b[0m \u001b[0mxtest\u001b[0m\u001b[0;34m[\u001b[0m\u001b[0mchosen_index\u001b[0m\u001b[0;34m]\u001b[0m\u001b[0;34m\u001b[0m\u001b[0;34m\u001b[0m\u001b[0m\n\u001b[1;32m      5\u001b[0m \u001b[0;34m\u001b[0m\u001b[0m\n\u001b[0;32m----> 6\u001b[0;31m \u001b[0mplt\u001b[0m\u001b[0;34m.\u001b[0m\u001b[0mimshow\u001b[0m\u001b[0;34m(\u001b[0m\u001b[0minput_image\u001b[0m\u001b[0;34m)\u001b[0m\u001b[0;34m\u001b[0m\u001b[0;34m\u001b[0m\u001b[0m\n\u001b[0m\u001b[1;32m      7\u001b[0m \u001b[0mplt\u001b[0m\u001b[0;34m.\u001b[0m\u001b[0mtitle\u001b[0m\u001b[0;34m(\u001b[0m\u001b[0;34m'Chosen Input Image'\u001b[0m\u001b[0;34m)\u001b[0m\u001b[0;34m\u001b[0m\u001b[0;34m\u001b[0m\u001b[0m\n\u001b[1;32m      8\u001b[0m \u001b[0mplt\u001b[0m\u001b[0;34m.\u001b[0m\u001b[0mshow\u001b[0m\u001b[0;34m(\u001b[0m\u001b[0;34m)\u001b[0m\u001b[0;34m\u001b[0m\u001b[0;34m\u001b[0m\u001b[0m\n",
            "\u001b[0;32m/usr/local/lib/python3.10/dist-packages/matplotlib/pyplot.py\u001b[0m in \u001b[0;36mimshow\u001b[0;34m(X, cmap, norm, aspect, interpolation, alpha, vmin, vmax, origin, extent, interpolation_stage, filternorm, filterrad, resample, url, data, **kwargs)\u001b[0m\n\u001b[1;32m   2693\u001b[0m         \u001b[0minterpolation_stage\u001b[0m\u001b[0;34m=\u001b[0m\u001b[0;32mNone\u001b[0m\u001b[0;34m,\u001b[0m \u001b[0mfilternorm\u001b[0m\u001b[0;34m=\u001b[0m\u001b[0;32mTrue\u001b[0m\u001b[0;34m,\u001b[0m \u001b[0mfilterrad\u001b[0m\u001b[0;34m=\u001b[0m\u001b[0;36m4.0\u001b[0m\u001b[0;34m,\u001b[0m\u001b[0;34m\u001b[0m\u001b[0;34m\u001b[0m\u001b[0m\n\u001b[1;32m   2694\u001b[0m         resample=None, url=None, data=None, **kwargs):\n\u001b[0;32m-> 2695\u001b[0;31m     __ret = gca().imshow(\n\u001b[0m\u001b[1;32m   2696\u001b[0m         \u001b[0mX\u001b[0m\u001b[0;34m,\u001b[0m \u001b[0mcmap\u001b[0m\u001b[0;34m=\u001b[0m\u001b[0mcmap\u001b[0m\u001b[0;34m,\u001b[0m \u001b[0mnorm\u001b[0m\u001b[0;34m=\u001b[0m\u001b[0mnorm\u001b[0m\u001b[0;34m,\u001b[0m \u001b[0maspect\u001b[0m\u001b[0;34m=\u001b[0m\u001b[0maspect\u001b[0m\u001b[0;34m,\u001b[0m\u001b[0;34m\u001b[0m\u001b[0;34m\u001b[0m\u001b[0m\n\u001b[1;32m   2697\u001b[0m         \u001b[0minterpolation\u001b[0m\u001b[0;34m=\u001b[0m\u001b[0minterpolation\u001b[0m\u001b[0;34m,\u001b[0m \u001b[0malpha\u001b[0m\u001b[0;34m=\u001b[0m\u001b[0malpha\u001b[0m\u001b[0;34m,\u001b[0m \u001b[0mvmin\u001b[0m\u001b[0;34m=\u001b[0m\u001b[0mvmin\u001b[0m\u001b[0;34m,\u001b[0m\u001b[0;34m\u001b[0m\u001b[0;34m\u001b[0m\u001b[0m\n",
            "\u001b[0;32m/usr/local/lib/python3.10/dist-packages/matplotlib/__init__.py\u001b[0m in \u001b[0;36minner\u001b[0;34m(ax, data, *args, **kwargs)\u001b[0m\n\u001b[1;32m   1440\u001b[0m     \u001b[0;32mdef\u001b[0m \u001b[0minner\u001b[0m\u001b[0;34m(\u001b[0m\u001b[0max\u001b[0m\u001b[0;34m,\u001b[0m \u001b[0;34m*\u001b[0m\u001b[0margs\u001b[0m\u001b[0;34m,\u001b[0m \u001b[0mdata\u001b[0m\u001b[0;34m=\u001b[0m\u001b[0;32mNone\u001b[0m\u001b[0;34m,\u001b[0m \u001b[0;34m**\u001b[0m\u001b[0mkwargs\u001b[0m\u001b[0;34m)\u001b[0m\u001b[0;34m:\u001b[0m\u001b[0;34m\u001b[0m\u001b[0;34m\u001b[0m\u001b[0m\n\u001b[1;32m   1441\u001b[0m         \u001b[0;32mif\u001b[0m \u001b[0mdata\u001b[0m \u001b[0;32mis\u001b[0m \u001b[0;32mNone\u001b[0m\u001b[0;34m:\u001b[0m\u001b[0;34m\u001b[0m\u001b[0;34m\u001b[0m\u001b[0m\n\u001b[0;32m-> 1442\u001b[0;31m             \u001b[0;32mreturn\u001b[0m \u001b[0mfunc\u001b[0m\u001b[0;34m(\u001b[0m\u001b[0max\u001b[0m\u001b[0;34m,\u001b[0m \u001b[0;34m*\u001b[0m\u001b[0mmap\u001b[0m\u001b[0;34m(\u001b[0m\u001b[0msanitize_sequence\u001b[0m\u001b[0;34m,\u001b[0m \u001b[0margs\u001b[0m\u001b[0;34m)\u001b[0m\u001b[0;34m,\u001b[0m \u001b[0;34m**\u001b[0m\u001b[0mkwargs\u001b[0m\u001b[0;34m)\u001b[0m\u001b[0;34m\u001b[0m\u001b[0;34m\u001b[0m\u001b[0m\n\u001b[0m\u001b[1;32m   1443\u001b[0m \u001b[0;34m\u001b[0m\u001b[0m\n\u001b[1;32m   1444\u001b[0m         \u001b[0mbound\u001b[0m \u001b[0;34m=\u001b[0m \u001b[0mnew_sig\u001b[0m\u001b[0;34m.\u001b[0m\u001b[0mbind\u001b[0m\u001b[0;34m(\u001b[0m\u001b[0max\u001b[0m\u001b[0;34m,\u001b[0m \u001b[0;34m*\u001b[0m\u001b[0margs\u001b[0m\u001b[0;34m,\u001b[0m \u001b[0;34m**\u001b[0m\u001b[0mkwargs\u001b[0m\u001b[0;34m)\u001b[0m\u001b[0;34m\u001b[0m\u001b[0;34m\u001b[0m\u001b[0m\n",
            "\u001b[0;32m/usr/local/lib/python3.10/dist-packages/matplotlib/axes/_axes.py\u001b[0m in \u001b[0;36mimshow\u001b[0;34m(self, X, cmap, norm, aspect, interpolation, alpha, vmin, vmax, origin, extent, interpolation_stage, filternorm, filterrad, resample, url, **kwargs)\u001b[0m\n\u001b[1;32m   5663\u001b[0m                               **kwargs)\n\u001b[1;32m   5664\u001b[0m \u001b[0;34m\u001b[0m\u001b[0m\n\u001b[0;32m-> 5665\u001b[0;31m         \u001b[0mim\u001b[0m\u001b[0;34m.\u001b[0m\u001b[0mset_data\u001b[0m\u001b[0;34m(\u001b[0m\u001b[0mX\u001b[0m\u001b[0;34m)\u001b[0m\u001b[0;34m\u001b[0m\u001b[0;34m\u001b[0m\u001b[0m\n\u001b[0m\u001b[1;32m   5666\u001b[0m         \u001b[0mim\u001b[0m\u001b[0;34m.\u001b[0m\u001b[0mset_alpha\u001b[0m\u001b[0;34m(\u001b[0m\u001b[0malpha\u001b[0m\u001b[0;34m)\u001b[0m\u001b[0;34m\u001b[0m\u001b[0;34m\u001b[0m\u001b[0m\n\u001b[1;32m   5667\u001b[0m         \u001b[0;32mif\u001b[0m \u001b[0mim\u001b[0m\u001b[0;34m.\u001b[0m\u001b[0mget_clip_path\u001b[0m\u001b[0;34m(\u001b[0m\u001b[0;34m)\u001b[0m \u001b[0;32mis\u001b[0m \u001b[0;32mNone\u001b[0m\u001b[0;34m:\u001b[0m\u001b[0;34m\u001b[0m\u001b[0;34m\u001b[0m\u001b[0m\n",
            "\u001b[0;32m/usr/local/lib/python3.10/dist-packages/matplotlib/image.py\u001b[0m in \u001b[0;36mset_data\u001b[0;34m(self, A)\u001b[0m\n\u001b[1;32m    708\u001b[0m         if not (self._A.ndim == 2\n\u001b[1;32m    709\u001b[0m                 or self._A.ndim == 3 and self._A.shape[-1] in [3, 4]):\n\u001b[0;32m--> 710\u001b[0;31m             raise TypeError(\"Invalid shape {} for image data\"\n\u001b[0m\u001b[1;32m    711\u001b[0m                             .format(self._A.shape))\n\u001b[1;32m    712\u001b[0m \u001b[0;34m\u001b[0m\u001b[0m\n",
            "\u001b[0;31mTypeError\u001b[0m: Invalid shape (24, 24, 14) for image data"
          ]
        },
        {
          "output_type": "display_data",
          "data": {
            "text/plain": [
              "<Figure size 640x480 with 1 Axes>"
            ],
            "image/png": "[encoded data removed]"
          },
          "metadata": {}
        }
      ]
    },
    {
      "cell_type": "markdown",
      "source": [
        "Generate Activation Maps:"
      ],
      "metadata": {
        "id": "jYVEKhnfMGKi"
      }
    },
    {
      "cell_type": "code",
      "source": [
        "activation_model = models.Model(inputs=model.input, outputs=model.get_layer('conv2d_3').output)\n",
        "\n",
        "activations = activation_model.predict(np.expand_dims(input_image, axis=0))"
      ],
      "metadata": {
        "colab": {
          "base_uri": "https://localhost:8080/"
        },
        "id": "W_tVcbTAMFRg",
        "outputId": "44e47ffe-ea39-4375-b838-6f802e03ce91"
      },
      "execution_count": 24,
      "outputs": [
        {
          "output_type": "stream",
          "name": "stdout",
          "text": [
            "1/1 [==============================] - 0s 212ms/step\n"
          ]
        }
      ]
    },
    {
      "cell_type": "code",
      "source": [
        "# Choose the index of the activation map you want to visualize (e.g., 0 for the first filter)\n",
        "activation_index = 0\n",
        "\n",
        "# Plot the activation map\n",
        "plt.matshow(activations[0, :, :, activation_index], cmap='viridis')\n",
        "plt.show()"
      ],
      "metadata": {
        "id": "3PT5GiXmMu-1"
      },
      "execution_count": null,
      "outputs": []
    },
    {
      "cell_type": "markdown",
      "source": [
        "Visualize Multiple Activation Maps:"
      ],
      "metadata": {
        "id": "CV-jxDVmKM_s"
      }
    },
    {
      "cell_type": "code",
      "source": [
        "layer_names = [layer.name for layer in model.layers if 'conv' in layer.name]\n",
        "images_per_row = 16\n",
        "\n",
        "for layer_name, layer_activation in zip(layer_names, activations):\n",
        "    n_features = layer_activation.shape[-1]\n",
        "    size = layer_activation.shape[1]\n",
        "    n_cols = n_features // images_per_row\n",
        "    display_grid = np.zeros((size * n_cols, images_per_row * size))\n",
        "\n",
        "    for col in range(n_cols):\n",
        "        for row in range(images_per_row):\n",
        "            channel_image = layer_activation[0, :, :, col * images_per_row + row]\n",
        "            channel_image -= channel_image.mean()\n",
        "            channel_image /= channel_image.std()\n",
        "            channel_image *= 64\n",
        "            channel_image += 128\n",
        "            channel_image = np.clip(channel_image, 0, 255).astype('uint8')\n",
        "            display_grid[col * size : (col + 1) * size, row * size : (row + 1) * size] = channel_image\n",
        "\n",
        "    scale = 1. / size\n",
        "    plt.figure(figsize=(scale * display_grid.shape[1], scale * display_grid.shape[0]))\n",
        "    plt.title(layer_name)\n",
        "    plt.grid(False)\n",
        "    plt.imshow(display_grid, aspect='auto', cmap='viridis')"
      ],
      "metadata": {
        "colab": {
          "base_uri": "https://localhost:8080/",
          "height": 268
        },
        "id": "vMSjdT22KKY9",
        "outputId": "20f56c72-323f-480e-b0a0-06f70e434a32"
      },
      "execution_count": 25,
      "outputs": [
        {
          "output_type": "stream",
          "name": "stderr",
          "text": [
            "<ipython-input-25-094348a4c076>:24: UserWarning: Attempting to set identical low and high ylims makes transformation singular; automatically expanding.\n",
            "  plt.imshow(display_grid, aspect='auto', cmap='viridis')\n",
            "/usr/local/lib/python3.10/dist-packages/matplotlib/_tight_bbox.py:64: RuntimeWarning: divide by zero encountered in double_scalars\n",
            "  fig.patch.set_bounds(x0 / w1, y0 / h1,\n",
            "/usr/local/lib/python3.10/dist-packages/matplotlib/_tight_bbox.py:65: RuntimeWarning: divide by zero encountered in double_scalars\n",
            "  fig.bbox.width / w1, fig.bbox.height / h1)\n",
            "/usr/local/lib/python3.10/dist-packages/matplotlib/patches.py:739: RuntimeWarning: invalid value encountered in double_scalars\n",
            "  y1 = self.convert_yunits(self._y0 + self._height)\n",
            "/usr/local/lib/python3.10/dist-packages/matplotlib/transforms.py:2042: RuntimeWarning: invalid value encountered in double_scalars\n",
            "  self._mtx[1, 2] += ty\n"
          ]
        },
        {
          "output_type": "display_data",
          "data": {
            "text/plain": [
              "<Figure size 1600x0 with 1 Axes>"
            ],
            "image/png": "[encoded data removed]"
          },
          "metadata": {}
        }
      ]
    },
    {
      "cell_type": "markdown",
      "source": [
        "To visualize the average rainfall map aligned with the predicted heading of the wildebeest, you would first need to rotate each rainfall map so that the direction of the wildebeest's movement is aligned with a fixed direction (e.g., upwards). Then, you can average all the rotated maps. Here's a step-by-step guide:\n",
        "\n",
        "1. **Define a function to rotate an image**:\n",
        "\n"
      ],
      "metadata": {
        "id": "ARrgTPiEczAL"
      }
    },
    {
      "cell_type": "code",
      "source": [
        "from scipy.ndimage import rotate\n",
        "\n",
        "def rotate_image(image, angle):\n",
        "    return rotate(image, angle, reshape=False)"
      ],
      "metadata": {
        "id": "mdDwhp3Jc5C6"
      },
      "execution_count": null,
      "outputs": []
    },
    {
      "cell_type": "markdown",
      "source": [
        "\n",
        "\n",
        "2. **Rotate each rainfall map**:\n",
        "\n",
        "Assuming `rainfall_maps` is a list of your rainfall maps and `headings` is a list of the predicted headings of the wildebeest:\n",
        "\n"
      ],
      "metadata": {
        "id": "VSoWbjQWc7p3"
      }
    },
    {
      "cell_type": "code",
      "source": [
        "rotated_maps = [rotate_image(map, -heading) for map, heading in zip(xdata, a)]"
      ],
      "metadata": {
        "id": "tOHHas8Fc-n1"
      },
      "execution_count": null,
      "outputs": []
    },
    {
      "cell_type": "markdown",
      "source": [
        "\n",
        "\n",
        "Note that we rotate by `-heading` because a positive rotation is counter-clockwise, but a positive heading is usually clockwise.\n",
        "\n",
        "3. **Average the rotated maps**:\n",
        "\n"
      ],
      "metadata": {
        "id": "TUPBAJgfdiWg"
      }
    },
    {
      "cell_type": "code",
      "source": [
        "average_map = np.mean(rotated_maps, axis=0)\n",
        "average_map_over_time = np.mean(average_map, axis=2)"
      ],
      "metadata": {
        "id": "xt2zslqSdopZ"
      },
      "execution_count": null,
      "outputs": []
    },
    {
      "cell_type": "markdown",
      "source": [
        "\n",
        "\n",
        "4. **Visualize the average map**:\n",
        "\n"
      ],
      "metadata": {
        "id": "drIvmfLXds46"
      }
    },
    {
      "cell_type": "code",
      "source": [
        "average_heading_x = np.cos(a).mean()\n",
        "average_heading_y = np.sin(a).mean()"
      ],
      "metadata": {
        "id": "D9aUX4Vbd1sQ"
      },
      "execution_count": null,
      "outputs": []
    },
    {
      "cell_type": "code",
      "source": [
        "plt.imshow(average_map_over_time, cmap='viridis')\n",
        "plt.quiver(average_map_over_time.shape[1] / 2, average_map_over_time.shape[0] / 2, average_heading_x, average_heading_y, color='r', scale=1)\n",
        "plt.colorbar()\n",
        "plt.show()"
      ],
      "metadata": {
        "colab": {
          "base_uri": "https://localhost:8080/",
          "height": 435
        },
        "id": "P3LHpdYad5m6",
        "outputId": "65faa4de-8de4-4ef7-a0c6-c0ec971bb4da"
      },
      "execution_count": null,
      "outputs": [
        {
          "output_type": "display_data",
          "data": {
            "text/plain": [
              "<Figure size 640x480 with 2 Axes>"
            ],
            "image/png": "[encoded data removed]"
          },
          "metadata": {}
        }
      ]
    },
    {
      "cell_type": "code",
      "source": [
        "gradient_y, gradient_x = np.gradient(average_map_over_time)\n",
        "average_heading_x = np.cos(a).mean()\n",
        "average_heading_y = np.sin(a).mean()\n",
        "\n",
        "dot_product = gradient_x * average_heading_x + gradient_y * average_heading_y"
      ],
      "metadata": {
        "id": "gljqwAFSeXDN"
      },
      "execution_count": null,
      "outputs": []
    },
    {
      "cell_type": "code",
      "source": [
        "correlation = np.corrcoef(dot_product.flatten(), average_map_over_time.flatten())[0, 1]\n",
        "print(correlation)\n",
        "\n",
        "plt.scatter(dot_product.flatten(), average_map_over_time.flatten())\n",
        "plt.xlabel('Dot Product')\n",
        "plt.ylabel('Rainfall')\n",
        "plt.title('Correlation between Wildebeest Heading and Rainfall')\n",
        "plt.show()"
      ],
      "metadata": {
        "colab": {
          "base_uri": "https://localhost:8080/",
          "height": 489
        },
        "id": "2pbH2FjTeb7k",
        "outputId": "565075e4-cba1-4fbf-9c61-931803a2d0ae"
      },
      "execution_count": null,
      "outputs": [
        {
          "output_type": "stream",
          "name": "stdout",
          "text": [
            "0.03970041068468198\n"
          ]
        },
        {
          "output_type": "display_data",
          "data": {
            "text/plain": [
              "<Figure size 640x480 with 1 Axes>"
            ],
            "image/png": "[encoded data removed]"
          },
          "metadata": {}
        }
      ]
    },
    {
      "cell_type": "code",
      "source": [
        "from tqdm import tqdm\n",
        "from tensorflow.keras import layers, models\n",
        "from tensorflow.keras.optimizers import Adam\n",
        "from tensorflow.keras.callbacks import EarlyStopping\n",
        "\n",
        "def create_and_train_model(gps_data, ds, image_size, step, lag):\n",
        "    # Create an empty array to store image-GPS pairs\n",
        "    xdata = np.zeros((len(gps_data), image_size, image_size, lag))\n",
        "    ydata = np.zeros((len(gps_data), 2))\n",
        "    years = np.zeros(len(gps_data))\n",
        "\n",
        "    i = 0\n",
        "    for uid in tqdm(gps_data['ID'].unique()):\n",
        "        current_data = gps_data[gps_data['ID'] == uid]\n",
        "        for index, row in current_data.iterrows():\n",
        "            center_x = row['x1_']\n",
        "            center_y = row['y1_']\n",
        "            center_date = row['date1']\n",
        "\n",
        "            next_date = center_date + pd.Timedelta(days=step)\n",
        "            next_data = current_data[current_data['date1'] == next_date]\n",
        "            if len(next_data) == 0:\n",
        "                continue\n",
        "            next_x = next_data['x1_'].values[0]\n",
        "            next_y = next_data['y1_'].values[0]\n",
        "            ydata[i] = [next_x - center_x, next_y - center_y]\n",
        "\n",
        "            x_index = np.abs(ds.x - center_x).argmin().values\n",
        "            y_index = np.abs(ds.y - center_y).argmin().values\n",
        "            time_index = np.abs(ds.time - np.datetime64(center_date)).argmin().values\n",
        "            if time_index - lag < 0:\n",
        "                continue\n",
        "\n",
        "            subset = ds.isel(x=slice(x_index - image_size // 2, x_index + image_size // 2),\n",
        "                             y=slice(y_index - image_size // 2, y_index + image_size // 2),\n",
        "                             time=slice(time_index - lag + 1, time_index + 1))\n",
        "\n",
        "            data_array = subset.rainfall.values\n",
        "\n",
        "            if np.isnan(data_array).any() or np.isinf(data_array).any():\n",
        "                print(f\"Warning: NaN or infinite values found in data_array for ID {uid}, index {index}, time_index {time_index}\")\n",
        "                print(f\"NaN values: {np.sum(np.isnan(data_array))}\")\n",
        "                print(f\"Infinite values: {np.sum(np.isinf(data_array))}\")\n",
        "\n",
        "            data_array = np.nan_to_num(data_array)\n",
        "            data_array = np.transpose(data_array, [1, 2, 0])\n",
        "\n",
        "            xdata[i] = data_array\n",
        "            years[i] = center_date.year\n",
        "            i += 1\n",
        "\n",
        "    # Truncate arrays to actual data size\n",
        "    xdata = xdata[:i]\n",
        "    ydata = ydata[:i]\n",
        "    years = years[:i]\n",
        "\n",
        "    # Preprocess data\n",
        "    xdata = xdata.astype('float32')\n",
        "    xdata = xdata / np.percentile(xdata, 95)\n",
        "    ydata = ydata.astype('float32')\n",
        "    ydata = ydata / np.linalg.norm(ydata, axis=1, keepdims=True)\n",
        "\n",
        "    # Split data\n",
        "    xtrain = xdata[years != 2018]\n",
        "    ytrain = ydata[years != 2018]\n",
        "    xtest = xdata[years == 2018]\n",
        "    ytest = ydata[years == 2018]\n",
        "\n",
        "    # Model definition\n",
        "    image_input = layers.Input(shape=(image_size, image_size, lag), name='image_input')\n",
        "    x = layers.Conv2D(8, (3, 3), activation='relu', padding='same')(image_input)\n",
        "    x = layers.MaxPooling2D((2, 2))(x)\n",
        "    x = layers.Conv2D(8, (3, 3), activation='relu', padding='same')(x)\n",
        "    x = layers.MaxPooling2D((2, 2))(x)\n",
        "    x = layers.Conv2D(8, (3, 3), activation='relu', padding='same')(x)\n",
        "    x = layers.MaxPooling2D((2, 2))(x)\n",
        "    x = layers.Flatten()(x)\n",
        "    x = layers.Dense(16, activation='relu')(x)\n",
        "    output = layers.Dense(2, activation='linear')(x)\n",
        "    output = layers.Lambda(lambda x: tf.keras.backend.l2_normalize(x, axis=1))(output)\n",
        "    model = models.Model(inputs=image_input, outputs=output)\n",
        "\n",
        "    # Model compilation\n",
        "    opt = Adam(learning_rate=1e-2)\n",
        "    model.compile(optimizer=opt, loss=tf.keras.losses.CosineSimilarity(axis=-1))\n",
        "\n",
        "    # Model training\n",
        "    es = EarlyStopping(monitor='val_loss', mode='min', verbose=1, patience=5, restore_best_weights=True)\n",
        "    model.fit(xtrain, ytrain, epochs=100, validation_data=(xtest, ytest), callbacks=[es], batch_size=512)\n",
        "\n",
        "    # Evaluate the model\n",
        "    loss = model.evaluate(xtest, ytest)\n",
        "    return model, loss\n",
        "\n",
        "# Define ranges for hyperparameters\n",
        "image_sizes = [16, 20, 24, 32]\n",
        "steps = [1, 3, 7, 10, 16]\n",
        "lags = [1, 3, 5, 7, 10]\n",
        "\n",
        "best_model = None\n",
        "best_loss = float('inf')  # Initialize to a large value\n",
        "\n",
        "# Iterate over hyperparameters\n",
        "for image_size in image_sizes:\n",
        "    for step in steps:\n",
        "        for lag in lags:\n",
        "            print(f\"\\nTraining model with image_size={image_size}, step={step}, lag={lag}\")\n",
        "            current_model, current_loss = create_and_train_model(gps_data, ds, image_size, step, lag)\n",
        "\n",
        "            # Check if this set of parameters is the best so far\n",
        "            if current_loss < best_loss:\n",
        "                best_loss = current_loss\n",
        "                best_model = current_model\n",
        "\n",
        "# Evaluate the best model on the test set after the loop\n",
        "best_model.evaluate(xtest, ytest)\n",
        "\n",
        "print(\"Best model has been found.\")\n",
        "\n"
      ],
      "metadata": {
        "colab": {
          "base_uri": "https://localhost:8080/"
        },
        "id": "VCEC98KCcoNX",
        "outputId": "b16e057e-383e-405e-8237-0e32896b5dc3"
      },
      "execution_count": null,
      "outputs": [
        {
          "metadata": {
            "tags": null
          },
          "name": "stdout",
          "output_type": "stream",
          "text": [
            "\n",
            "Training model with image_size=16, step=1, lag=1\n"
          ]
        },
        {
          "metadata": {
            "tags": null
          },
          "name": "stderr",
          "output_type": "stream",
          "text": [
            "100%|██████████| 59/59 [02:22<00:00,  2.42s/it]\n"
          ]
        },
        {
          "metadata": {
            "tags": null
          },
          "name": "stdout",
          "output_type": "stream",
          "text": [
            "Epoch 1/100\n",
            "50/50 [==============================] - 6s 11ms/step - loss: -0.0707 - val_loss: -0.1389\n",
            "Epoch 2/100\n",
            "50/50 [==============================] - 0s 6ms/step - loss: -0.0957 - val_loss: -0.1377\n",
            "Epoch 3/100\n",
            "50/50 [==============================] - 0s 5ms/step - loss: -0.1025 - val_loss: -0.1356\n",
            "Epoch 4/100\n",
            "50/50 [==============================] - 0s 7ms/step - loss: -0.1041 - val_loss: -0.1484\n",
            "Epoch 5/100\n",
            "50/50 [==============================] - 0s 7ms/step - loss: -0.1047 - val_loss: -0.1391\n",
            "Epoch 6/100\n",
            "50/50 [==============================] - 0s 7ms/step - loss: -0.1078 - val_loss: -0.1075\n",
            "Epoch 7/100\n",
            "50/50 [==============================] - 0s 7ms/step - loss: -0.1021 - val_loss: -0.1362\n",
            "Epoch 8/100\n",
            "50/50 [==============================] - 0s 6ms/step - loss: -0.1078 - val_loss: -0.1394\n",
            "Epoch 9/100\n",
            "43/50 [========================>.....] - ETA: 0s - loss: -0.1071Restoring model weights from the end of the best epoch: 4.\n",
            "50/50 [==============================] - 0s 7ms/step - loss: -0.1094 - val_loss: -0.1205\n",
            "Epoch 9: early stopping\n",
            "181/181 [==============================] - 1s 4ms/step - loss: -0.1484\n",
            "\n",
            "Training model with image_size=16, step=1, lag=3\n"
          ]
        },
        {
          "metadata": {
            "tags": null
          },
          "name": "stderr",
          "output_type": "stream",
          "text": [
            "100%|██████████| 59/59 [02:26<00:00,  2.48s/it]\n"
          ]
        },
        {
          "metadata": {
            "tags": null
          },
          "name": "stdout",
          "output_type": "stream",
          "text": [
            "Epoch 1/100\n",
            "50/50 [==============================] - 2s 13ms/step - loss: -0.0986 - val_loss: -0.1329\n",
            "Epoch 2/100\n",
            "50/50 [==============================] - 0s 6ms/step - loss: -0.1179 - val_loss: -0.1514\n",
            "Epoch 3/100\n",
            "50/50 [==============================] - 0s 5ms/step - loss: -0.1143 - val_loss: -0.1446\n",
            "Epoch 4/100\n",
            "50/50 [==============================] - 0s 7ms/step - loss: -0.1268 - val_loss: -0.1538\n",
            "Epoch 5/100\n",
            "50/50 [==============================] - 0s 6ms/step - loss: -0.1283 - val_loss: -0.1502\n",
            "Epoch 6/100\n",
            "50/50 [==============================] - 0s 6ms/step - loss: -0.1334 - val_loss: -0.1575\n",
            "Epoch 7/100\n",
            "50/50 [==============================] - 0s 5ms/step - loss: -0.1385 - val_loss: -0.1555\n",
            "Epoch 8/100\n",
            "50/50 [==============================] - 0s 6ms/step - loss: -0.1396 - val_loss: -0.1602\n",
            "Epoch 9/100\n",
            "50/50 [==============================] - 0s 6ms/step - loss: -0.1463 - val_loss: -0.1496\n",
            "Epoch 10/100\n",
            "50/50 [==============================] - 0s 6ms/step - loss: -0.1329 - val_loss: -0.1502\n",
            "Epoch 11/100\n",
            "50/50 [==============================] - 0s 6ms/step - loss: -0.1410 - val_loss: -0.1452\n",
            "Epoch 12/100\n",
            "50/50 [==============================] - 0s 6ms/step - loss: -0.1414 - val_loss: -0.1572\n",
            "Epoch 13/100\n",
            "50/50 [==============================] - 0s 6ms/step - loss: -0.1471 - val_loss: -0.1614\n",
            "Epoch 14/100\n",
            "50/50 [==============================] - 0s 6ms/step - loss: -0.1482 - val_loss: -0.1509\n",
            "Epoch 15/100\n",
            "50/50 [==============================] - 0s 6ms/step - loss: -0.1530 - val_loss: -0.1526\n",
            "Epoch 16/100\n",
            "50/50 [==============================] - 0s 6ms/step - loss: -0.1518 - val_loss: -0.1569\n",
            "Epoch 17/100\n",
            "50/50 [==============================] - 0s 6ms/step - loss: -0.1498 - val_loss: -0.1541\n",
            "Epoch 18/100\n",
            "45/50 [==========================>...] - ETA: 0s - loss: -0.1505Restoring model weights from the end of the best epoch: 13.\n",
            "50/50 [==============================] - 0s 6ms/step - loss: -0.1509 - val_loss: -0.1558\n",
            "Epoch 18: early stopping\n",
            "181/181 [==============================] - 1s 3ms/step - loss: -0.1614\n",
            "\n",
            "Training model with image_size=16, step=1, lag=5\n"
          ]
        },
        {
          "metadata": {
            "tags": null
          },
          "name": "stderr",
          "output_type": "stream",
          "text": [
            "100%|██████████| 59/59 [02:27<00:00,  2.51s/it]\n"
          ]
        },
        {
          "metadata": {
            "tags": null
          },
          "name": "stdout",
          "output_type": "stream",
          "text": [
            "Epoch 1/100\n",
            "50/50 [==============================] - 2s 14ms/step - loss: -0.1038 - val_loss: -0.1324\n",
            "Epoch 2/100\n",
            "50/50 [==============================] - 0s 7ms/step - loss: -0.1110 - val_loss: -0.1534\n",
            "Epoch 3/100\n",
            "50/50 [==============================] - 0s 6ms/step - loss: -0.1213 - val_loss: -0.1505\n",
            "Epoch 4/100\n",
            "50/50 [==============================] - 0s 7ms/step - loss: -0.1358 - val_loss: -0.1585\n",
            "Epoch 5/100\n",
            "50/50 [==============================] - 0s 6ms/step - loss: -0.1342 - val_loss: -0.1564\n",
            "Epoch 6/100\n",
            "50/50 [==============================] - 0s 6ms/step - loss: -0.1433 - val_loss: -0.1567\n",
            "Epoch 7/100\n",
            "50/50 [==============================] - 0s 7ms/step - loss: -0.1450 - val_loss: -0.1692\n",
            "Epoch 8/100\n",
            "50/50 [==============================] - 0s 7ms/step - loss: -0.1487 - val_loss: -0.1652\n",
            "Epoch 9/100\n",
            "50/50 [==============================] - 0s 6ms/step - loss: -0.1542 - val_loss: -0.1613\n",
            "Epoch 10/100\n",
            "50/50 [==============================] - 0s 6ms/step - loss: -0.1530 - val_loss: -0.1810\n",
            "Epoch 11/100\n",
            "50/50 [==============================] - 0s 7ms/step - loss: -0.1580 - val_loss: -0.1646\n",
            "Epoch 12/100\n",
            "50/50 [==============================] - 0s 6ms/step - loss: -0.1568 - val_loss: -0.1801\n",
            "Epoch 13/100\n",
            "50/50 [==============================] - 0s 6ms/step - loss: -0.1606 - val_loss: -0.1773\n",
            "Epoch 14/100\n",
            "50/50 [==============================] - 0s 6ms/step - loss: -0.1536 - val_loss: -0.1698\n",
            "Epoch 15/100\n",
            "41/50 [=======================>......] - ETA: 0s - loss: -0.1481Restoring model weights from the end of the best epoch: 10.\n",
            "50/50 [==============================] - 0s 7ms/step - loss: -0.1502 - val_loss: -0.1714\n",
            "Epoch 15: early stopping\n",
            "181/181 [==============================] - 1s 3ms/step - loss: -0.1810\n",
            "\n",
            "Training model with image_size=16, step=1, lag=7\n"
          ]
        },
        {
          "metadata": {
            "tags": null
          },
          "name": "stderr",
          "output_type": "stream",
          "text": [
            "100%|██████████| 59/59 [02:27<00:00,  2.50s/it]\n"
          ]
        },
        {
          "metadata": {
            "tags": null
          },
          "name": "stdout",
          "output_type": "stream",
          "text": [
            "Epoch 1/100\n",
            "50/50 [==============================] - 2s 16ms/step - loss: -0.0937 - val_loss: -0.1549\n",
            "Epoch 2/100\n",
            "50/50 [==============================] - 0s 7ms/step - loss: -0.1275 - val_loss: -0.1792\n",
            "Epoch 3/100\n",
            "50/50 [==============================] - 0s 7ms/step - loss: -0.1323 - val_loss: -0.1650\n",
            "Epoch 4/100\n",
            "50/50 [==============================] - 0s 7ms/step - loss: -0.1463 - val_loss: -0.1601\n",
            "Epoch 5/100\n",
            "50/50 [==============================] - 0s 7ms/step - loss: -0.1467 - val_loss: -0.1438\n",
            "Epoch 6/100\n",
            "50/50 [==============================] - 0s 7ms/step - loss: -0.1414 - val_loss: -0.1605\n",
            "Epoch 7/100\n",
            "42/50 [========================>.....] - ETA: 0s - loss: -0.1478Restoring model weights from the end of the best epoch: 2.\n",
            "50/50 [==============================] - 0s 7ms/step - loss: -0.1467 - val_loss: -0.1667\n",
            "Epoch 7: early stopping\n",
            "181/181 [==============================] - 0s 2ms/step - loss: -0.1792\n",
            "\n",
            "Training model with image_size=16, step=1, lag=10\n"
          ]
        },
        {
          "metadata": {
            "tags": null
          },
          "name": "stderr",
          "output_type": "stream",
          "text": [
            "100%|██████████| 59/59 [02:28<00:00,  2.52s/it]\n"
          ]
        },
        {
          "metadata": {
            "tags": null
          },
          "name": "stdout",
          "output_type": "stream",
          "text": [
            "Epoch 1/100\n",
            "50/50 [==============================] - 3s 24ms/step - loss: -0.0950 - val_loss: -0.1070\n",
            "Epoch 2/100\n",
            "50/50 [==============================] - 0s 8ms/step - loss: -0.1217 - val_loss: -0.1384\n",
            "Epoch 3/100\n",
            "50/50 [==============================] - 0s 8ms/step - loss: -0.1096 - val_loss: -0.1427\n",
            "Epoch 4/100\n",
            "50/50 [==============================] - 0s 8ms/step - loss: -0.1306 - val_loss: -0.1599\n",
            "Epoch 5/100\n",
            "50/50 [==============================] - 0s 9ms/step - loss: -0.1323 - val_loss: -0.1411\n",
            "Epoch 6/100\n",
            "50/50 [==============================] - 0s 9ms/step - loss: -0.1475 - val_loss: -0.1592\n",
            "Epoch 7/100\n",
            "50/50 [==============================] - 0s 8ms/step - loss: -0.1543 - val_loss: -0.1781\n",
            "Epoch 8/100\n",
            "50/50 [==============================] - 0s 8ms/step - loss: -0.1600 - val_loss: -0.1742\n",
            "Epoch 9/100\n",
            "50/50 [==============================] - 0s 8ms/step - loss: -0.1519 - val_loss: -0.1306\n",
            "Epoch 10/100\n",
            "50/50 [==============================] - 0s 8ms/step - loss: -0.1446 - val_loss: -0.1830\n",
            "Epoch 11/100\n",
            "50/50 [==============================] - 0s 8ms/step - loss: -0.1579 - val_loss: -0.1522\n",
            "Epoch 12/100\n",
            "50/50 [==============================] - 0s 9ms/step - loss: -0.1670 - val_loss: -0.1601\n",
            "Epoch 13/100\n",
            "50/50 [==============================] - 0s 9ms/step - loss: -0.1650 - val_loss: -0.1816\n",
            "Epoch 14/100\n",
            "50/50 [==============================] - 0s 8ms/step - loss: -0.1730 - val_loss: -0.1735\n",
            "Epoch 15/100\n",
            "50/50 [==============================] - 0s 9ms/step - loss: -0.1771 - val_loss: -0.1950\n",
            "Epoch 16/100\n",
            "50/50 [==============================] - 0s 8ms/step - loss: -0.1766 - val_loss: -0.1829\n",
            "Epoch 17/100\n",
            "50/50 [==============================] - 0s 8ms/step - loss: -0.1828 - val_loss: -0.1966\n",
            "Epoch 18/100\n",
            "50/50 [==============================] - 0s 9ms/step - loss: -0.1820 - val_loss: -0.1488\n",
            "Epoch 19/100\n",
            "50/50 [==============================] - 0s 9ms/step - loss: -0.1639 - val_loss: -0.1822\n",
            "Epoch 20/100\n",
            "50/50 [==============================] - 0s 9ms/step - loss: -0.1748 - val_loss: -0.1776\n",
            "Epoch 21/100\n",
            "50/50 [==============================] - 0s 8ms/step - loss: -0.1812 - val_loss: -0.1874\n",
            "Epoch 22/100\n",
            "44/50 [=========================>....] - ETA: 0s - loss: -0.1846Restoring model weights from the end of the best epoch: 17.\n",
            "50/50 [==============================] - 0s 9ms/step - loss: -0.1871 - val_loss: -0.1733\n",
            "Epoch 22: early stopping\n",
            "181/181 [==============================] - 1s 3ms/step - loss: -0.1966\n",
            "\n",
            "Training model with image_size=16, step=3, lag=1\n"
          ]
        },
        {
          "metadata": {
            "tags": null
          },
          "name": "stderr",
          "output_type": "stream",
          "text": [
            "100%|██████████| 59/59 [02:21<00:00,  2.40s/it]\n"
          ]
        },
        {
          "metadata": {
            "tags": null
          },
          "name": "stdout",
          "output_type": "stream",
          "text": [
            "Epoch 1/100\n",
            "49/49 [==============================] - 2s 13ms/step - loss: -0.1295 - val_loss: -0.1785\n",
            "Epoch 2/100\n",
            "49/49 [==============================] - 0s 6ms/step - loss: -0.1440 - val_loss: -0.1781\n",
            "Epoch 3/100\n",
            "49/49 [==============================] - 0s 5ms/step - loss: -0.1458 - val_loss: -0.1656\n",
            "Epoch 4/100\n",
            "49/49 [==============================] - 0s 6ms/step - loss: -0.1501 - val_loss: -0.1848\n",
            "Epoch 5/100\n",
            "49/49 [==============================] - 0s 6ms/step - loss: -0.1499 - val_loss: -0.1751\n",
            "Epoch 6/100\n",
            "49/49 [==============================] - 0s 5ms/step - loss: -0.1452 - val_loss: -0.1808\n",
            "Epoch 7/100\n",
            "49/49 [==============================] - 0s 7ms/step - loss: -0.1509 - val_loss: -0.1794\n",
            "Epoch 8/100\n",
            "49/49 [==============================] - 0s 7ms/step - loss: -0.1463 - val_loss: -0.1767\n",
            "Epoch 9/100\n",
            "47/49 [===========================>..] - ETA: 0s - loss: -0.1516Restoring model weights from the end of the best epoch: 4.\n",
            "49/49 [==============================] - 0s 8ms/step - loss: -0.1522 - val_loss: -0.1754\n",
            "Epoch 9: early stopping\n",
            "178/178 [==============================] - 1s 6ms/step - loss: -0.1848\n",
            "\n",
            "Training model with image_size=16, step=3, lag=3\n"
          ]
        },
        {
          "metadata": {
            "tags": null
          },
          "name": "stderr",
          "output_type": "stream",
          "text": [
            "100%|██████████| 59/59 [02:24<00:00,  2.45s/it]\n"
          ]
        },
        {
          "metadata": {
            "tags": null
          },
          "name": "stdout",
          "output_type": "stream",
          "text": [
            "Epoch 1/100\n",
            "49/49 [==============================] - 2s 13ms/step - loss: -0.1444 - val_loss: -0.2016\n",
            "Epoch 2/100\n",
            "49/49 [==============================] - 0s 6ms/step - loss: -0.1612 - val_loss: -0.2076\n",
            "Epoch 3/100\n",
            "49/49 [==============================] - 0s 6ms/step - loss: -0.1590 - val_loss: -0.1746\n",
            "Epoch 4/100\n",
            "49/49 [==============================] - 0s 6ms/step - loss: -0.1737 - val_loss: -0.1896\n",
            "Epoch 5/100\n",
            "49/49 [==============================] - 0s 6ms/step - loss: -0.1792 - val_loss: -0.1960\n",
            "Epoch 6/100\n",
            "49/49 [==============================] - 0s 5ms/step - loss: -0.1790 - val_loss: -0.1929\n",
            "Epoch 7/100\n",
            "48/49 [============================>.] - ETA: 0s - loss: -0.1726Restoring model weights from the end of the best epoch: 2.\n",
            "49/49 [==============================] - 0s 6ms/step - loss: -0.1725 - val_loss: -0.1952\n",
            "Epoch 7: early stopping\n",
            "178/178 [==============================] - 0s 2ms/step - loss: -0.2076\n",
            "\n",
            "Training model with image_size=16, step=3, lag=5\n"
          ]
        },
        {
          "metadata": {
            "tags": null
          },
          "name": "stderr",
          "output_type": "stream",
          "text": [
            "100%|██████████| 59/59 [02:23<00:00,  2.43s/it]\n"
          ]
        },
        {
          "metadata": {
            "tags": null
          },
          "name": "stdout",
          "output_type": "stream",
          "text": [
            "Epoch 1/100\n",
            "49/49 [==============================] - 2s 14ms/step - loss: -0.1309 - val_loss: -0.1800\n",
            "Epoch 2/100\n",
            "49/49 [==============================] - 0s 7ms/step - loss: -0.1662 - val_loss: -0.1992\n",
            "Epoch 3/100\n",
            "49/49 [==============================] - 0s 6ms/step - loss: -0.1880 - val_loss: -0.1984\n",
            "Epoch 4/100\n",
            "49/49 [==============================] - 0s 7ms/step - loss: -0.1855 - val_loss: -0.2134\n",
            "Epoch 5/100\n",
            "49/49 [==============================] - 0s 6ms/step - loss: -0.1868 - val_loss: -0.1818\n",
            "Epoch 6/100\n",
            "49/49 [==============================] - 0s 6ms/step - loss: -0.1846 - val_loss: -0.1983\n",
            "Epoch 7/100\n",
            "49/49 [==============================] - 0s 6ms/step - loss: -0.1958 - val_loss: -0.2127\n",
            "Epoch 8/100\n",
            "49/49 [==============================] - 0s 7ms/step - loss: -0.1755 - val_loss: -0.1973\n",
            "Epoch 9/100\n",
            "49/49 [==============================] - 0s 7ms/step - loss: -0.1906 - val_loss: -0.2134\n",
            "Epoch 10/100\n",
            "49/49 [==============================] - 0s 7ms/step - loss: -0.2003 - val_loss: -0.2173\n",
            "Epoch 11/100\n",
            "49/49 [==============================] - 0s 7ms/step - loss: -0.2036 - val_loss: -0.2169\n",
            "Epoch 12/100\n",
            "49/49 [==============================] - 0s 6ms/step - loss: -0.2088 - val_loss: -0.2137\n",
            "Epoch 13/100\n",
            "49/49 [==============================] - 0s 6ms/step - loss: -0.2155 - val_loss: -0.2137\n",
            "Epoch 14/100\n",
            "49/49 [==============================] - 0s 6ms/step - loss: -0.2127 - val_loss: -0.2151\n",
            "Epoch 15/100\n",
            "44/49 [=========================>....] - ETA: 0s - loss: -0.2144Restoring model weights from the end of the best epoch: 10.\n",
            "49/49 [==============================] - 0s 6ms/step - loss: -0.2164 - val_loss: -0.2101\n",
            "Epoch 15: early stopping\n",
            "178/178 [==============================] - 0s 2ms/step - loss: -0.2173\n",
            "\n",
            "Training model with image_size=16, step=3, lag=7\n"
          ]
        },
        {
          "metadata": {
            "tags": null
          },
          "name": "stderr",
          "output_type": "stream",
          "text": [
            "100%|██████████| 59/59 [02:23<00:00,  2.43s/it]\n"
          ]
        },
        {
          "metadata": {
            "tags": null
          },
          "name": "stdout",
          "output_type": "stream",
          "text": [
            "Epoch 1/100\n",
            "49/49 [==============================] - 3s 30ms/step - loss: -0.1170 - val_loss: -0.1860\n",
            "Epoch 2/100\n",
            "49/49 [==============================] - 0s 9ms/step - loss: -0.1430 - val_loss: -0.2073\n",
            "Epoch 3/100\n",
            "49/49 [==============================] - 0s 9ms/step - loss: -0.1734 - val_loss: -0.2021\n",
            "Epoch 4/100\n",
            "49/49 [==============================] - 0s 7ms/step - loss: -0.1889 - val_loss: -0.2222\n",
            "Epoch 5/100\n",
            "49/49 [==============================] - 0s 8ms/step - loss: -0.1980 - val_loss: -0.2169\n",
            "Epoch 6/100\n",
            "49/49 [==============================] - 0s 7ms/step - loss: -0.2072 - val_loss: -0.2228\n",
            "Epoch 7/100\n",
            "49/49 [==============================] - 0s 7ms/step - loss: -0.1904 - val_loss: -0.2066\n",
            "Epoch 8/100\n",
            "49/49 [==============================] - 0s 7ms/step - loss: -0.2076 - val_loss: -0.2135\n",
            "Epoch 9/100\n",
            "49/49 [==============================] - 0s 7ms/step - loss: -0.2141 - val_loss: -0.2208\n",
            "Epoch 10/100\n",
            "49/49 [==============================] - 0s 7ms/step - loss: -0.2146 - val_loss: -0.2249\n",
            "Epoch 11/100\n",
            "49/49 [==============================] - 0s 7ms/step - loss: -0.2219 - val_loss: -0.2152\n",
            "Epoch 12/100\n",
            "49/49 [==============================] - 0s 7ms/step - loss: -0.2247 - val_loss: -0.2081\n",
            "Epoch 13/100\n",
            "49/49 [==============================] - 0s 7ms/step - loss: -0.1954 - val_loss: -0.1563\n",
            "Epoch 14/100\n",
            "49/49 [==============================] - 0s 7ms/step - loss: -0.1630 - val_loss: -0.1949\n",
            "Epoch 15/100\n",
            "48/49 [============================>.] - ETA: 0s - loss: -0.1890Restoring model weights from the end of the best epoch: 10.\n",
            "49/49 [==============================] - 0s 7ms/step - loss: -0.1889 - val_loss: -0.2149\n",
            "Epoch 15: early stopping\n",
            "178/178 [==============================] - 0s 2ms/step - loss: -0.2249\n",
            "\n",
            "Training model with image_size=16, step=3, lag=10\n"
          ]
        },
        {
          "metadata": {
            "tags": null
          },
          "name": "stderr",
          "output_type": "stream",
          "text": [
            "100%|██████████| 59/59 [02:25<00:00,  2.47s/it]\n"
          ]
        },
        {
          "metadata": {
            "tags": null
          },
          "name": "stdout",
          "output_type": "stream",
          "text": [
            "Epoch 1/100\n",
            "49/49 [==============================] - 3s 22ms/step - loss: -0.0561 - val_loss: -0.0737\n",
            "Epoch 2/100\n",
            "49/49 [==============================] - 1s 10ms/step - loss: -0.1386 - val_loss: -0.1493\n",
            "Epoch 3/100\n",
            "49/49 [==============================] - 1s 13ms/step - loss: -0.1609 - val_loss: -0.1823\n",
            "Epoch 4/100\n",
            "49/49 [==============================] - 0s 9ms/step - loss: -0.1813 - val_loss: -0.1854\n",
            "Epoch 5/100\n",
            "49/49 [==============================] - 0s 9ms/step - loss: -0.1944 - val_loss: -0.2007\n",
            "Epoch 6/100\n",
            "49/49 [==============================] - 0s 8ms/step - loss: -0.1989 - val_loss: -0.2050\n",
            "Epoch 7/100\n",
            "49/49 [==============================] - 0s 8ms/step - loss: -0.2090 - val_loss: -0.1966\n",
            "Epoch 8/100\n",
            "49/49 [==============================] - 0s 8ms/step - loss: -0.2161 - val_loss: -0.2303\n",
            "Epoch 9/100\n",
            "49/49 [==============================] - 0s 8ms/step - loss: -0.2219 - val_loss: -0.2292\n",
            "Epoch 10/100\n",
            "49/49 [==============================] - 0s 8ms/step - loss: -0.2287 - val_loss: -0.2298\n",
            "Epoch 11/100\n",
            "49/49 [==============================] - 0s 8ms/step - loss: -0.2311 - val_loss: -0.2247\n",
            "Epoch 12/100\n",
            "49/49 [==============================] - 0s 8ms/step - loss: -0.2228 - val_loss: -0.2227\n",
            "Epoch 13/100\n",
            "48/49 [============================>.] - ETA: 0s - loss: -0.2110Restoring model weights from the end of the best epoch: 8.\n",
            "49/49 [==============================] - 0s 9ms/step - loss: -0.2114 - val_loss: -0.2235\n",
            "Epoch 13: early stopping\n",
            "178/178 [==============================] - 0s 2ms/step - loss: -0.2303\n",
            "\n",
            "Training model with image_size=16, step=7, lag=1\n"
          ]
        },
        {
          "metadata": {
            "tags": null
          },
          "name": "stderr",
          "output_type": "stream",
          "text": [
            "100%|██████████| 59/59 [02:17<00:00,  2.33s/it]\n"
          ]
        },
        {
          "metadata": {
            "tags": null
          },
          "name": "stdout",
          "output_type": "stream",
          "text": [
            "Epoch 1/100\n",
            "47/47 [==============================] - 2s 13ms/step - loss: -0.1312 - val_loss: -0.2042\n",
            "Epoch 2/100\n",
            "47/47 [==============================] - 0s 5ms/step - loss: -0.1474 - val_loss: -0.1921\n",
            "Epoch 3/100\n",
            "47/47 [==============================] - 0s 5ms/step - loss: -0.1459 - val_loss: -0.2092\n",
            "Epoch 4/100\n",
            "47/47 [==============================] - 0s 5ms/step - loss: -0.1529 - val_loss: -0.2100\n",
            "Epoch 5/100\n",
            "47/47 [==============================] - 0s 5ms/step - loss: -0.1556 - val_loss: -0.2072\n",
            "Epoch 6/100\n",
            "47/47 [==============================] - 0s 6ms/step - loss: -0.1562 - val_loss: -0.1988\n",
            "Epoch 7/100\n",
            "47/47 [==============================] - 0s 5ms/step - loss: -0.1594 - val_loss: -0.1861\n",
            "Epoch 8/100\n",
            "47/47 [==============================] - 0s 5ms/step - loss: -0.1533 - val_loss: -0.2034\n",
            "Epoch 9/100\n",
            "47/47 [==============================] - 0s 6ms/step - loss: -0.1536 - val_loss: -0.2111\n",
            "Epoch 10/100\n",
            "47/47 [==============================] - 0s 6ms/step - loss: -0.1573 - val_loss: -0.2079\n",
            "Epoch 11/100\n",
            "47/47 [==============================] - 0s 6ms/step - loss: -0.1669 - val_loss: -0.2049\n",
            "Epoch 12/100\n",
            "47/47 [==============================] - 0s 6ms/step - loss: -0.1689 - val_loss: -0.1950\n",
            "Epoch 13/100\n",
            "47/47 [==============================] - 0s 5ms/step - loss: -0.1676 - val_loss: -0.1985\n",
            "Epoch 14/100\n",
            "47/47 [==============================] - ETA: 0s - loss: -0.1717Restoring model weights from the end of the best epoch: 9.\n",
            "47/47 [==============================] - 0s 6ms/step - loss: -0.1717 - val_loss: -0.1922\n",
            "Epoch 14: early stopping\n",
            "175/175 [==============================] - 0s 3ms/step - loss: -0.2111\n",
            "\n",
            "Training model with image_size=16, step=7, lag=3\n"
          ]
        },
        {
          "metadata": {
            "tags": null
          },
          "name": "stderr",
          "output_type": "stream",
          "text": [
            "100%|██████████| 59/59 [02:18<00:00,  2.36s/it]\n"
          ]
        },
        {
          "metadata": {
            "tags": null
          },
          "name": "stdout",
          "output_type": "stream",
          "text": [
            "Epoch 1/100\n",
            "47/47 [==============================] - 2s 13ms/step - loss: -0.1235 - val_loss: -0.1658\n",
            "Epoch 2/100\n",
            "47/47 [==============================] - 0s 7ms/step - loss: -0.1453 - val_loss: -0.2036\n",
            "Epoch 3/100\n",
            "47/47 [==============================] - 0s 6ms/step - loss: -0.1599 - val_loss: -0.2056\n",
            "Epoch 4/100\n",
            "47/47 [==============================] - 0s 5ms/step - loss: -0.1646 - val_loss: -0.1879\n",
            "Epoch 5/100\n",
            "47/47 [==============================] - 0s 6ms/step - loss: -0.1647 - val_loss: -0.2041\n",
            "Epoch 6/100\n",
            "47/47 [==============================] - 0s 6ms/step - loss: -0.1746 - val_loss: -0.1893\n",
            "Epoch 7/100\n",
            "47/47 [==============================] - 0s 6ms/step - loss: -0.1805 - val_loss: -0.2022\n",
            "Epoch 8/100\n",
            "47/47 [==============================] - 0s 6ms/step - loss: -0.1848 - val_loss: -0.2058\n",
            "Epoch 9/100\n",
            "47/47 [==============================] - 0s 6ms/step - loss: -0.1872 - val_loss: -0.2019\n",
            "Epoch 10/100\n",
            "47/47 [==============================] - 0s 7ms/step - loss: -0.1891 - val_loss: -0.2005\n",
            "Epoch 11/100\n",
            "47/47 [==============================] - 0s 6ms/step - loss: -0.1780 - val_loss: -0.1967\n",
            "Epoch 12/100\n",
            "47/47 [==============================] - 0s 6ms/step - loss: -0.1863 - val_loss: -0.1985\n",
            "Epoch 13/100\n",
            "46/47 [============================>.] - ETA: 0s - loss: -0.1899Restoring model weights from the end of the best epoch: 8.\n",
            "47/47 [==============================] - 0s 7ms/step - loss: -0.1903 - val_loss: -0.1910\n",
            "Epoch 13: early stopping\n",
            "175/175 [==============================] - 0s 2ms/step - loss: -0.2058\n",
            "\n",
            "Training model with image_size=16, step=7, lag=5\n"
          ]
        },
        {
          "metadata": {
            "tags": null
          },
          "name": "stderr",
          "output_type": "stream",
          "text": [
            "100%|██████████| 59/59 [02:18<00:00,  2.35s/it]\n"
          ]
        },
        {
          "metadata": {
            "tags": null
          },
          "name": "stdout",
          "output_type": "stream",
          "text": [
            "Epoch 1/100\n",
            "47/47 [==============================] - 2s 14ms/step - loss: -0.1228 - val_loss: -0.2097\n",
            "Epoch 2/100\n",
            "47/47 [==============================] - 0s 6ms/step - loss: -0.1732 - val_loss: -0.2034\n",
            "Epoch 3/100\n",
            "47/47 [==============================] - 0s 7ms/step - loss: -0.1844 - val_loss: -0.2164\n",
            "Epoch 4/100\n",
            "47/47 [==============================] - 0s 6ms/step - loss: -0.1895 - val_loss: -0.2038\n",
            "Epoch 5/100\n",
            "47/47 [==============================] - 0s 7ms/step - loss: -0.1949 - val_loss: -0.2297\n",
            "Epoch 6/100\n",
            "47/47 [==============================] - 0s 7ms/step - loss: -0.2038 - val_loss: -0.1874\n",
            "Epoch 7/100\n",
            "47/47 [==============================] - 0s 7ms/step - loss: -0.1976 - val_loss: -0.2104\n",
            "Epoch 8/100\n",
            "47/47 [==============================] - 0s 6ms/step - loss: -0.2107 - val_loss: -0.2169\n",
            "Epoch 9/100\n",
            "47/47 [==============================] - 0s 7ms/step - loss: -0.2094 - val_loss: -0.2232\n",
            "Epoch 10/100\n",
            "43/47 [==========================>...] - ETA: 0s - loss: -0.2110Restoring model weights from the end of the best epoch: 5.\n",
            "47/47 [==============================] - 0s 6ms/step - loss: -0.2120 - val_loss: -0.2186\n",
            "Epoch 10: early stopping\n",
            "175/175 [==============================] - 0s 2ms/step - loss: -0.2297\n",
            "\n",
            "Training model with image_size=16, step=7, lag=7\n"
          ]
        },
        {
          "metadata": {
            "tags": null
          },
          "name": "stderr",
          "output_type": "stream",
          "text": [
            "100%|██████████| 59/59 [02:18<00:00,  2.35s/it]\n"
          ]
        },
        {
          "metadata": {
            "tags": null
          },
          "name": "stdout",
          "output_type": "stream",
          "text": [
            "Epoch 1/100\n",
            "47/47 [==============================] - 2s 16ms/step - loss: -0.0915 - val_loss: -0.1668\n",
            "Epoch 2/100\n",
            "47/47 [==============================] - 0s 7ms/step - loss: -0.1479 - val_loss: -0.1818\n",
            "Epoch 3/100\n",
            "47/47 [==============================] - 0s 7ms/step - loss: -0.1615 - val_loss: -0.1889\n",
            "Epoch 4/100\n",
            "47/47 [==============================] - 0s 7ms/step - loss: -0.1642 - val_loss: -0.1975\n",
            "Epoch 5/100\n",
            "47/47 [==============================] - 0s 7ms/step - loss: -0.1815 - val_loss: -0.2131\n",
            "Epoch 6/100\n",
            "47/47 [==============================] - 0s 7ms/step - loss: -0.0750 - val_loss: -0.0590\n",
            "Epoch 7/100\n",
            "47/47 [==============================] - 0s 7ms/step - loss: -0.1009 - val_loss: -0.1654\n",
            "Epoch 8/100\n",
            "47/47 [==============================] - 0s 7ms/step - loss: -0.1864 - val_loss: -0.2124\n",
            "Epoch 9/100\n",
            "47/47 [==============================] - 0s 7ms/step - loss: -0.2015 - val_loss: -0.2185\n",
            "Epoch 10/100\n",
            "47/47 [==============================] - 0s 7ms/step - loss: -0.1934 - val_loss: -0.2345\n",
            "Epoch 11/100\n",
            "47/47 [==============================] - 0s 6ms/step - loss: -0.2122 - val_loss: -0.2276\n",
            "Epoch 12/100\n",
            "47/47 [==============================] - 0s 7ms/step - loss: -0.2185 - val_loss: -0.2402\n",
            "Epoch 13/100\n",
            "47/47 [==============================] - 0s 7ms/step - loss: -0.2094 - val_loss: -0.2111\n",
            "Epoch 14/100\n",
            "47/47 [==============================] - 0s 6ms/step - loss: -0.2175 - val_loss: -0.2338\n",
            "Epoch 15/100\n",
            "47/47 [==============================] - 0s 10ms/step - loss: -0.2296 - val_loss: -0.2423\n",
            "Epoch 16/100\n",
            "47/47 [==============================] - 0s 9ms/step - loss: -0.2265 - val_loss: -0.2107\n",
            "Epoch 17/100\n",
            "47/47 [==============================] - 0s 10ms/step - loss: -0.2267 - val_loss: -0.2407\n",
            "Epoch 18/100\n",
            "47/47 [==============================] - 0s 10ms/step - loss: -0.2360 - val_loss: -0.2338\n",
            "Epoch 19/100\n",
            "47/47 [==============================] - 0s 10ms/step - loss: -0.2378 - val_loss: -0.2387\n",
            "Epoch 20/100\n",
            "43/47 [==========================>...] - ETA: 0s - loss: -0.2379Restoring model weights from the end of the best epoch: 15.\n",
            "47/47 [==============================] - 0s 10ms/step - loss: -0.2372 - val_loss: -0.2283\n",
            "Epoch 20: early stopping\n",
            "175/175 [==============================] - 0s 2ms/step - loss: -0.2423\n",
            "\n",
            "Training model with image_size=16, step=7, lag=10\n"
          ]
        },
        {
          "metadata": {
            "tags": null
          },
          "name": "stderr",
          "output_type": "stream",
          "text": [
            "100%|██████████| 59/59 [02:19<00:00,  2.36s/it]\n"
          ]
        },
        {
          "metadata": {
            "tags": null
          },
          "name": "stdout",
          "output_type": "stream",
          "text": [
            "Epoch 1/100\n",
            "47/47 [==============================] - 3s 18ms/step - loss: -0.1168 - val_loss: -0.1955\n",
            "Epoch 2/100\n",
            "47/47 [==============================] - 0s 7ms/step - loss: -0.1591 - val_loss: -0.2101\n",
            "Epoch 3/100\n",
            "47/47 [==============================] - 0s 8ms/step - loss: -0.1814 - val_loss: -0.2446\n",
            "Epoch 4/100\n",
            "47/47 [==============================] - 0s 8ms/step - loss: -0.1900 - val_loss: -0.2678\n",
            "Epoch 5/100\n",
            "47/47 [==============================] - 0s 8ms/step - loss: -0.2080 - val_loss: -0.2491\n",
            "Epoch 6/100\n",
            "47/47 [==============================] - 0s 8ms/step - loss: -0.2060 - val_loss: -0.2613\n",
            "Epoch 7/100\n",
            "47/47 [==============================] - 0s 8ms/step - loss: -0.2183 - val_loss: -0.2539\n",
            "Epoch 8/100\n",
            "47/47 [==============================] - 0s 8ms/step - loss: -0.2267 - val_loss: -0.2723\n",
            "Epoch 9/100\n",
            "47/47 [==============================] - 0s 8ms/step - loss: -0.2215 - val_loss: -0.2481\n",
            "Epoch 10/100\n",
            "47/47 [==============================] - 0s 8ms/step - loss: -0.2150 - val_loss: -0.2377\n",
            "Epoch 11/100\n",
            "47/47 [==============================] - 0s 8ms/step - loss: -0.2252 - val_loss: -0.2572\n",
            "Epoch 12/100\n",
            "47/47 [==============================] - 0s 8ms/step - loss: -0.2173 - val_loss: -0.2490\n",
            "Epoch 13/100\n",
            "41/47 [=========================>....] - ETA: 0s - loss: -0.2274Restoring model weights from the end of the best epoch: 8.\n",
            "47/47 [==============================] - 0s 8ms/step - loss: -0.2257 - val_loss: -0.2575\n",
            "Epoch 13: early stopping\n",
            "175/175 [==============================] - 1s 3ms/step - loss: -0.2723\n",
            "\n",
            "Training model with image_size=16, step=10, lag=1\n"
          ]
        },
        {
          "metadata": {
            "tags": null
          },
          "name": "stderr",
          "output_type": "stream",
          "text": [
            "100%|██████████| 59/59 [02:14<00:00,  2.29s/it]\n"
          ]
        },
        {
          "metadata": {
            "tags": null
          },
          "name": "stdout",
          "output_type": "stream",
          "text": [
            "Epoch 1/100\n",
            "46/46 [==============================] - 2s 16ms/step - loss: -0.1220 - val_loss: -0.1769\n",
            "Epoch 2/100\n",
            "46/46 [==============================] - 0s 5ms/step - loss: -0.1419 - val_loss: -0.1895\n",
            "Epoch 3/100\n",
            "46/46 [==============================] - 0s 6ms/step - loss: -0.1508 - val_loss: -0.1824\n",
            "Epoch 4/100\n",
            "46/46 [==============================] - 0s 5ms/step - loss: -0.1519 - val_loss: -0.1903\n",
            "Epoch 5/100\n",
            "46/46 [==============================] - 0s 6ms/step - loss: -0.1622 - val_loss: -0.1685\n",
            "Epoch 6/100\n",
            "46/46 [==============================] - 0s 6ms/step - loss: -0.1587 - val_loss: -0.1837\n",
            "Epoch 7/100\n",
            "46/46 [==============================] - 0s 6ms/step - loss: -0.1633 - val_loss: -0.1881\n",
            "Epoch 8/100\n",
            "46/46 [==============================] - 0s 6ms/step - loss: -0.1705 - val_loss: -0.1974\n",
            "Epoch 9/100\n",
            "46/46 [==============================] - 0s 6ms/step - loss: -0.1644 - val_loss: -0.1879\n",
            "Epoch 10/100\n",
            "46/46 [==============================] - 0s 6ms/step - loss: -0.1702 - val_loss: -0.2046\n",
            "Epoch 11/100\n",
            "46/46 [==============================] - 0s 6ms/step - loss: -0.1770 - val_loss: -0.1932\n",
            "Epoch 12/100\n",
            "46/46 [==============================] - 0s 5ms/step - loss: -0.1783 - val_loss: -0.1907\n",
            "Epoch 13/100\n",
            "46/46 [==============================] - 0s 5ms/step - loss: -0.1797 - val_loss: -0.1823\n",
            "Epoch 14/100\n",
            "46/46 [==============================] - 0s 5ms/step - loss: -0.1807 - val_loss: -0.1886\n",
            "Epoch 15/100\n",
            "44/46 [===========================>..] - ETA: 0s - loss: -0.1861Restoring model weights from the end of the best epoch: 10.\n",
            "46/46 [==============================] - 0s 7ms/step - loss: -0.1854 - val_loss: -0.1900\n",
            "Epoch 15: early stopping\n",
            "174/174 [==============================] - 1s 3ms/step - loss: -0.2046\n",
            "\n",
            "Training model with image_size=16, step=10, lag=3\n"
          ]
        },
        {
          "metadata": {
            "tags": null
          },
          "name": "stderr",
          "output_type": "stream",
          "text": [
            "100%|██████████| 59/59 [02:16<00:00,  2.32s/it]\n"
          ]
        },
        {
          "metadata": {
            "tags": null
          },
          "name": "stdout",
          "output_type": "stream",
          "text": [
            "Epoch 1/100\n",
            "46/46 [==============================] - 2s 14ms/step - loss: -0.1264 - val_loss: -0.1869\n",
            "Epoch 2/100\n",
            "46/46 [==============================] - 0s 6ms/step - loss: -0.1542 - val_loss: -0.1888\n",
            "Epoch 3/100\n",
            "46/46 [==============================] - 0s 6ms/step - loss: -0.1627 - val_loss: -0.1972\n",
            "Epoch 4/100\n",
            "46/46 [==============================] - 0s 6ms/step - loss: -0.1682 - val_loss: -0.1655\n",
            "Epoch 5/100\n",
            "46/46 [==============================] - 0s 6ms/step - loss: -0.1630 - val_loss: -0.1831\n",
            "Epoch 6/100\n",
            "46/46 [==============================] - 0s 6ms/step - loss: -0.1795 - val_loss: -0.2047\n",
            "Epoch 7/100\n",
            "46/46 [==============================] - 0s 6ms/step - loss: -0.1868 - val_loss: -0.2149\n",
            "Epoch 8/100\n",
            "46/46 [==============================] - 0s 6ms/step - loss: -0.1821 - val_loss: -0.2015\n",
            "Epoch 9/100\n",
            "46/46 [==============================] - 0s 6ms/step - loss: -0.1902 - val_loss: -0.2120\n",
            "Epoch 10/100\n",
            "46/46 [==============================] - 0s 6ms/step - loss: -0.1922 - val_loss: -0.2120\n",
            "Epoch 11/100\n",
            "46/46 [==============================] - 0s 6ms/step - loss: -0.2020 - val_loss: -0.1931\n",
            "Epoch 12/100\n",
            "35/46 [=====================>........] - ETA: 0s - loss: -0.1920Restoring model weights from the end of the best epoch: 7.\n",
            "46/46 [==============================] - 0s 6ms/step - loss: -0.1942 - val_loss: -0.1951\n",
            "Epoch 12: early stopping\n",
            "174/174 [==============================] - 0s 2ms/step - loss: -0.2149\n",
            "\n",
            "Training model with image_size=16, step=10, lag=5\n"
          ]
        },
        {
          "metadata": {
            "tags": null
          },
          "name": "stderr",
          "output_type": "stream",
          "text": [
            "100%|██████████| 59/59 [02:15<00:00,  2.30s/it]\n"
          ]
        },
        {
          "metadata": {
            "tags": null
          },
          "name": "stdout",
          "output_type": "stream",
          "text": [
            "Epoch 1/100\n",
            "46/46 [==============================] - 3s 15ms/step - loss: -0.1195 - val_loss: -0.2081\n",
            "Epoch 2/100\n",
            "46/46 [==============================] - 0s 6ms/step - loss: -0.0790 - val_loss: -0.0855\n",
            "Epoch 3/100\n",
            "46/46 [==============================] - 0s 7ms/step - loss: -0.1183 - val_loss: -0.2041\n",
            "Epoch 4/100\n",
            "46/46 [==============================] - 0s 7ms/step - loss: -0.1498 - val_loss: -0.2023\n",
            "Epoch 5/100\n",
            "46/46 [==============================] - 0s 7ms/step - loss: -0.1708 - val_loss: -0.2158\n",
            "Epoch 6/100\n",
            "46/46 [==============================] - 0s 6ms/step - loss: -0.1738 - val_loss: -0.1721\n",
            "Epoch 7/100\n",
            "46/46 [==============================] - 0s 6ms/step - loss: -0.1637 - val_loss: -0.2094\n",
            "Epoch 8/100\n",
            "46/46 [==============================] - 0s 7ms/step - loss: -0.1807 - val_loss: -0.2143\n",
            "Epoch 9/100\n",
            "46/46 [==============================] - 0s 6ms/step - loss: -0.1867 - val_loss: -0.2197\n",
            "Epoch 10/100\n",
            "46/46 [==============================] - 0s 6ms/step - loss: -0.1918 - val_loss: -0.2269\n",
            "Epoch 11/100\n",
            "46/46 [==============================] - 0s 7ms/step - loss: -0.1888 - val_loss: -0.2370\n",
            "Epoch 12/100\n",
            "46/46 [==============================] - 0s 6ms/step - loss: -0.1919 - val_loss: -0.2392\n",
            "Epoch 13/100\n",
            "46/46 [==============================] - 0s 7ms/step - loss: -0.1861 - val_loss: -0.1844\n",
            "Epoch 14/100\n",
            "46/46 [==============================] - 0s 6ms/step - loss: -0.1868 - val_loss: -0.2298\n",
            "Epoch 15/100\n",
            "46/46 [==============================] - 0s 7ms/step - loss: -0.1957 - val_loss: -0.2565\n",
            "Epoch 16/100\n",
            "46/46 [==============================] - 0s 7ms/step - loss: -0.1974 - val_loss: -0.2486\n",
            "Epoch 17/100\n",
            "46/46 [==============================] - 0s 6ms/step - loss: -0.2038 - val_loss: -0.2383\n",
            "Epoch 18/100\n",
            "46/46 [==============================] - 0s 7ms/step - loss: -0.2036 - val_loss: -0.2232\n",
            "Epoch 19/100\n",
            "46/46 [==============================] - 0s 7ms/step - loss: -0.1984 - val_loss: -0.2242\n",
            "Epoch 20/100\n",
            "41/46 [=========================>....] - ETA: 0s - loss: -0.1983Restoring model weights from the end of the best epoch: 15.\n",
            "46/46 [==============================] - 0s 7ms/step - loss: -0.1999 - val_loss: -0.2395\n",
            "Epoch 20: early stopping\n",
            "174/174 [==============================] - 1s 3ms/step - loss: -0.2565\n",
            "\n",
            "Training model with image_size=16, step=10, lag=7\n"
          ]
        },
        {
          "metadata": {
            "tags": null
          },
          "name": "stderr",
          "output_type": "stream",
          "text": [
            "100%|██████████| 59/59 [02:19<00:00,  2.37s/it]\n"
          ]
        },
        {
          "metadata": {
            "tags": null
          },
          "name": "stdout",
          "output_type": "stream",
          "text": [
            "Epoch 1/100\n",
            "46/46 [==============================] - 2s 17ms/step - loss: -0.0949 - val_loss: -0.1278\n",
            "Epoch 2/100\n",
            "46/46 [==============================] - 0s 9ms/step - loss: -0.1292 - val_loss: -0.1910\n",
            "Epoch 3/100\n",
            "46/46 [==============================] - 0s 11ms/step - loss: -0.1571 - val_loss: -0.2091\n",
            "Epoch 4/100\n",
            "46/46 [==============================] - 0s 10ms/step - loss: -0.1712 - val_loss: -0.2088\n",
            "Epoch 5/100\n",
            "46/46 [==============================] - 0s 10ms/step - loss: -0.1785 - val_loss: -0.2051\n",
            "Epoch 6/100\n",
            "46/46 [==============================] - 0s 10ms/step - loss: -0.1769 - val_loss: -0.2156\n",
            "Epoch 7/100\n",
            "46/46 [==============================] - 0s 10ms/step - loss: -0.1880 - val_loss: -0.2116\n",
            "Epoch 8/100\n",
            "46/46 [==============================] - 0s 9ms/step - loss: -0.2001 - val_loss: -0.2072\n",
            "Epoch 9/100\n",
            "46/46 [==============================] - 0s 10ms/step - loss: -0.1998 - val_loss: -0.1807\n",
            "Epoch 10/100\n",
            "46/46 [==============================] - 0s 10ms/step - loss: -0.2088 - val_loss: -0.2012\n",
            "Epoch 11/100\n",
            "46/46 [==============================] - 0s 11ms/step - loss: -0.2089 - val_loss: -0.2252\n",
            "Epoch 12/100\n",
            "46/46 [==============================] - 0s 8ms/step - loss: -0.1960 - val_loss: -0.2141\n",
            "Epoch 13/100\n",
            "46/46 [==============================] - 0s 8ms/step - loss: -0.2032 - val_loss: -0.1939\n",
            "Epoch 14/100\n",
            "46/46 [==============================] - 0s 8ms/step - loss: -0.2029 - val_loss: -0.2091\n",
            "Epoch 15/100\n",
            "46/46 [==============================] - 0s 8ms/step - loss: -0.2064 - val_loss: -0.2243\n",
            "Epoch 16/100\n",
            "46/46 [==============================] - ETA: 0s - loss: -0.2264Restoring model weights from the end of the best epoch: 11.\n",
            "46/46 [==============================] - 0s 8ms/step - loss: -0.2264 - val_loss: -0.2094\n",
            "Epoch 16: early stopping\n",
            "174/174 [==============================] - 0s 3ms/step - loss: -0.2252\n",
            "\n",
            "Training model with image_size=16, step=10, lag=10\n"
          ]
        },
        {
          "metadata": {
            "tags": null
          },
          "name": "stderr",
          "output_type": "stream",
          "text": [
            "100%|██████████| 59/59 [02:21<00:00,  2.39s/it]\n"
          ]
        },
        {
          "metadata": {
            "tags": null
          },
          "name": "stdout",
          "output_type": "stream",
          "text": [
            "Epoch 1/100\n",
            "46/46 [==============================] - 2s 20ms/step - loss: -0.0452 - val_loss: -0.0578\n",
            "Epoch 2/100\n",
            "46/46 [==============================] - 0s 8ms/step - loss: -0.0893 - val_loss: -0.1979\n",
            "Epoch 3/100\n",
            "46/46 [==============================] - 0s 8ms/step - loss: -0.1555 - val_loss: -0.2202\n",
            "Epoch 4/100\n",
            "46/46 [==============================] - 0s 8ms/step - loss: -0.1811 - val_loss: -0.2434\n",
            "Epoch 5/100\n",
            "46/46 [==============================] - 0s 8ms/step - loss: -0.1930 - val_loss: -0.2285\n",
            "Epoch 6/100\n",
            "46/46 [==============================] - 0s 8ms/step - loss: -0.2067 - val_loss: -0.2536\n",
            "Epoch 7/100\n",
            "46/46 [==============================] - 0s 8ms/step - loss: -0.2091 - val_loss: -0.2277\n",
            "Epoch 8/100\n",
            "46/46 [==============================] - 0s 8ms/step - loss: -0.2114 - val_loss: -0.2696\n",
            "Epoch 9/100\n",
            "46/46 [==============================] - 0s 8ms/step - loss: -0.2267 - val_loss: -0.2655\n",
            "Epoch 10/100\n",
            "46/46 [==============================] - 0s 8ms/step - loss: -0.2279 - val_loss: -0.2488\n",
            "Epoch 11/100\n",
            "46/46 [==============================] - 0s 8ms/step - loss: -0.2116 - val_loss: -0.2589\n",
            "Epoch 12/100\n",
            "46/46 [==============================] - 0s 8ms/step - loss: -0.2341 - val_loss: -0.2665\n",
            "Epoch 13/100\n",
            "42/46 [==========================>...] - ETA: 0s - loss: -0.2254Restoring model weights from the end of the best epoch: 8.\n",
            "46/46 [==============================] - 0s 8ms/step - loss: -0.2208 - val_loss: -0.2133\n",
            "Epoch 13: early stopping\n",
            "174/174 [==============================] - 0s 3ms/step - loss: -0.2696\n",
            "\n",
            "Training model with image_size=16, step=16, lag=1\n"
          ]
        },
        {
          "metadata": {
            "tags": null
          },
          "name": "stderr",
          "output_type": "stream",
          "text": [
            "100%|██████████| 59/59 [02:17<00:00,  2.34s/it]\n"
          ]
        },
        {
          "metadata": {
            "tags": null
          },
          "name": "stdout",
          "output_type": "stream",
          "text": [
            "Epoch 1/100\n",
            "46/46 [==============================] - 2s 15ms/step - loss: -0.0727 - val_loss: -0.1770\n",
            "Epoch 2/100\n",
            "46/46 [==============================] - 0s 5ms/step - loss: -0.1048 - val_loss: -0.1745\n",
            "Epoch 3/100\n",
            "46/46 [==============================] - 0s 6ms/step - loss: -0.1127 - val_loss: -0.1751\n",
            "Epoch 4/100\n",
            "46/46 [==============================] - 0s 6ms/step - loss: -0.1174 - val_loss: -0.1871\n",
            "Epoch 5/100\n",
            "46/46 [==============================] - 0s 7ms/step - loss: -0.1225 - val_loss: -0.1749\n",
            "Epoch 6/100\n",
            "46/46 [==============================] - 0s 5ms/step - loss: -0.1231 - val_loss: -0.1784\n",
            "Epoch 7/100\n",
            "46/46 [==============================] - 0s 6ms/step - loss: -0.1188 - val_loss: -0.1847\n",
            "Epoch 8/100\n",
            "46/46 [==============================] - 0s 7ms/step - loss: -0.1270 - val_loss: -0.1768\n",
            "Epoch 9/100\n",
            "36/46 [======================>.......] - ETA: 0s - loss: -0.1309Restoring model weights from the end of the best epoch: 4.\n",
            "46/46 [==============================] - 0s 6ms/step - loss: -0.1315 - val_loss: -0.1794\n",
            "Epoch 9: early stopping\n",
            "174/174 [==============================] - 0s 3ms/step - loss: -0.1871\n",
            "\n",
            "Training model with image_size=16, step=16, lag=3\n"
          ]
        },
        {
          "metadata": {
            "tags": null
          },
          "name": "stderr",
          "output_type": "stream",
          "text": [
            "100%|██████████| 59/59 [02:18<00:00,  2.34s/it]\n"
          ]
        },
        {
          "metadata": {
            "tags": null
          },
          "name": "stdout",
          "output_type": "stream",
          "text": [
            "Epoch 1/100\n",
            "46/46 [==============================] - 2s 13ms/step - loss: -0.0725 - val_loss: -0.1463\n",
            "Epoch 2/100\n",
            "46/46 [==============================] - 0s 7ms/step - loss: -0.1055 - val_loss: -0.1688\n",
            "Epoch 3/100\n",
            "46/46 [==============================] - 0s 6ms/step - loss: -0.1085 - val_loss: -0.1979\n",
            "Epoch 4/100\n",
            "46/46 [==============================] - 0s 6ms/step - loss: -0.1265 - val_loss: -0.2043\n",
            "Epoch 5/100\n",
            "46/46 [==============================] - 0s 6ms/step - loss: -0.1381 - val_loss: -0.1932\n",
            "Epoch 6/100\n",
            "46/46 [==============================] - 0s 7ms/step - loss: -0.1549 - val_loss: -0.2055\n",
            "Epoch 7/100\n",
            "46/46 [==============================] - 0s 6ms/step - loss: -0.1596 - val_loss: -0.1834\n",
            "Epoch 8/100\n",
            "46/46 [==============================] - 0s 6ms/step - loss: -0.1691 - val_loss: -0.1997\n",
            "Epoch 9/100\n",
            "46/46 [==============================] - 0s 7ms/step - loss: -0.1515 - val_loss: 0.0044\n",
            "Epoch 10/100\n",
            "46/46 [==============================] - 0s 7ms/step - loss: -0.0552 - val_loss: -0.1659\n",
            "Epoch 11/100\n",
            "44/46 [===========================>..] - ETA: 0s - loss: -0.1091Restoring model weights from the end of the best epoch: 6.\n",
            "46/46 [==============================] - 0s 6ms/step - loss: -0.1092 - val_loss: -0.1710\n",
            "Epoch 11: early stopping\n",
            "174/174 [==============================] - 0s 2ms/step - loss: -0.2055\n",
            "\n",
            "Training model with image_size=16, step=16, lag=5\n"
          ]
        },
        {
          "metadata": {
            "tags": null
          },
          "name": "stderr",
          "output_type": "stream",
          "text": [
            "100%|██████████| 59/59 [02:18<00:00,  2.35s/it]\n"
          ]
        },
        {
          "metadata": {
            "tags": null
          },
          "name": "stdout",
          "output_type": "stream",
          "text": [
            "Epoch 1/100\n",
            "46/46 [==============================] - 2s 14ms/step - loss: -0.0803 - val_loss: -0.2222\n",
            "Epoch 2/100\n",
            "46/46 [==============================] - 0s 7ms/step - loss: -0.1359 - val_loss: -0.2267\n",
            "Epoch 3/100\n",
            "46/46 [==============================] - 0s 7ms/step - loss: -0.1524 - val_loss: -0.2229\n",
            "Epoch 4/100\n",
            "46/46 [==============================] - 0s 6ms/step - loss: -0.1562 - val_loss: -0.2334\n",
            "Epoch 5/100\n",
            "46/46 [==============================] - 0s 6ms/step - loss: -0.1691 - val_loss: -0.2293\n",
            "Epoch 6/100\n",
            "46/46 [==============================] - 0s 6ms/step - loss: -0.1802 - val_loss: -0.2332\n",
            "Epoch 7/100\n",
            "46/46 [==============================] - 0s 7ms/step - loss: -0.1829 - val_loss: -0.2210\n",
            "Epoch 8/100\n",
            "46/46 [==============================] - 0s 6ms/step - loss: -0.1866 - val_loss: -0.2155\n",
            "Epoch 9/100\n",
            "40/46 [=========================>....] - ETA: 0s - loss: -0.1942Restoring model weights from the end of the best epoch: 4.\n",
            "46/46 [==============================] - 0s 7ms/step - loss: -0.1941 - val_loss: -0.2203\n",
            "Epoch 9: early stopping\n",
            "174/174 [==============================] - 0s 2ms/step - loss: -0.2334\n",
            "\n",
            "Training model with image_size=16, step=16, lag=7\n"
          ]
        },
        {
          "metadata": {
            "tags": null
          },
          "name": "stderr",
          "output_type": "stream",
          "text": [
            "100%|██████████| 59/59 [02:18<00:00,  2.35s/it]\n"
          ]
        },
        {
          "metadata": {
            "tags": null
          },
          "name": "stdout",
          "output_type": "stream",
          "text": [
            "Epoch 1/100\n",
            "46/46 [==============================] - 2s 16ms/step - loss: -0.0592 - val_loss: -0.1046\n",
            "Epoch 2/100\n",
            "46/46 [==============================] - 0s 7ms/step - loss: -0.0788 - val_loss: -0.1812\n",
            "Epoch 3/100\n",
            "46/46 [==============================] - 0s 7ms/step - loss: -0.0665 - val_loss: -0.1706\n",
            "Epoch 4/100\n",
            "46/46 [==============================] - 0s 7ms/step - loss: -0.0924 - val_loss: -0.1842\n",
            "Epoch 5/100\n",
            "46/46 [==============================] - 0s 7ms/step - loss: -0.1296 - val_loss: -0.2273\n",
            "Epoch 6/100\n",
            "46/46 [==============================] - 0s 8ms/step - loss: -0.1407 - val_loss: -0.1690\n",
            "Epoch 7/100\n",
            "46/46 [==============================] - 0s 7ms/step - loss: -0.1287 - val_loss: -0.1868\n",
            "Epoch 8/100\n",
            "46/46 [==============================] - 0s 7ms/step - loss: -0.1711 - val_loss: -0.1903\n",
            "Epoch 9/100\n",
            "46/46 [==============================] - 0s 7ms/step - loss: -0.1767 - val_loss: -0.2265\n",
            "Epoch 10/100\n",
            "39/46 [========================>.....] - ETA: 0s - loss: -0.1968Restoring model weights from the end of the best epoch: 5.\n",
            "46/46 [==============================] - 0s 7ms/step - loss: -0.1973 - val_loss: -0.2233\n",
            "Epoch 10: early stopping\n",
            "174/174 [==============================] - 0s 2ms/step - loss: -0.2273\n",
            "\n",
            "Training model with image_size=16, step=16, lag=10\n"
          ]
        },
        {
          "metadata": {
            "tags": null
          },
          "name": "stderr",
          "output_type": "stream",
          "text": [
            "100%|██████████| 59/59 [02:18<00:00,  2.35s/it]\n"
          ]
        },
        {
          "metadata": {
            "tags": null
          },
          "name": "stdout",
          "output_type": "stream",
          "text": [
            "Epoch 1/100\n",
            "46/46 [==============================] - 2s 20ms/step - loss: -0.0624 - val_loss: -0.1093\n",
            "Epoch 2/100\n",
            "46/46 [==============================] - 0s 8ms/step - loss: -0.0862 - val_loss: -0.1359\n",
            "Epoch 3/100\n",
            "46/46 [==============================] - 0s 8ms/step - loss: -0.1230 - val_loss: -0.1914\n",
            "Epoch 4/100\n",
            "46/46 [==============================] - 0s 8ms/step - loss: -0.1449 - val_loss: -0.2225\n",
            "Epoch 5/100\n",
            "46/46 [==============================] - 0s 8ms/step - loss: -0.1556 - val_loss: -0.1966\n",
            "Epoch 6/100\n",
            "46/46 [==============================] - 0s 8ms/step - loss: -0.1385 - val_loss: -0.2278\n",
            "Epoch 7/100\n",
            "46/46 [==============================] - 0s 8ms/step - loss: -0.1711 - val_loss: -0.2396\n",
            "Epoch 8/100\n",
            "46/46 [==============================] - 0s 9ms/step - loss: -0.1748 - val_loss: -0.2519\n",
            "Epoch 9/100\n",
            "46/46 [==============================] - 0s 8ms/step - loss: -0.1930 - val_loss: -0.2423\n",
            "Epoch 10/100\n",
            "46/46 [==============================] - 0s 8ms/step - loss: -0.1952 - val_loss: -0.2079\n",
            "Epoch 11/100\n",
            "46/46 [==============================] - 0s 8ms/step - loss: -0.1792 - val_loss: -0.2399\n",
            "Epoch 12/100\n",
            "46/46 [==============================] - 0s 8ms/step - loss: -0.2113 - val_loss: -0.2437\n",
            "Epoch 13/100\n",
            "46/46 [==============================] - ETA: 0s - loss: -0.2243Restoring model weights from the end of the best epoch: 8.\n",
            "46/46 [==============================] - 0s 9ms/step - loss: -0.2243 - val_loss: -0.2482\n",
            "Epoch 13: early stopping\n",
            "174/174 [==============================] - 0s 2ms/step - loss: -0.2519\n",
            "\n",
            "Training model with image_size=20, step=1, lag=1\n"
          ]
        },
        {
          "metadata": {
            "tags": null
          },
          "name": "stderr",
          "output_type": "stream",
          "text": [
            "100%|██████████| 59/59 [02:25<00:00,  2.46s/it]\n"
          ]
        },
        {
          "metadata": {
            "tags": null
          },
          "name": "stdout",
          "output_type": "stream",
          "text": [
            "Epoch 1/100\n",
            "50/50 [==============================] - 2s 10ms/step - loss: -0.0404 - val_loss: -0.0282\n",
            "Epoch 2/100\n",
            "50/50 [==============================] - 0s 6ms/step - loss: -0.0862 - val_loss: -0.1412\n",
            "Epoch 3/100\n",
            "50/50 [==============================] - 0s 5ms/step - loss: -0.1047 - val_loss: -0.1300\n",
            "Epoch 4/100\n",
            "50/50 [==============================] - 0s 5ms/step - loss: -0.1011 - val_loss: -0.1456\n",
            "Epoch 5/100\n",
            "50/50 [==============================] - 0s 6ms/step - loss: -0.1064 - val_loss: -0.1514\n",
            "Epoch 6/100\n",
            "50/50 [==============================] - 0s 5ms/step - loss: -0.1068 - val_loss: -0.1409\n",
            "Epoch 7/100\n",
            "50/50 [==============================] - 0s 5ms/step - loss: -0.1111 - val_loss: -0.1361\n",
            "Epoch 8/100\n",
            "50/50 [==============================] - 0s 6ms/step - loss: -0.1104 - val_loss: -0.1534\n",
            "Epoch 9/100\n",
            "50/50 [==============================] - 0s 6ms/step - loss: -0.1148 - val_loss: -0.1400\n",
            "Epoch 10/100\n",
            "50/50 [==============================] - 0s 5ms/step - loss: -0.1034 - val_loss: -0.1498\n",
            "Epoch 11/100\n",
            "50/50 [==============================] - 0s 5ms/step - loss: -0.1051 - val_loss: -0.1534\n",
            "Epoch 12/100\n",
            "50/50 [==============================] - 0s 5ms/step - loss: -0.1072 - val_loss: -0.1420\n",
            "Epoch 13/100\n",
            "50/50 [==============================] - ETA: 0s - loss: -0.1107Restoring model weights from the end of the best epoch: 8.\n",
            "50/50 [==============================] - 0s 6ms/step - loss: -0.1107 - val_loss: -0.1483\n",
            "Epoch 13: early stopping\n",
            "181/181 [==============================] - 1s 3ms/step - loss: -0.1534\n",
            "\n",
            "Training model with image_size=20, step=1, lag=3\n"
          ]
        },
        {
          "metadata": {
            "tags": null
          },
          "name": "stderr",
          "output_type": "stream",
          "text": [
            "100%|██████████| 59/59 [02:25<00:00,  2.46s/it]\n"
          ]
        },
        {
          "metadata": {
            "tags": null
          },
          "name": "stdout",
          "output_type": "stream",
          "text": [
            "Epoch 1/100\n",
            "50/50 [==============================] - 3s 19ms/step - loss: -0.0986 - val_loss: -0.1361\n",
            "Epoch 2/100\n",
            "50/50 [==============================] - 0s 9ms/step - loss: -0.1269 - val_loss: -0.1528\n",
            "Epoch 3/100\n",
            "50/50 [==============================] - 1s 10ms/step - loss: -0.1305 - val_loss: -0.1482\n",
            "Epoch 4/100\n",
            "50/50 [==============================] - 0s 9ms/step - loss: -0.1315 - val_loss: -0.1384\n",
            "Epoch 5/100\n",
            "50/50 [==============================] - 0s 7ms/step - loss: -0.1356 - val_loss: -0.1471\n",
            "Epoch 6/100\n",
            "50/50 [==============================] - 0s 6ms/step - loss: -0.1401 - val_loss: -0.1419\n",
            "Epoch 7/100\n",
            "42/50 [========================>.....] - ETA: 0s - loss: -0.1415Restoring model weights from the end of the best epoch: 2.\n",
            "50/50 [==============================] - 0s 7ms/step - loss: -0.1394 - val_loss: -0.1482\n",
            "Epoch 7: early stopping\n",
            "181/181 [==============================] - 0s 2ms/step - loss: -0.1528\n",
            "\n",
            "Training model with image_size=20, step=1, lag=5\n"
          ]
        },
        {
          "metadata": {
            "tags": null
          },
          "name": "stderr",
          "output_type": "stream",
          "text": [
            "100%|██████████| 59/59 [02:28<00:00,  2.51s/it]\n"
          ]
        },
        {
          "metadata": {
            "tags": null
          },
          "name": "stdout",
          "output_type": "stream",
          "text": [
            "Epoch 1/100\n",
            "50/50 [==============================] - 2s 17ms/step - loss: -0.0589 - val_loss: -0.1456\n",
            "Epoch 2/100\n",
            "50/50 [==============================] - 0s 7ms/step - loss: -0.1061 - val_loss: -0.1514\n",
            "Epoch 3/100\n",
            "50/50 [==============================] - 0s 7ms/step - loss: -0.1280 - val_loss: -0.1715\n",
            "Epoch 4/100\n",
            "50/50 [==============================] - 0s 7ms/step - loss: -0.1398 - val_loss: -0.1437\n",
            "Epoch 5/100\n",
            "50/50 [==============================] - 0s 8ms/step - loss: -0.1270 - val_loss: -0.1799\n",
            "Epoch 6/100\n",
            "50/50 [==============================] - 1s 11ms/step - loss: -0.1452 - val_loss: -0.1779\n",
            "Epoch 7/100\n",
            "50/50 [==============================] - 1s 10ms/step - loss: -0.1392 - val_loss: -0.1616\n",
            "Epoch 8/100\n",
            "50/50 [==============================] - 0s 10ms/step - loss: -0.1422 - val_loss: -0.1615\n",
            "Epoch 9/100\n",
            "50/50 [==============================] - 0s 10ms/step - loss: -0.1518 - val_loss: -0.1706\n",
            "Epoch 10/100\n",
            "48/50 [===========================>..] - ETA: 0s - loss: -0.1453Restoring model weights from the end of the best epoch: 5.\n",
            "50/50 [==============================] - 1s 10ms/step - loss: -0.1456 - val_loss: -0.1637\n",
            "Epoch 10: early stopping\n",
            "181/181 [==============================] - 1s 3ms/step - loss: -0.1799\n",
            "\n",
            "Training model with image_size=20, step=1, lag=7\n"
          ]
        },
        {
          "metadata": {
            "tags": null
          },
          "name": "stderr",
          "output_type": "stream",
          "text": [
            "100%|██████████| 59/59 [02:30<00:00,  2.55s/it]\n"
          ]
        },
        {
          "metadata": {
            "tags": null
          },
          "name": "stdout",
          "output_type": "stream",
          "text": [
            "Epoch 1/100\n",
            "50/50 [==============================] - 3s 22ms/step - loss: -0.0523 - val_loss: -0.0189\n",
            "Epoch 2/100\n",
            "50/50 [==============================] - 0s 9ms/step - loss: -0.0989 - val_loss: -0.1569\n",
            "Epoch 3/100\n",
            "50/50 [==============================] - 0s 8ms/step - loss: -0.1145 - val_loss: -0.1511\n",
            "Epoch 4/100\n",
            "50/50 [==============================] - 0s 8ms/step - loss: -0.1365 - val_loss: -0.1811\n",
            "Epoch 5/100\n",
            "50/50 [==============================] - 0s 8ms/step - loss: -0.1531 - val_loss: -0.1878\n",
            "Epoch 6/100\n",
            "50/50 [==============================] - 0s 8ms/step - loss: -0.1512 - val_loss: -0.1808\n",
            "Epoch 7/100\n",
            "50/50 [==============================] - 0s 9ms/step - loss: -0.1614 - val_loss: -0.1836\n",
            "Epoch 8/100\n",
            "50/50 [==============================] - 0s 9ms/step - loss: -0.1623 - val_loss: -0.1793\n",
            "Epoch 9/100\n",
            "50/50 [==============================] - 0s 9ms/step - loss: -0.1719 - val_loss: -0.1806\n",
            "Epoch 10/100\n",
            "47/50 [===========================>..] - ETA: 0s - loss: -0.1714Restoring model weights from the end of the best epoch: 5.\n",
            "50/50 [==============================] - 0s 9ms/step - loss: -0.1707 - val_loss: -0.1735\n",
            "Epoch 10: early stopping\n",
            "181/181 [==============================] - 1s 3ms/step - loss: -0.1878\n",
            "\n",
            "Training model with image_size=20, step=1, lag=10\n"
          ]
        },
        {
          "metadata": {
            "tags": null
          },
          "name": "stderr",
          "output_type": "stream",
          "text": [
            "100%|██████████| 59/59 [02:32<00:00,  2.59s/it]\n"
          ]
        },
        {
          "metadata": {
            "tags": null
          },
          "name": "stdout",
          "output_type": "stream",
          "text": [
            "Epoch 1/100\n",
            "50/50 [==============================] - 3s 22ms/step - loss: -0.0636 - val_loss: -0.1134\n",
            "Epoch 2/100\n",
            "50/50 [==============================] - 1s 11ms/step - loss: -0.0962 - val_loss: -0.1538\n",
            "Epoch 3/100\n",
            "50/50 [==============================] - 0s 10ms/step - loss: -0.1251 - val_loss: -0.1322\n",
            "Epoch 4/100\n",
            "50/50 [==============================] - 0s 10ms/step - loss: -0.1194 - val_loss: -0.1221\n",
            "Epoch 5/100\n",
            "50/50 [==============================] - 1s 10ms/step - loss: -0.1287 - val_loss: -0.1565\n",
            "Epoch 6/100\n",
            "50/50 [==============================] - 1s 10ms/step - loss: -0.1478 - val_loss: -0.1629\n",
            "Epoch 7/100\n",
            "50/50 [==============================] - 1s 10ms/step - loss: -0.1549 - val_loss: -0.1714\n",
            "Epoch 8/100\n",
            "50/50 [==============================] - 0s 10ms/step - loss: -0.1615 - val_loss: -0.1626\n",
            "Epoch 9/100\n",
            "50/50 [==============================] - 0s 10ms/step - loss: -0.1553 - val_loss: -0.1835\n",
            "Epoch 10/100\n",
            "50/50 [==============================] - 1s 10ms/step - loss: -0.1675 - val_loss: -0.1862\n",
            "Epoch 11/100\n",
            "50/50 [==============================] - 0s 10ms/step - loss: -0.1709 - val_loss: -0.1853\n",
            "Epoch 12/100\n",
            "50/50 [==============================] - 1s 10ms/step - loss: -0.1691 - val_loss: -0.1841\n",
            "Epoch 13/100\n",
            "50/50 [==============================] - 1s 11ms/step - loss: -0.1723 - val_loss: -0.1941\n",
            "Epoch 14/100\n",
            "50/50 [==============================] - 1s 14ms/step - loss: -0.1759 - val_loss: -0.1838\n",
            "Epoch 15/100\n",
            "50/50 [==============================] - 1s 14ms/step - loss: -0.1803 - val_loss: -0.1835\n",
            "Epoch 16/100\n",
            "50/50 [==============================] - 1s 13ms/step - loss: -0.1828 - val_loss: -0.1801\n",
            "Epoch 17/100\n",
            "50/50 [==============================] - 1s 15ms/step - loss: -0.1801 - val_loss: -0.1718\n",
            "Epoch 18/100\n",
            "46/50 [==========================>...] - ETA: 0s - loss: -0.1528Restoring model weights from the end of the best epoch: 13.\n",
            "50/50 [==============================] - 1s 16ms/step - loss: -0.1539 - val_loss: -0.1665\n",
            "Epoch 18: early stopping\n",
            "181/181 [==============================] - 1s 4ms/step - loss: -0.1941\n",
            "\n",
            "Training model with image_size=20, step=3, lag=1\n"
          ]
        },
        {
          "metadata": {
            "tags": null
          },
          "name": "stderr",
          "output_type": "stream",
          "text": [
            "100%|██████████| 59/59 [02:23<00:00,  2.43s/it]\n"
          ]
        },
        {
          "metadata": {
            "tags": null
          },
          "name": "stdout",
          "output_type": "stream",
          "text": [
            "Epoch 1/100\n",
            "49/49 [==============================] - 2s 14ms/step - loss: -0.1300 - val_loss: -0.1793\n",
            "Epoch 2/100\n",
            "49/49 [==============================] - 0s 6ms/step - loss: -0.1387 - val_loss: -0.1825\n",
            "Epoch 3/100\n",
            "49/49 [==============================] - 0s 6ms/step - loss: -0.1501 - val_loss: -0.1842\n",
            "Epoch 4/100\n",
            "49/49 [==============================] - 0s 6ms/step - loss: -0.1517 - val_loss: -0.1844\n",
            "Epoch 5/100\n",
            "49/49 [==============================] - 0s 6ms/step - loss: -0.1540 - val_loss: -0.1710\n",
            "Epoch 6/100\n",
            "49/49 [==============================] - 0s 5ms/step - loss: -0.1553 - val_loss: -0.1846\n",
            "Epoch 7/100\n",
            "49/49 [==============================] - 0s 5ms/step - loss: -0.1549 - val_loss: -0.1911\n",
            "Epoch 8/100\n",
            "49/49 [==============================] - 0s 6ms/step - loss: -0.1589 - val_loss: -0.1872\n",
            "Epoch 9/100\n",
            "49/49 [==============================] - 0s 6ms/step - loss: -0.1592 - val_loss: -0.1861\n",
            "Epoch 10/100\n",
            "49/49 [==============================] - 0s 6ms/step - loss: -0.1641 - val_loss: -0.1808\n",
            "Epoch 11/100\n",
            "49/49 [==============================] - 0s 6ms/step - loss: -0.1591 - val_loss: -0.1863\n",
            "Epoch 12/100\n",
            "47/49 [===========================>..] - ETA: 0s - loss: -0.1666Restoring model weights from the end of the best epoch: 7.\n",
            "49/49 [==============================] - 0s 6ms/step - loss: -0.1660 - val_loss: -0.1843\n",
            "Epoch 12: early stopping\n",
            "178/178 [==============================] - 0s 3ms/step - loss: -0.1911\n",
            "\n",
            "Training model with image_size=20, step=3, lag=3\n"
          ]
        },
        {
          "metadata": {
            "tags": null
          },
          "name": "stderr",
          "output_type": "stream",
          "text": [
            "100%|██████████| 59/59 [02:23<00:00,  2.44s/it]\n"
          ]
        },
        {
          "metadata": {
            "tags": null
          },
          "name": "stdout",
          "output_type": "stream",
          "text": [
            "Epoch 1/100\n",
            "49/49 [==============================] - 2s 14ms/step - loss: -0.1389 - val_loss: -0.1936\n",
            "Epoch 2/100\n",
            "49/49 [==============================] - 0s 7ms/step - loss: -0.1442 - val_loss: -0.1781\n",
            "Epoch 3/100\n",
            "49/49 [==============================] - 0s 6ms/step - loss: -0.1687 - val_loss: -0.1838\n",
            "Epoch 4/100\n",
            "49/49 [==============================] - 0s 6ms/step - loss: -0.1785 - val_loss: -0.2006\n",
            "Epoch 5/100\n",
            "49/49 [==============================] - 0s 7ms/step - loss: -0.1824 - val_loss: -0.1708\n",
            "Epoch 6/100\n",
            "49/49 [==============================] - 0s 7ms/step - loss: -0.1771 - val_loss: -0.2003\n",
            "Epoch 7/100\n",
            "49/49 [==============================] - 0s 7ms/step - loss: -0.1856 - val_loss: -0.2077\n",
            "Epoch 8/100\n",
            "49/49 [==============================] - 0s 7ms/step - loss: -0.1859 - val_loss: -0.2069\n",
            "Epoch 9/100\n",
            "49/49 [==============================] - 0s 6ms/step - loss: -0.1881 - val_loss: -0.1974\n",
            "Epoch 10/100\n",
            "49/49 [==============================] - 0s 7ms/step - loss: -0.1897 - val_loss: -0.2042\n",
            "Epoch 11/100\n",
            "49/49 [==============================] - 0s 7ms/step - loss: -0.1908 - val_loss: -0.2116\n",
            "Epoch 12/100\n",
            "49/49 [==============================] - 0s 9ms/step - loss: -0.1884 - val_loss: -0.1736\n",
            "Epoch 13/100\n",
            "49/49 [==============================] - 0s 9ms/step - loss: -0.1832 - val_loss: -0.2028\n",
            "Epoch 14/100\n",
            "49/49 [==============================] - 0s 9ms/step - loss: -0.1873 - val_loss: -0.2027\n",
            "Epoch 15/100\n",
            "49/49 [==============================] - 0s 9ms/step - loss: -0.1877 - val_loss: -0.1927\n",
            "Epoch 16/100\n",
            "49/49 [==============================] - ETA: 0s - loss: -0.1901Restoring model weights from the end of the best epoch: 11.\n",
            "49/49 [==============================] - 0s 9ms/step - loss: -0.1901 - val_loss: -0.1871\n",
            "Epoch 16: early stopping\n",
            "178/178 [==============================] - 1s 4ms/step - loss: -0.2116\n",
            "\n",
            "Training model with image_size=20, step=3, lag=5\n"
          ]
        },
        {
          "metadata": {
            "tags": null
          },
          "name": "stderr",
          "output_type": "stream",
          "text": [
            "100%|██████████| 59/59 [02:23<00:00,  2.44s/it]\n"
          ]
        },
        {
          "metadata": {
            "tags": null
          },
          "name": "stdout",
          "output_type": "stream",
          "text": [
            "Epoch 1/100\n",
            "49/49 [==============================] - 3s 16ms/step - loss: -0.1170 - val_loss: -0.1982\n",
            "Epoch 2/100\n",
            "49/49 [==============================] - 0s 7ms/step - loss: -0.1754 - val_loss: -0.2016\n",
            "Epoch 3/100\n",
            "49/49 [==============================] - 0s 8ms/step - loss: -0.1861 - val_loss: -0.2024\n",
            "Epoch 4/100\n",
            "49/49 [==============================] - 0s 8ms/step - loss: -0.1879 - val_loss: -0.2077\n",
            "Epoch 5/100\n",
            "49/49 [==============================] - 0s 7ms/step - loss: -0.1949 - val_loss: -0.2302\n",
            "Epoch 6/100\n",
            "49/49 [==============================] - 0s 8ms/step - loss: -0.2004 - val_loss: -0.2248\n",
            "Epoch 7/100\n",
            "49/49 [==============================] - 0s 7ms/step - loss: -0.2018 - val_loss: -0.2008\n",
            "Epoch 8/100\n",
            "49/49 [==============================] - 0s 8ms/step - loss: -0.2024 - val_loss: -0.2272\n",
            "Epoch 9/100\n",
            "49/49 [==============================] - 0s 7ms/step - loss: -0.1996 - val_loss: -0.2271\n",
            "Epoch 10/100\n",
            "43/49 [=========================>....] - ETA: 0s - loss: -0.2088Restoring model weights from the end of the best epoch: 5.\n",
            "49/49 [==============================] - 0s 8ms/step - loss: -0.2103 - val_loss: -0.2159\n",
            "Epoch 10: early stopping\n",
            "178/178 [==============================] - 0s 3ms/step - loss: -0.2302\n",
            "\n",
            "Training model with image_size=20, step=3, lag=7\n"
          ]
        },
        {
          "metadata": {
            "tags": null
          },
          "name": "stderr",
          "output_type": "stream",
          "text": [
            "100%|██████████| 59/59 [02:26<00:00,  2.48s/it]\n"
          ]
        },
        {
          "metadata": {
            "tags": null
          },
          "name": "stdout",
          "output_type": "stream",
          "text": [
            "Epoch 1/100\n",
            "49/49 [==============================] - 2s 19ms/step - loss: -0.1289 - val_loss: -0.1987\n",
            "Epoch 2/100\n",
            "49/49 [==============================] - 1s 10ms/step - loss: -0.1717 - val_loss: -0.1593\n",
            "Epoch 3/100\n",
            "49/49 [==============================] - 1s 13ms/step - loss: -0.1710 - val_loss: -0.2127\n",
            "Epoch 4/100\n",
            "49/49 [==============================] - 1s 12ms/step - loss: -0.1818 - val_loss: -0.2200\n",
            "Epoch 5/100\n",
            "49/49 [==============================] - 1s 12ms/step - loss: -0.1840 - val_loss: -0.1996\n",
            "Epoch 6/100\n",
            "49/49 [==============================] - 1s 11ms/step - loss: -0.2050 - val_loss: -0.2329\n",
            "Epoch 7/100\n",
            "49/49 [==============================] - 1s 13ms/step - loss: -0.2108 - val_loss: -0.2206\n",
            "Epoch 8/100\n",
            "49/49 [==============================] - 1s 12ms/step - loss: -0.2130 - val_loss: -0.2150\n",
            "Epoch 9/100\n",
            "49/49 [==============================] - 1s 14ms/step - loss: -0.2149 - val_loss: -0.2161\n",
            "Epoch 10/100\n",
            "49/49 [==============================] - 0s 10ms/step - loss: -0.2210 - val_loss: -0.2307\n",
            "Epoch 11/100\n",
            "43/49 [=========================>....] - ETA: 0s - loss: -0.2181Restoring model weights from the end of the best epoch: 6.\n",
            "49/49 [==============================] - 0s 10ms/step - loss: -0.2193 - val_loss: -0.2217\n",
            "Epoch 11: early stopping\n",
            "178/178 [==============================] - 0s 3ms/step - loss: -0.2329\n",
            "\n",
            "Training model with image_size=20, step=3, lag=10\n"
          ]
        },
        {
          "metadata": {
            "tags": null
          },
          "name": "stderr",
          "output_type": "stream",
          "text": [
            "100%|██████████| 59/59 [02:26<00:00,  2.48s/it]\n"
          ]
        },
        {
          "metadata": {
            "tags": null
          },
          "name": "stdout",
          "output_type": "stream",
          "text": [
            "Epoch 1/100\n",
            "49/49 [==============================] - 3s 25ms/step - loss: -0.0841 - val_loss: -0.1502\n",
            "Epoch 2/100\n",
            "49/49 [==============================] - 1s 15ms/step - loss: -0.1493 - val_loss: -0.2067\n",
            "Epoch 3/100\n",
            "49/49 [==============================] - 1s 15ms/step - loss: -0.1832 - val_loss: -0.2305\n",
            "Epoch 4/100\n",
            "49/49 [==============================] - 1s 14ms/step - loss: -0.1970 - val_loss: -0.2135\n",
            "Epoch 5/100\n",
            "49/49 [==============================] - 1s 13ms/step - loss: -0.1963 - val_loss: -0.2297\n",
            "Epoch 6/100\n",
            "49/49 [==============================] - 1s 16ms/step - loss: -0.2115 - val_loss: -0.2216\n",
            "Epoch 7/100\n",
            "49/49 [==============================] - 1s 16ms/step - loss: -0.2128 - val_loss: -0.2439\n",
            "Epoch 8/100\n",
            "49/49 [==============================] - 1s 13ms/step - loss: -0.2173 - val_loss: -0.2315\n",
            "Epoch 9/100\n",
            "49/49 [==============================] - 1s 13ms/step - loss: -0.2284 - val_loss: -0.1977\n",
            "Epoch 10/100\n",
            "49/49 [==============================] - 1s 11ms/step - loss: -0.2084 - val_loss: -0.2164\n",
            "Epoch 11/100\n",
            "49/49 [==============================] - 1s 10ms/step - loss: -0.2241 - val_loss: -0.2223\n",
            "Epoch 12/100\n",
            "49/49 [==============================] - ETA: 0s - loss: -0.2206Restoring model weights from the end of the best epoch: 7.\n",
            "49/49 [==============================] - 1s 11ms/step - loss: -0.2206 - val_loss: -0.2286\n",
            "Epoch 12: early stopping\n",
            "178/178 [==============================] - 0s 3ms/step - loss: -0.2439\n",
            "\n",
            "Training model with image_size=20, step=7, lag=1\n"
          ]
        },
        {
          "metadata": {
            "tags": null
          },
          "name": "stderr",
          "output_type": "stream",
          "text": [
            "100%|██████████| 59/59 [02:17<00:00,  2.34s/it]\n"
          ]
        },
        {
          "metadata": {
            "tags": null
          },
          "name": "stdout",
          "output_type": "stream",
          "text": [
            "Epoch 1/100\n",
            "47/47 [==============================] - 3s 16ms/step - loss: -0.0975 - val_loss: -0.1852\n",
            "Epoch 2/100\n",
            "47/47 [==============================] - 0s 6ms/step - loss: -0.1446 - val_loss: -0.1924\n",
            "Epoch 3/100\n",
            "47/47 [==============================] - 0s 6ms/step - loss: -0.1462 - val_loss: -0.2049\n",
            "Epoch 4/100\n",
            "47/47 [==============================] - 0s 6ms/step - loss: -0.1531 - val_loss: -0.1908\n",
            "Epoch 5/100\n",
            "47/47 [==============================] - 0s 5ms/step - loss: -0.1396 - val_loss: -0.1901\n",
            "Epoch 6/100\n",
            "47/47 [==============================] - 0s 6ms/step - loss: -0.1424 - val_loss: -0.2033\n",
            "Epoch 7/100\n",
            "47/47 [==============================] - 0s 6ms/step - loss: -0.1535 - val_loss: -0.2052\n",
            "Epoch 8/100\n",
            "47/47 [==============================] - 0s 6ms/step - loss: -0.1564 - val_loss: -0.2051\n",
            "Epoch 9/100\n",
            "47/47 [==============================] - 0s 7ms/step - loss: -0.1596 - val_loss: -0.2055\n",
            "Epoch 10/100\n",
            "47/47 [==============================] - 0s 5ms/step - loss: -0.1601 - val_loss: -0.1867\n",
            "Epoch 11/100\n",
            "47/47 [==============================] - 0s 6ms/step - loss: -0.1620 - val_loss: -0.2016\n",
            "Epoch 12/100\n",
            "47/47 [==============================] - 0s 6ms/step - loss: -0.1657 - val_loss: -0.2088\n",
            "Epoch 13/100\n",
            "47/47 [==============================] - 0s 6ms/step - loss: -0.1672 - val_loss: -0.2051\n",
            "Epoch 14/100\n",
            "47/47 [==============================] - 0s 6ms/step - loss: -0.1615 - val_loss: -0.1968\n",
            "Epoch 15/100\n",
            "47/47 [==============================] - 0s 6ms/step - loss: -0.1656 - val_loss: -0.1966\n",
            "Epoch 16/100\n",
            "47/47 [==============================] - 0s 6ms/step - loss: -0.1672 - val_loss: -0.2087\n",
            "Epoch 17/100\n",
            "45/47 [===========================>..] - ETA: 0s - loss: -0.1680Restoring model weights from the end of the best epoch: 12.\n",
            "47/47 [==============================] - 0s 6ms/step - loss: -0.1691 - val_loss: -0.2041\n",
            "Epoch 17: early stopping\n",
            "175/175 [==============================] - 0s 3ms/step - loss: -0.2088\n",
            "\n",
            "Training model with image_size=20, step=7, lag=3\n"
          ]
        },
        {
          "metadata": {
            "tags": null
          },
          "name": "stderr",
          "output_type": "stream",
          "text": [
            "100%|██████████| 59/59 [02:19<00:00,  2.37s/it]\n"
          ]
        },
        {
          "metadata": {
            "tags": null
          },
          "name": "stdout",
          "output_type": "stream",
          "text": [
            "Epoch 1/100\n",
            "47/47 [==============================] - 2s 15ms/step - loss: -0.0943 - val_loss: -0.2074\n",
            "Epoch 2/100\n",
            "47/47 [==============================] - 0s 6ms/step - loss: -0.1632 - val_loss: -0.2013\n",
            "Epoch 3/100\n",
            "47/47 [==============================] - 0s 6ms/step - loss: -0.1762 - val_loss: -0.2055\n",
            "Epoch 4/100\n",
            "47/47 [==============================] - 0s 7ms/step - loss: -0.1742 - val_loss: -0.2189\n",
            "Epoch 5/100\n",
            "47/47 [==============================] - 0s 7ms/step - loss: -0.1813 - val_loss: -0.2232\n",
            "Epoch 6/100\n",
            "47/47 [==============================] - 0s 6ms/step - loss: -0.1802 - val_loss: -0.2125\n",
            "Epoch 7/100\n",
            "47/47 [==============================] - 0s 6ms/step - loss: -0.1897 - val_loss: -0.2087\n",
            "Epoch 8/100\n",
            "47/47 [==============================] - 0s 6ms/step - loss: -0.2016 - val_loss: -0.2246\n",
            "Epoch 9/100\n",
            "47/47 [==============================] - 0s 7ms/step - loss: -0.2017 - val_loss: -0.2138\n",
            "Epoch 10/100\n",
            "47/47 [==============================] - 0s 7ms/step - loss: -0.2080 - val_loss: -0.2299\n",
            "Epoch 11/100\n",
            "47/47 [==============================] - 0s 6ms/step - loss: -0.2141 - val_loss: -0.2157\n",
            "Epoch 12/100\n",
            "47/47 [==============================] - 0s 7ms/step - loss: -0.2219 - val_loss: -0.2189\n",
            "Epoch 13/100\n",
            "47/47 [==============================] - 0s 7ms/step - loss: -0.2189 - val_loss: -0.2187\n",
            "Epoch 14/100\n",
            "47/47 [==============================] - 0s 6ms/step - loss: -0.2282 - val_loss: -0.2096\n",
            "Epoch 15/100\n",
            "42/47 [=========================>....] - ETA: 0s - loss: -0.2142Restoring model weights from the end of the best epoch: 10.\n",
            "47/47 [==============================] - 0s 7ms/step - loss: -0.2136 - val_loss: -0.2058\n",
            "Epoch 15: early stopping\n",
            "175/175 [==============================] - 0s 3ms/step - loss: -0.2299\n",
            "\n",
            "Training model with image_size=20, step=7, lag=5\n"
          ]
        },
        {
          "metadata": {
            "tags": null
          },
          "name": "stderr",
          "output_type": "stream",
          "text": [
            "100%|██████████| 59/59 [02:20<00:00,  2.39s/it]\n"
          ]
        },
        {
          "metadata": {
            "tags": null
          },
          "name": "stdout",
          "output_type": "stream",
          "text": [
            "Epoch 1/100\n",
            "47/47 [==============================] - 2s 17ms/step - loss: -0.1263 - val_loss: -0.1916\n",
            "Epoch 2/100\n",
            "47/47 [==============================] - 0s 7ms/step - loss: -0.1683 - val_loss: -0.2320\n",
            "Epoch 3/100\n",
            "47/47 [==============================] - 0s 8ms/step - loss: -0.1892 - val_loss: -0.2319\n",
            "Epoch 4/100\n",
            "47/47 [==============================] - 0s 7ms/step - loss: -0.1931 - val_loss: -0.2103\n",
            "Epoch 5/100\n",
            "47/47 [==============================] - 0s 8ms/step - loss: -0.1884 - val_loss: -0.2478\n",
            "Epoch 6/100\n",
            "47/47 [==============================] - 0s 7ms/step - loss: -0.2011 - val_loss: -0.2363\n",
            "Epoch 7/100\n",
            "47/47 [==============================] - 0s 8ms/step - loss: -0.2017 - val_loss: -0.2391\n",
            "Epoch 8/100\n",
            "47/47 [==============================] - 0s 7ms/step - loss: -0.2098 - val_loss: -0.2140\n",
            "Epoch 9/100\n",
            "47/47 [==============================] - 0s 7ms/step - loss: -0.1941 - val_loss: -0.2187\n",
            "Epoch 10/100\n",
            "45/47 [===========================>..] - ETA: 0s - loss: -0.2146Restoring model weights from the end of the best epoch: 5.\n",
            "47/47 [==============================] - 0s 7ms/step - loss: -0.2145 - val_loss: -0.2300\n",
            "Epoch 10: early stopping\n",
            "175/175 [==============================] - 1s 4ms/step - loss: -0.2478\n",
            "\n",
            "Training model with image_size=20, step=7, lag=7\n"
          ]
        },
        {
          "metadata": {
            "tags": null
          },
          "name": "stderr",
          "output_type": "stream",
          "text": [
            "100%|██████████| 59/59 [02:22<00:00,  2.42s/it]\n"
          ]
        },
        {
          "metadata": {
            "tags": null
          },
          "name": "stdout",
          "output_type": "stream",
          "text": [
            "Epoch 1/100\n",
            "47/47 [==============================] - 3s 25ms/step - loss: -0.1150 - val_loss: -0.2168\n",
            "Epoch 2/100\n",
            "47/47 [==============================] - 1s 11ms/step - loss: -0.1843 - val_loss: -0.0790\n",
            "Epoch 3/100\n",
            "47/47 [==============================] - 1s 13ms/step - loss: -0.1378 - val_loss: -0.2106\n",
            "Epoch 4/100\n",
            "47/47 [==============================] - 1s 11ms/step - loss: -0.1813 - val_loss: -0.2211\n",
            "Epoch 5/100\n",
            "47/47 [==============================] - 0s 9ms/step - loss: -0.1995 - val_loss: -0.2174\n",
            "Epoch 6/100\n",
            "47/47 [==============================] - 0s 9ms/step - loss: -0.2058 - val_loss: -0.2243\n",
            "Epoch 7/100\n",
            "47/47 [==============================] - 0s 9ms/step - loss: -0.2128 - val_loss: -0.2230\n",
            "Epoch 8/100\n",
            "47/47 [==============================] - 0s 9ms/step - loss: -0.2170 - val_loss: -0.2175\n",
            "Epoch 9/100\n",
            "47/47 [==============================] - 0s 9ms/step - loss: -0.2189 - val_loss: -0.2389\n",
            "Epoch 10/100\n",
            "47/47 [==============================] - 0s 9ms/step - loss: -0.2270 - val_loss: -0.2146\n",
            "Epoch 11/100\n",
            "47/47 [==============================] - 0s 9ms/step - loss: -0.2322 - val_loss: -0.2043\n",
            "Epoch 12/100\n",
            "47/47 [==============================] - 0s 9ms/step - loss: -0.2387 - val_loss: -0.2281\n",
            "Epoch 13/100\n",
            "47/47 [==============================] - 0s 9ms/step - loss: -0.2366 - val_loss: -0.2350\n",
            "Epoch 14/100\n",
            "47/47 [==============================] - 0s 9ms/step - loss: -0.2382 - val_loss: -0.2455\n",
            "Epoch 15/100\n",
            "47/47 [==============================] - 0s 9ms/step - loss: -0.2355 - val_loss: -0.2420\n",
            "Epoch 16/100\n",
            "47/47 [==============================] - 0s 9ms/step - loss: -0.2430 - val_loss: -0.2436\n",
            "Epoch 17/100\n",
            "47/47 [==============================] - 0s 9ms/step - loss: -0.2525 - val_loss: -0.2371\n",
            "Epoch 18/100\n",
            "47/47 [==============================] - 0s 9ms/step - loss: -0.2487 - val_loss: -0.2012\n",
            "Epoch 19/100\n",
            "40/47 [========================>.....] - ETA: 0s - loss: -0.2524Restoring model weights from the end of the best epoch: 14.\n",
            "47/47 [==============================] - 0s 9ms/step - loss: -0.2512 - val_loss: -0.2446\n",
            "Epoch 19: early stopping\n",
            "175/175 [==============================] - 0s 2ms/step - loss: -0.2455\n",
            "\n",
            "Training model with image_size=20, step=7, lag=10\n"
          ]
        },
        {
          "metadata": {
            "tags": null
          },
          "name": "stderr",
          "output_type": "stream",
          "text": [
            "100%|██████████| 59/59 [02:23<00:00,  2.44s/it]\n"
          ]
        },
        {
          "metadata": {
            "tags": null
          },
          "name": "stdout",
          "output_type": "stream",
          "text": [
            "Epoch 1/100\n",
            "47/47 [==============================] - 3s 26ms/step - loss: -0.1157 - val_loss: -0.1614\n",
            "Epoch 2/100\n",
            "47/47 [==============================] - 1s 14ms/step - loss: -0.1519 - val_loss: -0.1767\n",
            "Epoch 3/100\n",
            "47/47 [==============================] - 1s 14ms/step - loss: -0.1793 - val_loss: -0.2119\n",
            "Epoch 4/100\n",
            "47/47 [==============================] - 1s 15ms/step - loss: -0.1820 - val_loss: -0.1973\n",
            "Epoch 5/100\n",
            "47/47 [==============================] - 1s 14ms/step - loss: -0.1971 - val_loss: -0.2279\n",
            "Epoch 6/100\n",
            "47/47 [==============================] - 1s 15ms/step - loss: -0.1929 - val_loss: -0.2217\n",
            "Epoch 7/100\n",
            "47/47 [==============================] - 1s 13ms/step - loss: -0.1939 - val_loss: -0.2422\n",
            "Epoch 8/100\n",
            "47/47 [==============================] - 1s 11ms/step - loss: -0.2142 - val_loss: -0.2148\n",
            "Epoch 9/100\n",
            "47/47 [==============================] - 1s 12ms/step - loss: -0.2181 - val_loss: -0.2460\n",
            "Epoch 10/100\n",
            "47/47 [==============================] - 1s 11ms/step - loss: -0.2193 - val_loss: -0.2391\n",
            "Epoch 11/100\n",
            "47/47 [==============================] - 0s 10ms/step - loss: -0.2272 - val_loss: -0.2494\n",
            "Epoch 12/100\n",
            "47/47 [==============================] - 0s 10ms/step - loss: -0.2394 - val_loss: -0.2286\n",
            "Epoch 13/100\n",
            "47/47 [==============================] - 0s 10ms/step - loss: -0.2449 - val_loss: -0.2349\n",
            "Epoch 14/100\n",
            "47/47 [==============================] - 0s 10ms/step - loss: -0.2473 - val_loss: -0.2520\n",
            "Epoch 15/100\n",
            "47/47 [==============================] - 0s 10ms/step - loss: -0.2496 - val_loss: -0.2470\n",
            "Epoch 16/100\n",
            "47/47 [==============================] - 0s 10ms/step - loss: -0.2491 - val_loss: -0.2484\n",
            "Epoch 17/100\n",
            "47/47 [==============================] - 0s 10ms/step - loss: -0.2590 - val_loss: -0.2613\n",
            "Epoch 18/100\n",
            "47/47 [==============================] - 1s 12ms/step - loss: -0.2593 - val_loss: -0.2423\n",
            "Epoch 19/100\n",
            "47/47 [==============================] - 1s 12ms/step - loss: -0.2640 - val_loss: -0.2640\n",
            "Epoch 20/100\n",
            "47/47 [==============================] - 0s 10ms/step - loss: -0.2626 - val_loss: -0.2369\n",
            "Epoch 21/100\n",
            "47/47 [==============================] - 0s 10ms/step - loss: -0.2711 - val_loss: -0.2312\n",
            "Epoch 22/100\n",
            "47/47 [==============================] - 0s 10ms/step - loss: -0.2779 - val_loss: -0.2371\n",
            "Epoch 23/100\n",
            "47/47 [==============================] - 0s 10ms/step - loss: -0.2735 - val_loss: -0.2283\n",
            "Epoch 24/100\n",
            "46/47 [============================>.] - ETA: 0s - loss: -0.2886Restoring model weights from the end of the best epoch: 19.\n",
            "47/47 [==============================] - 0s 10ms/step - loss: -0.2886 - val_loss: -0.2468\n",
            "Epoch 24: early stopping\n",
            "175/175 [==============================] - 0s 3ms/step - loss: -0.2640\n",
            "\n",
            "Training model with image_size=20, step=10, lag=1\n"
          ]
        },
        {
          "metadata": {
            "tags": null
          },
          "name": "stderr",
          "output_type": "stream",
          "text": [
            "100%|██████████| 59/59 [02:17<00:00,  2.34s/it]\n"
          ]
        },
        {
          "metadata": {
            "tags": null
          },
          "name": "stdout",
          "output_type": "stream",
          "text": [
            "Epoch 1/100\n",
            "46/46 [==============================] - 3s 19ms/step - loss: -0.1232 - val_loss: -0.1737\n",
            "Epoch 2/100\n",
            "46/46 [==============================] - 0s 8ms/step - loss: -0.1469 - val_loss: -0.1851\n",
            "Epoch 3/100\n",
            "46/46 [==============================] - 0s 7ms/step - loss: -0.1481 - val_loss: -0.1815\n",
            "Epoch 4/100\n",
            "46/46 [==============================] - 0s 9ms/step - loss: -0.1575 - val_loss: -0.1936\n",
            "Epoch 5/100\n",
            "46/46 [==============================] - 0s 7ms/step - loss: -0.1496 - val_loss: -0.1997\n",
            "Epoch 6/100\n",
            "46/46 [==============================] - 0s 6ms/step - loss: -0.1609 - val_loss: -0.1947\n",
            "Epoch 7/100\n",
            "46/46 [==============================] - 0s 7ms/step - loss: -0.1582 - val_loss: -0.2010\n",
            "Epoch 8/100\n",
            "46/46 [==============================] - 0s 6ms/step - loss: -0.1643 - val_loss: -0.1903\n",
            "Epoch 9/100\n",
            "46/46 [==============================] - 0s 7ms/step - loss: -0.1673 - val_loss: -0.1968\n",
            "Epoch 10/100\n",
            "46/46 [==============================] - 0s 7ms/step - loss: -0.1753 - val_loss: -0.2020\n",
            "Epoch 11/100\n",
            "46/46 [==============================] - 0s 6ms/step - loss: -0.1569 - val_loss: -0.1515\n",
            "Epoch 12/100\n",
            "46/46 [==============================] - 0s 6ms/step - loss: -0.1295 - val_loss: -0.1914\n",
            "Epoch 13/100\n",
            "46/46 [==============================] - 0s 6ms/step - loss: -0.1476 - val_loss: -0.2023\n",
            "Epoch 14/100\n",
            "46/46 [==============================] - 0s 7ms/step - loss: -0.1577 - val_loss: -0.1984\n",
            "Epoch 15/100\n",
            "46/46 [==============================] - 0s 6ms/step - loss: -0.1601 - val_loss: -0.1836\n",
            "Epoch 16/100\n",
            "46/46 [==============================] - 0s 7ms/step - loss: -0.1552 - val_loss: -0.2038\n",
            "Epoch 17/100\n",
            "46/46 [==============================] - 0s 6ms/step - loss: -0.1652 - val_loss: -0.1908\n",
            "Epoch 18/100\n",
            "46/46 [==============================] - 0s 7ms/step - loss: -0.1682 - val_loss: -0.1982\n",
            "Epoch 19/100\n",
            "46/46 [==============================] - 0s 6ms/step - loss: -0.1680 - val_loss: -0.2049\n",
            "Epoch 20/100\n",
            "46/46 [==============================] - 0s 6ms/step - loss: -0.1713 - val_loss: -0.1952\n",
            "Epoch 21/100\n",
            "46/46 [==============================] - 0s 6ms/step - loss: -0.1736 - val_loss: -0.1990\n",
            "Epoch 22/100\n",
            "46/46 [==============================] - 0s 6ms/step - loss: -0.1712 - val_loss: -0.2009\n",
            "Epoch 23/100\n",
            "46/46 [==============================] - 0s 6ms/step - loss: -0.1772 - val_loss: -0.2000\n",
            "Epoch 24/100\n",
            "35/46 [=====================>........] - ETA: 0s - loss: -0.1803Restoring model weights from the end of the best epoch: 19.\n",
            "46/46 [==============================] - 0s 6ms/step - loss: -0.1775 - val_loss: -0.2028\n",
            "Epoch 24: early stopping\n",
            "174/174 [==============================] - 0s 3ms/step - loss: -0.2049\n",
            "\n",
            "Training model with image_size=20, step=10, lag=3\n"
          ]
        },
        {
          "metadata": {
            "tags": null
          },
          "name": "stderr",
          "output_type": "stream",
          "text": [
            "100%|██████████| 59/59 [02:20<00:00,  2.37s/it]\n"
          ]
        },
        {
          "metadata": {
            "tags": null
          },
          "name": "stdout",
          "output_type": "stream",
          "text": [
            "Epoch 1/100\n",
            "46/46 [==============================] - 2s 15ms/step - loss: -0.0693 - val_loss: -0.1876\n",
            "Epoch 2/100\n",
            "46/46 [==============================] - 0s 6ms/step - loss: -0.1628 - val_loss: -0.2031\n",
            "Epoch 3/100\n",
            "46/46 [==============================] - 0s 6ms/step - loss: -0.1688 - val_loss: -0.2031\n",
            "Epoch 4/100\n",
            "46/46 [==============================] - 0s 6ms/step - loss: -0.1779 - val_loss: -0.2162\n",
            "Epoch 5/100\n",
            "46/46 [==============================] - 0s 6ms/step - loss: -0.1809 - val_loss: -0.2013\n",
            "Epoch 6/100\n",
            "46/46 [==============================] - 0s 6ms/step - loss: -0.1780 - val_loss: -0.2131\n",
            "Epoch 7/100\n",
            "46/46 [==============================] - 0s 7ms/step - loss: -0.1924 - val_loss: -0.2078\n",
            "Epoch 8/100\n",
            "46/46 [==============================] - 0s 6ms/step - loss: -0.1874 - val_loss: -0.2164\n",
            "Epoch 9/100\n",
            "46/46 [==============================] - 0s 7ms/step - loss: -0.1926 - val_loss: -0.2144\n",
            "Epoch 10/100\n",
            "46/46 [==============================] - 0s 7ms/step - loss: -0.2065 - val_loss: -0.2158\n",
            "Epoch 11/100\n",
            "46/46 [==============================] - 0s 7ms/step - loss: -0.2067 - val_loss: -0.2082\n",
            "Epoch 12/100\n",
            "46/46 [==============================] - 0s 6ms/step - loss: -0.2038 - val_loss: -0.2122\n",
            "Epoch 13/100\n",
            "41/46 [=========================>....] - ETA: 0s - loss: -0.2091Restoring model weights from the end of the best epoch: 8.\n",
            "46/46 [==============================] - 0s 7ms/step - loss: -0.2065 - val_loss: -0.1986\n",
            "Epoch 13: early stopping\n",
            "174/174 [==============================] - 0s 3ms/step - loss: -0.2164\n",
            "\n",
            "Training model with image_size=20, step=10, lag=5\n"
          ]
        },
        {
          "metadata": {
            "tags": null
          },
          "name": "stderr",
          "output_type": "stream",
          "text": [
            "100%|██████████| 59/59 [02:21<00:00,  2.40s/it]\n"
          ]
        },
        {
          "metadata": {
            "tags": null
          },
          "name": "stdout",
          "output_type": "stream",
          "text": [
            "Epoch 1/100\n",
            "46/46 [==============================] - 2s 18ms/step - loss: -0.1246 - val_loss: -0.1713\n",
            "Epoch 2/100\n",
            "46/46 [==============================] - 0s 8ms/step - loss: -0.1185 - val_loss: -0.1884\n",
            "Epoch 3/100\n",
            "46/46 [==============================] - 0s 7ms/step - loss: -0.1404 - val_loss: -0.2054\n",
            "Epoch 4/100\n",
            "46/46 [==============================] - 0s 9ms/step - loss: -0.1658 - val_loss: -0.2069\n",
            "Epoch 5/100\n",
            "46/46 [==============================] - 0s 10ms/step - loss: -0.1808 - val_loss: -0.2145\n",
            "Epoch 6/100\n",
            "46/46 [==============================] - 0s 10ms/step - loss: -0.1919 - val_loss: -0.2358\n",
            "Epoch 7/100\n",
            "46/46 [==============================] - 0s 10ms/step - loss: -0.1976 - val_loss: -0.2299\n",
            "Epoch 8/100\n",
            "46/46 [==============================] - 0s 10ms/step - loss: -0.2100 - val_loss: -0.2330\n",
            "Epoch 9/100\n",
            "46/46 [==============================] - 0s 10ms/step - loss: -0.2074 - val_loss: -0.2194\n",
            "Epoch 10/100\n",
            "46/46 [==============================] - 0s 10ms/step - loss: -0.2240 - val_loss: -0.2266\n",
            "Epoch 11/100\n",
            "40/46 [=========================>....] - ETA: 0s - loss: -0.2259Restoring model weights from the end of the best epoch: 6.\n",
            "46/46 [==============================] - 0s 10ms/step - loss: -0.2221 - val_loss: -0.2127\n",
            "Epoch 11: early stopping\n",
            "174/174 [==============================] - 1s 4ms/step - loss: -0.2358\n",
            "\n",
            "Training model with image_size=20, step=10, lag=7\n"
          ]
        },
        {
          "metadata": {
            "tags": null
          },
          "name": "stderr",
          "output_type": "stream",
          "text": [
            "100%|██████████| 59/59 [02:20<00:00,  2.38s/it]\n"
          ]
        },
        {
          "metadata": {
            "tags": null
          },
          "name": "stdout",
          "output_type": "stream",
          "text": [
            "Epoch 1/100\n",
            "46/46 [==============================] - 3s 25ms/step - loss: -0.0789 - val_loss: -0.0640\n",
            "Epoch 2/100\n",
            "46/46 [==============================] - 1s 13ms/step - loss: -0.1003 - val_loss: -0.2048\n",
            "Epoch 3/100\n",
            "46/46 [==============================] - 1s 14ms/step - loss: -0.1696 - val_loss: -0.2470\n",
            "Epoch 4/100\n",
            "46/46 [==============================] - 0s 9ms/step - loss: -0.1905 - val_loss: -0.2540\n",
            "Epoch 5/100\n",
            "46/46 [==============================] - 0s 9ms/step - loss: -0.2028 - val_loss: -0.2528\n",
            "Epoch 6/100\n",
            "46/46 [==============================] - 0s 8ms/step - loss: -0.2095 - val_loss: -0.2373\n",
            "Epoch 7/100\n",
            "46/46 [==============================] - 0s 8ms/step - loss: -0.2091 - val_loss: -0.2502\n",
            "Epoch 8/100\n",
            "46/46 [==============================] - 0s 9ms/step - loss: -0.2182 - val_loss: -0.2344\n",
            "Epoch 9/100\n",
            "40/46 [=========================>....] - ETA: 0s - loss: -0.1963Restoring model weights from the end of the best epoch: 4.\n",
            "46/46 [==============================] - 0s 9ms/step - loss: -0.1957 - val_loss: -0.2218\n",
            "Epoch 9: early stopping\n",
            "174/174 [==============================] - 0s 3ms/step - loss: -0.2540\n",
            "\n",
            "Training model with image_size=20, step=10, lag=10\n"
          ]
        },
        {
          "metadata": {
            "tags": null
          },
          "name": "stderr",
          "output_type": "stream",
          "text": [
            "100%|██████████| 59/59 [02:21<00:00,  2.41s/it]\n"
          ]
        },
        {
          "metadata": {
            "tags": null
          },
          "name": "stdout",
          "output_type": "stream",
          "text": [
            "Epoch 1/100\n",
            "46/46 [==============================] - 2s 23ms/step - loss: -0.1218 - val_loss: -0.1930\n",
            "Epoch 2/100\n",
            "46/46 [==============================] - 0s 11ms/step - loss: -0.1685 - val_loss: -0.2202\n",
            "Epoch 3/100\n",
            "46/46 [==============================] - 0s 10ms/step - loss: -0.1803 - val_loss: -0.2236\n",
            "Epoch 4/100\n",
            "46/46 [==============================] - 0s 10ms/step - loss: -0.1928 - val_loss: -0.2473\n",
            "Epoch 5/100\n",
            "46/46 [==============================] - 0s 10ms/step - loss: -0.1980 - val_loss: -0.2352\n",
            "Epoch 6/100\n",
            "46/46 [==============================] - 0s 10ms/step - loss: -0.2018 - val_loss: -0.2455\n",
            "Epoch 7/100\n",
            "46/46 [==============================] - 0s 10ms/step - loss: -0.0931 - val_loss: -0.1589\n",
            "Epoch 8/100\n",
            "46/46 [==============================] - 0s 10ms/step - loss: -0.1509 - val_loss: -0.1627\n",
            "Epoch 9/100\n",
            "41/46 [=========================>....] - ETA: 0s - loss: -0.1684Restoring model weights from the end of the best epoch: 4.\n",
            "46/46 [==============================] - 0s 10ms/step - loss: -0.1702 - val_loss: -0.1861\n",
            "Epoch 9: early stopping\n",
            "174/174 [==============================] - 0s 3ms/step - loss: -0.2473\n",
            "\n",
            "Training model with image_size=20, step=16, lag=1\n"
          ]
        },
        {
          "metadata": {
            "tags": null
          },
          "name": "stderr",
          "output_type": "stream",
          "text": [
            "100%|██████████| 59/59 [02:16<00:00,  2.32s/it]\n"
          ]
        },
        {
          "metadata": {
            "tags": null
          },
          "name": "stdout",
          "output_type": "stream",
          "text": [
            "Epoch 1/100\n",
            "46/46 [==============================] - 2s 14ms/step - loss: -0.0655 - val_loss: -0.1666\n",
            "Epoch 2/100\n",
            "46/46 [==============================] - 0s 6ms/step - loss: -0.1066 - val_loss: -0.1669\n",
            "Epoch 3/100\n",
            "46/46 [==============================] - 0s 6ms/step - loss: -0.1160 - val_loss: -0.1983\n",
            "Epoch 4/100\n",
            "46/46 [==============================] - 0s 6ms/step - loss: -0.1231 - val_loss: -0.1864\n",
            "Epoch 5/100\n",
            "46/46 [==============================] - 0s 6ms/step - loss: -0.1299 - val_loss: -0.1999\n",
            "Epoch 6/100\n",
            "46/46 [==============================] - 0s 6ms/step - loss: -0.1346 - val_loss: -0.1976\n",
            "Epoch 7/100\n",
            "46/46 [==============================] - 0s 6ms/step - loss: -0.1416 - val_loss: -0.2031\n",
            "Epoch 8/100\n",
            "46/46 [==============================] - 0s 7ms/step - loss: -0.1410 - val_loss: -0.1995\n",
            "Epoch 9/100\n",
            "46/46 [==============================] - 0s 6ms/step - loss: -0.1461 - val_loss: -0.1840\n",
            "Epoch 10/100\n",
            "46/46 [==============================] - 0s 7ms/step - loss: -0.1520 - val_loss: -0.1966\n",
            "Epoch 11/100\n",
            "46/46 [==============================] - 0s 5ms/step - loss: -0.1403 - val_loss: -0.1977\n",
            "Epoch 12/100\n",
            "37/46 [=======================>......] - ETA: 0s - loss: -0.1594Restoring model weights from the end of the best epoch: 7.\n",
            "46/46 [==============================] - 0s 7ms/step - loss: -0.1593 - val_loss: -0.1812\n",
            "Epoch 12: early stopping\n",
            "174/174 [==============================] - 0s 3ms/step - loss: -0.2031\n",
            "\n",
            "Training model with image_size=20, step=16, lag=3\n"
          ]
        },
        {
          "metadata": {
            "tags": null
          },
          "name": "stderr",
          "output_type": "stream",
          "text": [
            "100%|██████████| 59/59 [02:17<00:00,  2.33s/it]\n"
          ]
        },
        {
          "metadata": {
            "tags": null
          },
          "name": "stdout",
          "output_type": "stream",
          "text": [
            "Epoch 1/100\n",
            "46/46 [==============================] - 2s 15ms/step - loss: -0.0688 - val_loss: -0.1582\n",
            "Epoch 2/100\n",
            "46/46 [==============================] - 0s 7ms/step - loss: -0.1372 - val_loss: -0.1729\n",
            "Epoch 3/100\n",
            "46/46 [==============================] - 0s 7ms/step - loss: -0.1454 - val_loss: -0.2007\n",
            "Epoch 4/100\n",
            "46/46 [==============================] - 0s 6ms/step - loss: -0.1543 - val_loss: -0.1904\n",
            "Epoch 5/100\n",
            "46/46 [==============================] - 0s 6ms/step - loss: -0.1616 - val_loss: -0.2181\n",
            "Epoch 6/100\n",
            "46/46 [==============================] - 0s 7ms/step - loss: -0.1663 - val_loss: -0.2254\n",
            "Epoch 7/100\n",
            "46/46 [==============================] - 0s 6ms/step - loss: -0.1687 - val_loss: -0.1996\n",
            "Epoch 8/100\n",
            "46/46 [==============================] - 0s 6ms/step - loss: -0.1582 - val_loss: -0.1642\n",
            "Epoch 9/100\n",
            "46/46 [==============================] - 0s 7ms/step - loss: -0.1657 - val_loss: -0.2023\n",
            "Epoch 10/100\n",
            "46/46 [==============================] - 0s 7ms/step - loss: -0.1780 - val_loss: -0.2143\n",
            "Epoch 11/100\n",
            "41/46 [=========================>....] - ETA: 0s - loss: -0.1882Restoring model weights from the end of the best epoch: 6.\n",
            "46/46 [==============================] - 0s 7ms/step - loss: -0.1885 - val_loss: -0.2033\n",
            "Epoch 11: early stopping\n",
            "174/174 [==============================] - 0s 3ms/step - loss: -0.2254\n",
            "\n",
            "Training model with image_size=20, step=16, lag=5\n"
          ]
        },
        {
          "metadata": {
            "tags": null
          },
          "name": "stderr",
          "output_type": "stream",
          "text": [
            "100%|██████████| 59/59 [02:24<00:00,  2.45s/it]\n"
          ]
        },
        {
          "metadata": {
            "tags": null
          },
          "name": "stdout",
          "output_type": "stream",
          "text": [
            "Epoch 1/100\n",
            "46/46 [==============================] - 2s 17ms/step - loss: -0.0332 - val_loss: -0.0779\n",
            "Epoch 2/100\n",
            "46/46 [==============================] - 0s 8ms/step - loss: -0.0750 - val_loss: -0.1572\n",
            "Epoch 3/100\n",
            "46/46 [==============================] - 0s 7ms/step - loss: -0.1167 - val_loss: -0.2139\n",
            "Epoch 4/100\n",
            "46/46 [==============================] - 0s 7ms/step - loss: -0.1559 - val_loss: -0.1970\n",
            "Epoch 5/100\n",
            "46/46 [==============================] - 0s 7ms/step - loss: -0.1719 - val_loss: -0.2050\n",
            "Epoch 6/100\n",
            "46/46 [==============================] - 0s 7ms/step - loss: -0.1921 - val_loss: -0.2149\n",
            "Epoch 7/100\n",
            "46/46 [==============================] - 0s 8ms/step - loss: -0.1924 - val_loss: -0.2128\n",
            "Epoch 8/100\n",
            "46/46 [==============================] - 0s 10ms/step - loss: -0.1929 - val_loss: -0.2101\n",
            "Epoch 9/100\n",
            "46/46 [==============================] - 0s 10ms/step - loss: -0.1952 - val_loss: -0.1883\n",
            "Epoch 10/100\n",
            "46/46 [==============================] - 0s 10ms/step - loss: -0.1905 - val_loss: -0.2115\n",
            "Epoch 11/100\n",
            "42/46 [==========================>...] - ETA: 0s - loss: -0.1989Restoring model weights from the end of the best epoch: 6.\n",
            "46/46 [==============================] - 0s 10ms/step - loss: -0.2019 - val_loss: -0.2091\n",
            "Epoch 11: early stopping\n",
            "174/174 [==============================] - 1s 4ms/step - loss: -0.2149\n",
            "\n",
            "Training model with image_size=20, step=16, lag=7\n"
          ]
        },
        {
          "metadata": {
            "tags": null
          },
          "name": "stderr",
          "output_type": "stream",
          "text": [
            "100%|██████████| 59/59 [02:18<00:00,  2.34s/it]\n"
          ]
        },
        {
          "metadata": {
            "tags": null
          },
          "name": "stdout",
          "output_type": "stream",
          "text": [
            "Epoch 1/100\n",
            "46/46 [==============================] - 2s 19ms/step - loss: -0.0589 - val_loss: -0.1573\n",
            "Epoch 2/100\n",
            "46/46 [==============================] - 0s 10ms/step - loss: -0.0963 - val_loss: -0.1751\n",
            "Epoch 3/100\n",
            "46/46 [==============================] - 1s 11ms/step - loss: -0.1259 - val_loss: -0.2070\n",
            "Epoch 4/100\n",
            "46/46 [==============================] - 1s 11ms/step - loss: -0.1389 - val_loss: -0.2444\n",
            "Epoch 5/100\n",
            "46/46 [==============================] - 1s 13ms/step - loss: -0.1546 - val_loss: -0.2621\n",
            "Epoch 6/100\n",
            "46/46 [==============================] - 1s 11ms/step - loss: -0.1589 - val_loss: -0.2510\n",
            "Epoch 7/100\n",
            "46/46 [==============================] - 1s 11ms/step - loss: -0.1607 - val_loss: -0.2234\n",
            "Epoch 8/100\n",
            "46/46 [==============================] - 1s 11ms/step - loss: -0.1757 - val_loss: -0.2515\n",
            "Epoch 9/100\n",
            "46/46 [==============================] - 1s 12ms/step - loss: -0.1826 - val_loss: -0.2441\n",
            "Epoch 10/100\n",
            "45/46 [============================>.] - ETA: 0s - loss: -0.1764Restoring model weights from the end of the best epoch: 5.\n",
            "46/46 [==============================] - 1s 13ms/step - loss: -0.1767 - val_loss: -0.2329\n",
            "Epoch 10: early stopping\n",
            "174/174 [==============================] - 0s 3ms/step - loss: -0.2621\n",
            "\n",
            "Training model with image_size=20, step=16, lag=10\n"
          ]
        },
        {
          "metadata": {
            "tags": null
          },
          "name": "stderr",
          "output_type": "stream",
          "text": [
            "100%|██████████| 59/59 [02:17<00:00,  2.33s/it]\n"
          ]
        },
        {
          "metadata": {
            "tags": null
          },
          "name": "stdout",
          "output_type": "stream",
          "text": [
            "Epoch 1/100\n",
            "46/46 [==============================] - 2s 22ms/step - loss: -0.1221 - val_loss: -0.2219\n",
            "Epoch 2/100\n",
            "46/46 [==============================] - 0s 10ms/step - loss: -0.1577 - val_loss: -0.2460\n",
            "Epoch 3/100\n",
            "46/46 [==============================] - 0s 10ms/step - loss: -0.1472 - val_loss: -0.2128\n",
            "Epoch 4/100\n",
            "46/46 [==============================] - 0s 10ms/step - loss: -0.1628 - val_loss: -0.2563\n",
            "Epoch 5/100\n",
            "46/46 [==============================] - 0s 10ms/step - loss: -0.1852 - val_loss: -0.2346\n",
            "Epoch 6/100\n",
            "46/46 [==============================] - 0s 10ms/step - loss: -0.1964 - val_loss: -0.2319\n",
            "Epoch 7/100\n",
            "46/46 [==============================] - 0s 10ms/step - loss: -0.2077 - val_loss: -0.2283\n",
            "Epoch 8/100\n",
            "46/46 [==============================] - 1s 12ms/step - loss: -0.2054 - val_loss: -0.2357\n",
            "Epoch 9/100\n",
            "41/46 [=========================>....] - ETA: 0s - loss: -0.1606Restoring model weights from the end of the best epoch: 4.\n",
            "46/46 [==============================] - 0s 10ms/step - loss: -0.1605 - val_loss: -0.2115\n",
            "Epoch 9: early stopping\n",
            "174/174 [==============================] - 1s 4ms/step - loss: -0.2563\n",
            "\n",
            "Training model with image_size=24, step=1, lag=1\n"
          ]
        },
        {
          "metadata": {
            "tags": null
          },
          "name": "stderr",
          "output_type": "stream",
          "text": [
            "100%|██████████| 59/59 [02:28<00:00,  2.51s/it]\n"
          ]
        },
        {
          "metadata": {
            "tags": null
          },
          "name": "stdout",
          "output_type": "stream",
          "text": [
            "Epoch 1/100\n",
            "50/50 [==============================] - 2s 11ms/step - loss: -0.0839 - val_loss: -0.1184\n",
            "Epoch 2/100\n",
            "50/50 [==============================] - 0s 6ms/step - loss: -0.1009 - val_loss: -0.1566\n",
            "Epoch 3/100\n",
            "50/50 [==============================] - 0s 6ms/step - loss: -0.1069 - val_loss: -0.1539\n",
            "Epoch 4/100\n",
            "50/50 [==============================] - 0s 6ms/step - loss: -0.1091 - val_loss: -0.1435\n",
            "Epoch 5/100\n",
            "50/50 [==============================] - 0s 5ms/step - loss: -0.1102 - val_loss: -0.1412\n",
            "Epoch 6/100\n",
            "50/50 [==============================] - 0s 6ms/step - loss: -0.1171 - val_loss: -0.1536\n",
            "Epoch 7/100\n",
            "47/50 [===========================>..] - ETA: 0s - loss: -0.1135Restoring model weights from the end of the best epoch: 2.\n",
            "50/50 [==============================] - 0s 6ms/step - loss: -0.1141 - val_loss: -0.1370\n",
            "Epoch 7: early stopping\n",
            "181/181 [==============================] - 1s 3ms/step - loss: -0.1566\n",
            "\n",
            "Training model with image_size=24, step=1, lag=3\n"
          ]
        },
        {
          "metadata": {
            "tags": null
          },
          "name": "stderr",
          "output_type": "stream",
          "text": [
            "100%|██████████| 59/59 [02:30<00:00,  2.54s/it]\n"
          ]
        },
        {
          "metadata": {
            "tags": null
          },
          "name": "stdout",
          "output_type": "stream",
          "text": [
            "Epoch 1/100\n",
            "50/50 [==============================] - 2s 17ms/step - loss: -0.1015 - val_loss: -0.1668\n",
            "Epoch 2/100\n",
            "50/50 [==============================] - 0s 8ms/step - loss: -0.1343 - val_loss: -0.1780\n",
            "Epoch 3/100\n",
            "50/50 [==============================] - 0s 7ms/step - loss: -0.1395 - val_loss: -0.1764\n",
            "Epoch 4/100\n",
            "50/50 [==============================] - 0s 7ms/step - loss: -0.1398 - val_loss: -0.1738\n",
            "Epoch 5/100\n",
            "50/50 [==============================] - 0s 7ms/step - loss: -0.1471 - val_loss: -0.1698\n",
            "Epoch 6/100\n",
            "50/50 [==============================] - 0s 8ms/step - loss: -0.1511 - val_loss: -0.1649\n",
            "Epoch 7/100\n",
            "45/50 [==========================>...] - ETA: 0s - loss: -0.1525Restoring model weights from the end of the best epoch: 2.\n",
            "50/50 [==============================] - 0s 8ms/step - loss: -0.1537 - val_loss: -0.1747\n",
            "Epoch 7: early stopping\n",
            "181/181 [==============================] - 1s 3ms/step - loss: -0.1780\n",
            "\n",
            "Training model with image_size=24, step=1, lag=5\n"
          ]
        },
        {
          "metadata": {
            "tags": null
          },
          "name": "stderr",
          "output_type": "stream",
          "text": [
            "100%|██████████| 59/59 [02:30<00:00,  2.55s/it]\n"
          ]
        },
        {
          "metadata": {
            "tags": null
          },
          "name": "stdout",
          "output_type": "stream",
          "text": [
            "Epoch 1/100\n",
            "50/50 [==============================] - 2s 20ms/step - loss: -0.0946 - val_loss: -0.1415\n",
            "Epoch 2/100\n",
            "50/50 [==============================] - 0s 9ms/step - loss: -0.1374 - val_loss: -0.1762\n",
            "Epoch 3/100\n",
            "50/50 [==============================] - 0s 9ms/step - loss: -0.1460 - val_loss: -0.1762\n",
            "Epoch 4/100\n",
            "50/50 [==============================] - 0s 9ms/step - loss: -0.1561 - val_loss: -0.1897\n",
            "Epoch 5/100\n",
            "50/50 [==============================] - 0s 9ms/step - loss: -0.1615 - val_loss: -0.1880\n",
            "Epoch 6/100\n",
            "50/50 [==============================] - 0s 9ms/step - loss: -0.1621 - val_loss: -0.1916\n",
            "Epoch 7/100\n",
            "50/50 [==============================] - 0s 9ms/step - loss: -0.1656 - val_loss: -0.1786\n",
            "Epoch 8/100\n",
            "50/50 [==============================] - 0s 8ms/step - loss: -0.1669 - val_loss: -0.1736\n",
            "Epoch 9/100\n",
            "50/50 [==============================] - 0s 8ms/step - loss: -0.1678 - val_loss: -0.1756\n",
            "Epoch 10/100\n",
            "50/50 [==============================] - 0s 9ms/step - loss: -0.1738 - val_loss: -0.1734\n",
            "Epoch 11/100\n",
            "49/50 [============================>.] - ETA: 0s - loss: -0.1718Restoring model weights from the end of the best epoch: 6.\n",
            "50/50 [==============================] - 0s 8ms/step - loss: -0.1722 - val_loss: -0.1780\n",
            "Epoch 11: early stopping\n",
            "181/181 [==============================] - 0s 3ms/step - loss: -0.1916\n",
            "\n",
            "Training model with image_size=24, step=1, lag=7\n"
          ]
        },
        {
          "metadata": {
            "tags": null
          },
          "name": "stderr",
          "output_type": "stream",
          "text": [
            "100%|██████████| 59/59 [02:31<00:00,  2.57s/it]\n"
          ]
        },
        {
          "metadata": {
            "tags": null
          },
          "name": "stdout",
          "output_type": "stream",
          "text": [
            "Epoch 1/100\n",
            "50/50 [==============================] - 2s 22ms/step - loss: -0.0488 - val_loss: -0.0077\n",
            "Epoch 2/100\n",
            "50/50 [==============================] - 1s 10ms/step - loss: -0.0424 - val_loss: -0.0125\n",
            "Epoch 3/100\n",
            "50/50 [==============================] - 1s 10ms/step - loss: -0.0457 - val_loss: -0.0200\n",
            "Epoch 4/100\n",
            "50/50 [==============================] - 1s 12ms/step - loss: -0.0653 - val_loss: -0.1004\n",
            "Epoch 5/100\n",
            "50/50 [==============================] - 1s 10ms/step - loss: -0.1206 - val_loss: -0.1415\n",
            "Epoch 6/100\n",
            "50/50 [==============================] - 1s 10ms/step - loss: -0.1205 - val_loss: -0.1202\n",
            "Epoch 7/100\n",
            "50/50 [==============================] - 1s 10ms/step - loss: -0.1347 - val_loss: -0.1717\n",
            "Epoch 8/100\n",
            "50/50 [==============================] - 1s 11ms/step - loss: -0.1438 - val_loss: -0.1715\n",
            "Epoch 9/100\n",
            "50/50 [==============================] - 1s 11ms/step - loss: -0.1525 - val_loss: -0.1779\n",
            "Epoch 10/100\n",
            "50/50 [==============================] - 1s 10ms/step - loss: -0.1573 - val_loss: -0.1716\n",
            "Epoch 11/100\n",
            "50/50 [==============================] - 1s 11ms/step - loss: -0.1590 - val_loss: -0.1853\n",
            "Epoch 12/100\n",
            "50/50 [==============================] - 1s 14ms/step - loss: -0.1636 - val_loss: -0.1802\n",
            "Epoch 13/100\n",
            "50/50 [==============================] - 1s 15ms/step - loss: -0.1663 - val_loss: -0.1781\n",
            "Epoch 14/100\n",
            "50/50 [==============================] - 1s 14ms/step - loss: -0.1692 - val_loss: -0.1816\n",
            "Epoch 15/100\n",
            "50/50 [==============================] - 1s 13ms/step - loss: -0.1702 - val_loss: -0.1769\n",
            "Epoch 16/100\n",
            "49/50 [============================>.] - ETA: 0s - loss: -0.1735Restoring model weights from the end of the best epoch: 11.\n",
            "50/50 [==============================] - 1s 15ms/step - loss: -0.1738 - val_loss: -0.1851\n",
            "Epoch 16: early stopping\n",
            "181/181 [==============================] - 1s 3ms/step - loss: -0.1853\n",
            "\n",
            "Training model with image_size=24, step=1, lag=10\n"
          ]
        },
        {
          "metadata": {
            "tags": null
          },
          "name": "stderr",
          "output_type": "stream",
          "text": [
            "100%|██████████| 59/59 [02:33<00:00,  2.60s/it]\n"
          ]
        },
        {
          "metadata": {
            "tags": null
          },
          "name": "stdout",
          "output_type": "stream",
          "text": [
            "Epoch 1/100\n",
            "50/50 [==============================] - 3s 27ms/step - loss: -0.0589 - val_loss: -0.1292\n",
            "Epoch 2/100\n",
            "50/50 [==============================] - 1s 12ms/step - loss: -0.1301 - val_loss: -0.1264\n",
            "Epoch 3/100\n",
            "50/50 [==============================] - 1s 13ms/step - loss: -0.1363 - val_loss: -0.1709\n",
            "Epoch 4/100\n",
            "50/50 [==============================] - 1s 12ms/step - loss: -0.1501 - val_loss: -0.1690\n",
            "Epoch 5/100\n",
            "50/50 [==============================] - 1s 13ms/step - loss: -0.1564 - val_loss: -0.1689\n",
            "Epoch 6/100\n",
            "50/50 [==============================] - 1s 14ms/step - loss: -0.1659 - val_loss: -0.1780\n",
            "Epoch 7/100\n",
            "50/50 [==============================] - 1s 14ms/step - loss: -0.1649 - val_loss: -0.1788\n",
            "Epoch 8/100\n",
            "50/50 [==============================] - 1s 13ms/step - loss: -0.1692 - val_loss: -0.1812\n",
            "Epoch 9/100\n",
            "50/50 [==============================] - 1s 13ms/step - loss: -0.1680 - val_loss: -0.1825\n",
            "Epoch 10/100\n",
            "50/50 [==============================] - 1s 15ms/step - loss: -0.1803 - val_loss: -0.1734\n",
            "Epoch 11/100\n",
            "50/50 [==============================] - 1s 13ms/step - loss: -0.1803 - val_loss: -0.1805\n",
            "Epoch 12/100\n",
            "50/50 [==============================] - 1s 14ms/step - loss: -0.1787 - val_loss: -0.1802\n",
            "Epoch 13/100\n",
            "50/50 [==============================] - 1s 17ms/step - loss: -0.1787 - val_loss: -0.1831\n",
            "Epoch 14/100\n",
            "50/50 [==============================] - 1s 17ms/step - loss: -0.1816 - val_loss: -0.1691\n",
            "Epoch 15/100\n",
            "50/50 [==============================] - 1s 16ms/step - loss: -0.1886 - val_loss: -0.1834\n",
            "Epoch 16/100\n",
            "50/50 [==============================] - 1s 17ms/step - loss: -0.1938 - val_loss: -0.1867\n",
            "Epoch 17/100\n",
            "50/50 [==============================] - 1s 17ms/step - loss: -0.1956 - val_loss: -0.1682\n",
            "Epoch 18/100\n",
            "50/50 [==============================] - 1s 15ms/step - loss: -0.1971 - val_loss: -0.1775\n",
            "Epoch 19/100\n",
            "50/50 [==============================] - 1s 13ms/step - loss: -0.1982 - val_loss: -0.1742\n",
            "Epoch 20/100\n",
            "50/50 [==============================] - 1s 13ms/step - loss: -0.2035 - val_loss: -0.1696\n",
            "Epoch 21/100\n",
            "46/50 [==========================>...] - ETA: 0s - loss: -0.1816Restoring model weights from the end of the best epoch: 16.\n",
            "50/50 [==============================] - 1s 13ms/step - loss: -0.1771 - val_loss: -0.1202\n",
            "Epoch 21: early stopping\n",
            "181/181 [==============================] - 1s 3ms/step - loss: -0.1867\n",
            "\n",
            "Training model with image_size=24, step=3, lag=1\n"
          ]
        },
        {
          "metadata": {
            "tags": null
          },
          "name": "stderr",
          "output_type": "stream",
          "text": [
            "100%|██████████| 59/59 [02:23<00:00,  2.43s/it]\n"
          ]
        },
        {
          "metadata": {
            "tags": null
          },
          "name": "stdout",
          "output_type": "stream",
          "text": [
            "Epoch 1/100\n",
            "49/49 [==============================] - 2s 14ms/step - loss: -0.0829 - val_loss: -0.1455\n",
            "Epoch 2/100\n",
            "49/49 [==============================] - 0s 7ms/step - loss: -0.1453 - val_loss: -0.1248\n",
            "Epoch 3/100\n",
            "49/49 [==============================] - 0s 6ms/step - loss: -0.1517 - val_loss: -0.1953\n",
            "Epoch 4/100\n",
            "49/49 [==============================] - 0s 6ms/step - loss: -0.1542 - val_loss: -0.1889\n",
            "Epoch 5/100\n",
            "49/49 [==============================] - 0s 6ms/step - loss: -0.1575 - val_loss: -0.1770\n",
            "Epoch 6/100\n",
            "49/49 [==============================] - 0s 6ms/step - loss: -0.1609 - val_loss: -0.1906\n",
            "Epoch 7/100\n",
            "49/49 [==============================] - 0s 7ms/step - loss: -0.1614 - val_loss: -0.1961\n",
            "Epoch 8/100\n",
            "49/49 [==============================] - 0s 7ms/step - loss: -0.1644 - val_loss: -0.2008\n",
            "Epoch 9/100\n",
            "49/49 [==============================] - 0s 7ms/step - loss: -0.1646 - val_loss: -0.1978\n",
            "Epoch 10/100\n",
            "49/49 [==============================] - 0s 8ms/step - loss: -0.1677 - val_loss: -0.1905\n",
            "Epoch 11/100\n",
            "49/49 [==============================] - 0s 8ms/step - loss: -0.1680 - val_loss: -0.1886\n",
            "Epoch 12/100\n",
            "49/49 [==============================] - 0s 10ms/step - loss: -0.1693 - val_loss: -0.1964\n",
            "Epoch 13/100\n",
            "49/49 [==============================] - ETA: 0s - loss: -0.1685Restoring model weights from the end of the best epoch: 8.\n",
            "49/49 [==============================] - 0s 9ms/step - loss: -0.1685 - val_loss: -0.1942\n",
            "Epoch 13: early stopping\n",
            "178/178 [==============================] - 1s 3ms/step - loss: -0.2008\n",
            "\n",
            "Training model with image_size=24, step=3, lag=3\n"
          ]
        },
        {
          "metadata": {
            "tags": null
          },
          "name": "stderr",
          "output_type": "stream",
          "text": [
            "100%|██████████| 59/59 [02:24<00:00,  2.45s/it]\n"
          ]
        },
        {
          "metadata": {
            "tags": null
          },
          "name": "stdout",
          "output_type": "stream",
          "text": [
            "Epoch 1/100\n",
            "49/49 [==============================] - 2s 17ms/step - loss: -0.1282 - val_loss: -0.2047\n",
            "Epoch 2/100\n",
            "49/49 [==============================] - 0s 7ms/step - loss: -0.1712 - val_loss: -0.2083\n",
            "Epoch 3/100\n",
            "49/49 [==============================] - 0s 7ms/step - loss: -0.1700 - val_loss: -0.2115\n",
            "Epoch 4/100\n",
            "49/49 [==============================] - 0s 7ms/step - loss: -0.1868 - val_loss: -0.2139\n",
            "Epoch 5/100\n",
            "49/49 [==============================] - 0s 7ms/step - loss: -0.1935 - val_loss: -0.2188\n",
            "Epoch 6/100\n",
            "49/49 [==============================] - 0s 7ms/step - loss: -0.2014 - val_loss: -0.2236\n",
            "Epoch 7/100\n",
            "49/49 [==============================] - 0s 7ms/step - loss: -0.2081 - val_loss: -0.2290\n",
            "Epoch 8/100\n",
            "49/49 [==============================] - 0s 7ms/step - loss: -0.2097 - val_loss: -0.2170\n",
            "Epoch 9/100\n",
            "49/49 [==============================] - 0s 7ms/step - loss: -0.2123 - val_loss: -0.2142\n",
            "Epoch 10/100\n",
            "49/49 [==============================] - 0s 8ms/step - loss: -0.2187 - val_loss: -0.2267\n",
            "Epoch 11/100\n",
            "49/49 [==============================] - 0s 9ms/step - loss: -0.2090 - val_loss: -0.2228\n",
            "Epoch 12/100\n",
            "44/49 [=========================>....] - ETA: 0s - loss: -0.2228Restoring model weights from the end of the best epoch: 7.\n",
            "49/49 [==============================] - 0s 9ms/step - loss: -0.2214 - val_loss: -0.2220\n",
            "Epoch 12: early stopping\n",
            "178/178 [==============================] - 1s 3ms/step - loss: -0.2290\n",
            "\n",
            "Training model with image_size=24, step=3, lag=5\n"
          ]
        },
        {
          "metadata": {
            "tags": null
          },
          "name": "stderr",
          "output_type": "stream",
          "text": [
            "100%|██████████| 59/59 [02:32<00:00,  2.59s/it]\n"
          ]
        },
        {
          "metadata": {
            "tags": null
          },
          "name": "stdout",
          "output_type": "stream",
          "text": [
            "Epoch 1/100\n",
            "49/49 [==============================] - 2s 19ms/step - loss: -0.1544 - val_loss: -0.2272\n",
            "Epoch 2/100\n",
            "49/49 [==============================] - 0s 9ms/step - loss: -0.1920 - val_loss: -0.2176\n",
            "Epoch 3/100\n",
            "49/49 [==============================] - 0s 9ms/step - loss: -0.1985 - val_loss: -0.2264\n",
            "Epoch 4/100\n",
            "49/49 [==============================] - 0s 9ms/step - loss: -0.1986 - val_loss: -0.2217\n",
            "Epoch 5/100\n",
            "49/49 [==============================] - 0s 8ms/step - loss: -0.2051 - val_loss: -0.2256\n",
            "Epoch 6/100\n",
            "49/49 [==============================] - 0s 9ms/step - loss: -0.2182 - val_loss: -0.2314\n",
            "Epoch 7/100\n",
            "49/49 [==============================] - 0s 9ms/step - loss: -0.2199 - val_loss: -0.2254\n",
            "Epoch 8/100\n",
            "49/49 [==============================] - 0s 9ms/step - loss: -0.2236 - val_loss: -0.2318\n",
            "Epoch 9/100\n",
            "49/49 [==============================] - 0s 8ms/step - loss: -0.2341 - val_loss: -0.2405\n",
            "Epoch 10/100\n",
            "49/49 [==============================] - 0s 9ms/step - loss: -0.2380 - val_loss: -0.2123\n",
            "Epoch 11/100\n",
            "49/49 [==============================] - 0s 9ms/step - loss: -0.2419 - val_loss: -0.2215\n",
            "Epoch 12/100\n",
            "49/49 [==============================] - 1s 10ms/step - loss: -0.2448 - val_loss: -0.2381\n",
            "Epoch 13/100\n",
            "49/49 [==============================] - 1s 11ms/step - loss: -0.2524 - val_loss: -0.2178\n",
            "Epoch 14/100\n",
            "44/49 [=========================>....] - ETA: 0s - loss: -0.2359Restoring model weights from the end of the best epoch: 9.\n",
            "49/49 [==============================] - 1s 13ms/step - loss: -0.2369 - val_loss: -0.2127\n",
            "Epoch 14: early stopping\n",
            "178/178 [==============================] - 1s 3ms/step - loss: -0.2405\n",
            "\n",
            "Training model with image_size=24, step=3, lag=7\n"
          ]
        },
        {
          "metadata": {
            "tags": null
          },
          "name": "stderr",
          "output_type": "stream",
          "text": [
            "100%|██████████| 59/59 [02:25<00:00,  2.46s/it]\n"
          ]
        },
        {
          "metadata": {
            "tags": null
          },
          "name": "stdout",
          "output_type": "stream",
          "text": [
            "Epoch 1/100\n",
            "49/49 [==============================] - 2s 21ms/step - loss: -0.1358 - val_loss: -0.2027\n",
            "Epoch 2/100\n",
            "49/49 [==============================] - 1s 11ms/step - loss: -0.1658 - val_loss: -0.1975\n",
            "Epoch 3/100\n",
            "49/49 [==============================] - 1s 10ms/step - loss: -0.1857 - val_loss: -0.2138\n",
            "Epoch 4/100\n",
            "49/49 [==============================] - 1s 11ms/step - loss: -0.1920 - val_loss: -0.2197\n",
            "Epoch 5/100\n",
            "49/49 [==============================] - 0s 10ms/step - loss: -0.2074 - val_loss: -0.2106\n",
            "Epoch 6/100\n",
            "49/49 [==============================] - 1s 10ms/step - loss: -0.2098 - val_loss: -0.2314\n",
            "Epoch 7/100\n",
            "49/49 [==============================] - 1s 12ms/step - loss: -0.2188 - val_loss: -0.2122\n",
            "Epoch 8/100\n",
            "49/49 [==============================] - 1s 11ms/step - loss: -0.2214 - val_loss: -0.2182\n",
            "Epoch 9/100\n",
            "49/49 [==============================] - 1s 12ms/step - loss: -0.2261 - val_loss: -0.2245\n",
            "Epoch 10/100\n",
            "49/49 [==============================] - 1s 10ms/step - loss: -0.2186 - val_loss: -0.1954\n",
            "Epoch 11/100\n",
            "46/49 [===========================>..] - ETA: 0s - loss: -0.2255Restoring model weights from the end of the best epoch: 6.\n",
            "49/49 [==============================] - 0s 10ms/step - loss: -0.2256 - val_loss: -0.2005\n",
            "Epoch 11: early stopping\n",
            "178/178 [==============================] - 1s 3ms/step - loss: -0.2314\n",
            "\n",
            "Training model with image_size=24, step=3, lag=10\n"
          ]
        },
        {
          "metadata": {
            "tags": null
          },
          "name": "stderr",
          "output_type": "stream",
          "text": [
            "100%|██████████| 59/59 [02:26<00:00,  2.48s/it]\n"
          ]
        },
        {
          "metadata": {
            "tags": null
          },
          "name": "stdout",
          "output_type": "stream",
          "text": [
            "Epoch 1/100\n",
            "49/49 [==============================] - 3s 30ms/step - loss: -0.1103 - val_loss: -0.1861\n",
            "Epoch 2/100\n",
            "49/49 [==============================] - 1s 14ms/step - loss: -0.1861 - val_loss: -0.2247\n",
            "Epoch 3/100\n",
            "49/49 [==============================] - 1s 13ms/step - loss: -0.1739 - val_loss: -0.2153\n",
            "Epoch 4/100\n",
            "49/49 [==============================] - 1s 14ms/step - loss: -0.2007 - val_loss: -0.2167\n",
            "Epoch 5/100\n",
            "49/49 [==============================] - 1s 15ms/step - loss: -0.2177 - val_loss: -0.2132\n",
            "Epoch 6/100\n",
            "49/49 [==============================] - 1s 14ms/step - loss: -0.2278 - val_loss: -0.2330\n",
            "Epoch 7/100\n",
            "49/49 [==============================] - 1s 15ms/step - loss: -0.2364 - val_loss: -0.2357\n",
            "Epoch 8/100\n",
            "49/49 [==============================] - 1s 14ms/step - loss: -0.2417 - val_loss: -0.2184\n",
            "Epoch 9/100\n",
            "49/49 [==============================] - 1s 14ms/step - loss: -0.2439 - val_loss: -0.2340\n",
            "Epoch 10/100\n",
            "49/49 [==============================] - 1s 13ms/step - loss: -0.2438 - val_loss: -0.2089\n",
            "Epoch 11/100\n",
            "49/49 [==============================] - 1s 13ms/step - loss: -0.2414 - val_loss: -0.2205\n",
            "Epoch 12/100\n",
            "46/49 [===========================>..] - ETA: 0s - loss: -0.2522Restoring model weights from the end of the best epoch: 7.\n",
            "49/49 [==============================] - 1s 15ms/step - loss: -0.2521 - val_loss: -0.2282\n",
            "Epoch 12: early stopping\n",
            "178/178 [==============================] - 0s 3ms/step - loss: -0.2357\n",
            "\n",
            "Training model with image_size=24, step=7, lag=1\n"
          ]
        },
        {
          "metadata": {
            "tags": null
          },
          "name": "stderr",
          "output_type": "stream",
          "text": [
            "100%|██████████| 59/59 [02:19<00:00,  2.36s/it]\n"
          ]
        },
        {
          "metadata": {
            "tags": null
          },
          "name": "stdout",
          "output_type": "stream",
          "text": [
            "Epoch 1/100\n",
            "47/47 [==============================] - 2s 16ms/step - loss: -0.1017 - val_loss: -0.1582\n",
            "Epoch 2/100\n",
            "47/47 [==============================] - 0s 7ms/step - loss: -0.1566 - val_loss: -0.1781\n",
            "Epoch 3/100\n",
            "47/47 [==============================] - 0s 6ms/step - loss: -0.1626 - val_loss: -0.2009\n",
            "Epoch 4/100\n",
            "47/47 [==============================] - 0s 6ms/step - loss: -0.1678 - val_loss: -0.1858\n",
            "Epoch 5/100\n",
            "47/47 [==============================] - 0s 7ms/step - loss: -0.1680 - val_loss: -0.2011\n",
            "Epoch 6/100\n",
            "47/47 [==============================] - 0s 6ms/step - loss: -0.1630 - val_loss: -0.2049\n",
            "Epoch 7/100\n",
            "47/47 [==============================] - 0s 6ms/step - loss: -0.1684 - val_loss: -0.1984\n",
            "Epoch 8/100\n",
            "47/47 [==============================] - 0s 7ms/step - loss: -0.1676 - val_loss: -0.2028\n",
            "Epoch 9/100\n",
            "47/47 [==============================] - 0s 6ms/step - loss: -0.1731 - val_loss: -0.1939\n",
            "Epoch 10/100\n",
            "47/47 [==============================] - 0s 6ms/step - loss: -0.1753 - val_loss: -0.1962\n",
            "Epoch 11/100\n",
            "43/47 [==========================>...] - ETA: 0s - loss: -0.1683Restoring model weights from the end of the best epoch: 6.\n",
            "47/47 [==============================] - 0s 6ms/step - loss: -0.1686 - val_loss: -0.1969\n",
            "Epoch 11: early stopping\n",
            "175/175 [==============================] - 0s 3ms/step - loss: -0.2049\n",
            "\n",
            "Training model with image_size=24, step=7, lag=3\n"
          ]
        },
        {
          "metadata": {
            "tags": null
          },
          "name": "stderr",
          "output_type": "stream",
          "text": [
            "100%|██████████| 59/59 [02:18<00:00,  2.35s/it]\n"
          ]
        },
        {
          "metadata": {
            "tags": null
          },
          "name": "stdout",
          "output_type": "stream",
          "text": [
            "Epoch 1/100\n",
            "47/47 [==============================] - 2s 17ms/step - loss: -0.1439 - val_loss: -0.2111\n",
            "Epoch 2/100\n",
            "47/47 [==============================] - 0s 7ms/step - loss: -0.1803 - val_loss: -0.2194\n",
            "Epoch 3/100\n",
            "47/47 [==============================] - 0s 7ms/step - loss: -0.1908 - val_loss: -0.2074\n",
            "Epoch 4/100\n",
            "47/47 [==============================] - 0s 7ms/step - loss: -0.1953 - val_loss: -0.2214\n",
            "Epoch 5/100\n",
            "47/47 [==============================] - 0s 7ms/step - loss: -0.1998 - val_loss: -0.2137\n",
            "Epoch 6/100\n",
            "47/47 [==============================] - 0s 7ms/step - loss: -0.2140 - val_loss: -0.2270\n",
            "Epoch 7/100\n",
            "47/47 [==============================] - 0s 8ms/step - loss: -0.2170 - val_loss: -0.2344\n",
            "Epoch 8/100\n",
            "47/47 [==============================] - 0s 8ms/step - loss: -0.2168 - val_loss: -0.2213\n",
            "Epoch 9/100\n",
            "47/47 [==============================] - 0s 8ms/step - loss: -0.2248 - val_loss: -0.2214\n",
            "Epoch 10/100\n",
            "47/47 [==============================] - 0s 7ms/step - loss: -0.2210 - val_loss: -0.2228\n",
            "Epoch 11/100\n",
            "47/47 [==============================] - 0s 8ms/step - loss: -0.2239 - val_loss: -0.2048\n",
            "Epoch 12/100\n",
            "43/47 [==========================>...] - ETA: 0s - loss: -0.2257Restoring model weights from the end of the best epoch: 7.\n",
            "47/47 [==============================] - 0s 8ms/step - loss: -0.2258 - val_loss: -0.2240\n",
            "Epoch 12: early stopping\n",
            "175/175 [==============================] - 1s 3ms/step - loss: -0.2344\n",
            "\n",
            "Training model with image_size=24, step=7, lag=5\n"
          ]
        },
        {
          "metadata": {
            "tags": null
          },
          "name": "stderr",
          "output_type": "stream",
          "text": [
            "100%|██████████| 59/59 [02:20<00:00,  2.38s/it]\n"
          ]
        },
        {
          "metadata": {
            "tags": null
          },
          "name": "stdout",
          "output_type": "stream",
          "text": [
            "Epoch 1/100\n",
            "47/47 [==============================] - 2s 19ms/step - loss: -0.1191 - val_loss: -0.2277\n",
            "Epoch 2/100\n",
            "47/47 [==============================] - 0s 9ms/step - loss: -0.1732 - val_loss: -0.2186\n",
            "Epoch 3/100\n",
            "47/47 [==============================] - 1s 13ms/step - loss: -0.1889 - val_loss: -0.2049\n",
            "Epoch 4/100\n",
            "47/47 [==============================] - 1s 12ms/step - loss: -0.1990 - val_loss: -0.2250\n",
            "Epoch 5/100\n",
            "47/47 [==============================] - 1s 14ms/step - loss: -0.2036 - val_loss: -0.2254\n",
            "Epoch 6/100\n",
            "47/47 [==============================] - 1s 12ms/step - loss: -0.2146 - val_loss: -0.2327\n",
            "Epoch 7/100\n",
            "47/47 [==============================] - 1s 12ms/step - loss: -0.2236 - val_loss: -0.2370\n",
            "Epoch 8/100\n",
            "47/47 [==============================] - 1s 12ms/step - loss: -0.2235 - val_loss: -0.2312\n",
            "Epoch 9/100\n",
            "47/47 [==============================] - 1s 14ms/step - loss: -0.2306 - val_loss: -0.2323\n",
            "Epoch 10/100\n",
            "47/47 [==============================] - 1s 11ms/step - loss: -0.2343 - val_loss: -0.2463\n",
            "Epoch 11/100\n",
            "47/47 [==============================] - 0s 10ms/step - loss: -0.2307 - val_loss: -0.2527\n",
            "Epoch 12/100\n",
            "47/47 [==============================] - 0s 9ms/step - loss: -0.2306 - val_loss: -0.2249\n",
            "Epoch 13/100\n",
            "47/47 [==============================] - 0s 10ms/step - loss: -0.2285 - val_loss: -0.2428\n",
            "Epoch 14/100\n",
            "47/47 [==============================] - 0s 9ms/step - loss: -0.2510 - val_loss: -0.2423\n",
            "Epoch 15/100\n",
            "47/47 [==============================] - 0s 10ms/step - loss: -0.2479 - val_loss: -0.2313\n",
            "Epoch 16/100\n",
            "45/47 [===========================>..] - ETA: 0s - loss: -0.2491Restoring model weights from the end of the best epoch: 11.\n",
            "47/47 [==============================] - 0s 9ms/step - loss: -0.2489 - val_loss: -0.2220\n",
            "Epoch 16: early stopping\n",
            "175/175 [==============================] - 0s 3ms/step - loss: -0.2527\n",
            "\n",
            "Training model with image_size=24, step=7, lag=7\n"
          ]
        },
        {
          "metadata": {
            "tags": null
          },
          "name": "stderr",
          "output_type": "stream",
          "text": [
            "100%|██████████| 59/59 [02:20<00:00,  2.38s/it]\n"
          ]
        },
        {
          "metadata": {
            "tags": null
          },
          "name": "stdout",
          "output_type": "stream",
          "text": [
            "Epoch 1/100\n",
            "47/47 [==============================] - 2s 23ms/step - loss: -0.1342 - val_loss: -0.2442\n",
            "Epoch 2/100\n",
            "47/47 [==============================] - 0s 10ms/step - loss: -0.1932 - val_loss: -0.2786\n",
            "Epoch 3/100\n",
            "47/47 [==============================] - 1s 12ms/step - loss: -0.2051 - val_loss: -0.2670\n",
            "Epoch 4/100\n",
            "47/47 [==============================] - 0s 10ms/step - loss: -0.2221 - val_loss: -0.2830\n",
            "Epoch 5/100\n",
            "47/47 [==============================] - 0s 10ms/step - loss: -0.2216 - val_loss: -0.2788\n",
            "Epoch 6/100\n",
            "47/47 [==============================] - 0s 10ms/step - loss: -0.2304 - val_loss: -0.2741\n",
            "Epoch 7/100\n",
            "47/47 [==============================] - 0s 10ms/step - loss: -0.2335 - val_loss: -0.2819\n",
            "Epoch 8/100\n",
            "47/47 [==============================] - 0s 10ms/step - loss: -0.2437 - val_loss: -0.2671\n",
            "Epoch 9/100\n",
            "47/47 [==============================] - ETA: 0s - loss: -0.2450Restoring model weights from the end of the best epoch: 4.\n",
            "47/47 [==============================] - 0s 10ms/step - loss: -0.2450 - val_loss: -0.2584\n",
            "Epoch 9: early stopping\n",
            "175/175 [==============================] - 1s 6ms/step - loss: -0.2830\n",
            "\n",
            "Training model with image_size=24, step=7, lag=10\n"
          ]
        },
        {
          "metadata": {
            "tags": null
          },
          "name": "stderr",
          "output_type": "stream",
          "text": [
            "100%|██████████| 59/59 [02:23<00:00,  2.43s/it]\n"
          ]
        },
        {
          "metadata": {
            "tags": null
          },
          "name": "stdout",
          "output_type": "stream",
          "text": [
            "Epoch 1/100\n",
            "47/47 [==============================] - 3s 27ms/step - loss: -0.0923 - val_loss: -0.1601\n",
            "Epoch 2/100\n",
            "47/47 [==============================] - 1s 13ms/step - loss: -0.1673 - val_loss: -0.2561\n",
            "Epoch 3/100\n",
            "47/47 [==============================] - 1s 13ms/step - loss: -0.2087 - val_loss: -0.2380\n",
            "Epoch 4/100\n",
            "47/47 [==============================] - 1s 13ms/step - loss: -0.2018 - val_loss: -0.2538\n",
            "Epoch 5/100\n",
            "47/47 [==============================] - 1s 13ms/step - loss: -0.2187 - val_loss: -0.2617\n",
            "Epoch 6/100\n",
            "47/47 [==============================] - 1s 13ms/step - loss: -0.2368 - val_loss: -0.2740\n",
            "Epoch 7/100\n",
            "47/47 [==============================] - 1s 13ms/step - loss: -0.2448 - val_loss: -0.2545\n",
            "Epoch 8/100\n",
            "47/47 [==============================] - 1s 13ms/step - loss: -0.2321 - val_loss: -0.2240\n",
            "Epoch 9/100\n",
            "47/47 [==============================] - 1s 13ms/step - loss: -0.2352 - val_loss: -0.2782\n",
            "Epoch 10/100\n",
            "47/47 [==============================] - 1s 13ms/step - loss: -0.2508 - val_loss: -0.2705\n",
            "Epoch 11/100\n",
            "47/47 [==============================] - 1s 13ms/step - loss: -0.2592 - val_loss: -0.2375\n",
            "Epoch 12/100\n",
            "47/47 [==============================] - 1s 13ms/step - loss: -0.2589 - val_loss: -0.2512\n",
            "Epoch 13/100\n",
            "47/47 [==============================] - 1s 15ms/step - loss: -0.2459 - val_loss: -0.2381\n",
            "Epoch 14/100\n",
            "44/47 [===========================>..] - ETA: 0s - loss: -0.2648Restoring model weights from the end of the best epoch: 9.\n",
            "47/47 [==============================] - 1s 18ms/step - loss: -0.2646 - val_loss: -0.2414\n",
            "Epoch 14: early stopping\n",
            "175/175 [==============================] - 1s 4ms/step - loss: -0.2782\n",
            "\n",
            "Training model with image_size=24, step=10, lag=1\n"
          ]
        },
        {
          "metadata": {
            "tags": null
          },
          "name": "stderr",
          "output_type": "stream",
          "text": [
            "100%|██████████| 59/59 [02:18<00:00,  2.34s/it]\n"
          ]
        },
        {
          "metadata": {
            "tags": null
          },
          "name": "stdout",
          "output_type": "stream",
          "text": [
            "Epoch 1/100\n",
            "46/46 [==============================] - 2s 15ms/step - loss: -0.1317 - val_loss: -0.1773\n",
            "Epoch 2/100\n",
            "46/46 [==============================] - 0s 7ms/step - loss: -0.1591 - val_loss: -0.2091\n",
            "Epoch 3/100\n",
            "46/46 [==============================] - 0s 6ms/step - loss: -0.1621 - val_loss: -0.2040\n",
            "Epoch 4/100\n",
            "46/46 [==============================] - 0s 7ms/step - loss: -0.1664 - val_loss: -0.2103\n",
            "Epoch 5/100\n",
            "46/46 [==============================] - 0s 7ms/step - loss: -0.1734 - val_loss: -0.1871\n",
            "Epoch 6/100\n",
            "46/46 [==============================] - 0s 7ms/step - loss: -0.1702 - val_loss: -0.2083\n",
            "Epoch 7/100\n",
            "46/46 [==============================] - 0s 7ms/step - loss: -0.1861 - val_loss: -0.1710\n",
            "Epoch 8/100\n",
            "46/46 [==============================] - 0s 9ms/step - loss: -0.1730 - val_loss: -0.2100\n",
            "Epoch 9/100\n",
            "41/46 [=========================>....] - ETA: 0s - loss: -0.1966Restoring model weights from the end of the best epoch: 4.\n",
            "46/46 [==============================] - 0s 8ms/step - loss: -0.1943 - val_loss: -0.1954\n",
            "Epoch 9: early stopping\n",
            "174/174 [==============================] - 1s 4ms/step - loss: -0.2103\n",
            "\n",
            "Training model with image_size=24, step=10, lag=3\n"
          ]
        },
        {
          "metadata": {
            "tags": null
          },
          "name": "stderr",
          "output_type": "stream",
          "text": [
            "100%|██████████| 59/59 [02:19<00:00,  2.36s/it]\n"
          ]
        },
        {
          "metadata": {
            "tags": null
          },
          "name": "stdout",
          "output_type": "stream",
          "text": [
            "Epoch 1/100\n",
            "46/46 [==============================] - 2s 17ms/step - loss: -0.1393 - val_loss: -0.2091\n",
            "Epoch 2/100\n",
            "46/46 [==============================] - 0s 7ms/step - loss: -0.1255 - val_loss: -0.2232\n",
            "Epoch 3/100\n",
            "46/46 [==============================] - 0s 7ms/step - loss: -0.1728 - val_loss: -0.2164\n",
            "Epoch 4/100\n",
            "46/46 [==============================] - 0s 8ms/step - loss: -0.1763 - val_loss: -0.2179\n",
            "Epoch 5/100\n",
            "46/46 [==============================] - 0s 7ms/step - loss: -0.1831 - val_loss: -0.2216\n",
            "Epoch 6/100\n",
            "46/46 [==============================] - 0s 9ms/step - loss: -0.1924 - val_loss: -0.2275\n",
            "Epoch 7/100\n",
            "46/46 [==============================] - 0s 10ms/step - loss: -0.1960 - val_loss: -0.2347\n",
            "Epoch 8/100\n",
            "46/46 [==============================] - 0s 10ms/step - loss: -0.1877 - val_loss: -0.2108\n",
            "Epoch 9/100\n",
            "46/46 [==============================] - 0s 9ms/step - loss: -0.2021 - val_loss: -0.2159\n",
            "Epoch 10/100\n",
            "46/46 [==============================] - 0s 9ms/step - loss: -0.2165 - val_loss: -0.2339\n",
            "Epoch 11/100\n",
            "46/46 [==============================] - 0s 10ms/step - loss: -0.2168 - val_loss: -0.2355\n",
            "Epoch 12/100\n",
            "46/46 [==============================] - 0s 10ms/step - loss: -0.2269 - val_loss: -0.2210\n",
            "Epoch 13/100\n",
            "46/46 [==============================] - 0s 10ms/step - loss: -0.2350 - val_loss: -0.2302\n",
            "Epoch 14/100\n",
            "46/46 [==============================] - 0s 10ms/step - loss: -0.2332 - val_loss: -0.2084\n",
            "Epoch 15/100\n",
            "46/46 [==============================] - 0s 11ms/step - loss: -0.2163 - val_loss: -0.2195\n",
            "Epoch 16/100\n",
            "44/46 [===========================>..] - ETA: 0s - loss: -0.2335Restoring model weights from the end of the best epoch: 11.\n",
            "46/46 [==============================] - 0s 9ms/step - loss: -0.2329 - val_loss: -0.2216\n",
            "Epoch 16: early stopping\n",
            "174/174 [==============================] - 0s 3ms/step - loss: -0.2355\n",
            "\n",
            "Training model with image_size=24, step=10, lag=5\n"
          ]
        },
        {
          "metadata": {
            "tags": null
          },
          "name": "stderr",
          "output_type": "stream",
          "text": [
            "100%|██████████| 59/59 [02:18<00:00,  2.35s/it]\n"
          ]
        },
        {
          "metadata": {
            "tags": null
          },
          "name": "stdout",
          "output_type": "stream",
          "text": [
            "Epoch 1/100\n",
            "46/46 [==============================] - 3s 25ms/step - loss: -0.1050 - val_loss: -0.2014\n",
            "Epoch 2/100\n",
            "46/46 [==============================] - 0s 9ms/step - loss: -0.1604 - val_loss: -0.2226\n",
            "Epoch 3/100\n",
            "46/46 [==============================] - 0s 9ms/step - loss: -0.1819 - val_loss: -0.2328\n",
            "Epoch 4/100\n",
            "46/46 [==============================] - 0s 9ms/step - loss: -0.1880 - val_loss: -0.2206\n",
            "Epoch 5/100\n",
            "46/46 [==============================] - 0s 9ms/step - loss: -0.1948 - val_loss: -0.2089\n",
            "Epoch 6/100\n",
            "46/46 [==============================] - 0s 9ms/step - loss: -0.1953 - val_loss: -0.2270\n",
            "Epoch 7/100\n",
            "46/46 [==============================] - 0s 9ms/step - loss: -0.2100 - val_loss: -0.2340\n",
            "Epoch 8/100\n",
            "46/46 [==============================] - 0s 9ms/step - loss: -0.2056 - val_loss: -0.2418\n",
            "Epoch 9/100\n",
            "46/46 [==============================] - 0s 9ms/step - loss: -0.2136 - val_loss: -0.2344\n",
            "Epoch 10/100\n",
            "46/46 [==============================] - 0s 9ms/step - loss: -0.2178 - val_loss: -0.2385\n",
            "Epoch 11/100\n",
            "46/46 [==============================] - 0s 9ms/step - loss: -0.2030 - val_loss: -0.2445\n",
            "Epoch 12/100\n",
            "46/46 [==============================] - 0s 9ms/step - loss: -0.2127 - val_loss: -0.2269\n",
            "Epoch 13/100\n",
            "46/46 [==============================] - 0s 9ms/step - loss: -0.2206 - val_loss: -0.2373\n",
            "Epoch 14/100\n",
            "46/46 [==============================] - 0s 9ms/step - loss: -0.2211 - val_loss: -0.2480\n",
            "Epoch 15/100\n",
            "46/46 [==============================] - 0s 9ms/step - loss: -0.2295 - val_loss: -0.2368\n",
            "Epoch 16/100\n",
            "46/46 [==============================] - 0s 9ms/step - loss: -0.2377 - val_loss: -0.2507\n",
            "Epoch 17/100\n",
            "46/46 [==============================] - 0s 9ms/step - loss: -0.2416 - val_loss: -0.2411\n",
            "Epoch 18/100\n",
            "46/46 [==============================] - 0s 9ms/step - loss: -0.2295 - val_loss: -0.2504\n",
            "Epoch 19/100\n",
            "46/46 [==============================] - 0s 9ms/step - loss: -0.2425 - val_loss: -0.2463\n",
            "Epoch 20/100\n",
            "46/46 [==============================] - 0s 9ms/step - loss: -0.2433 - val_loss: -0.2408\n",
            "Epoch 21/100\n",
            "40/46 [=========================>....] - ETA: 0s - loss: -0.2447Restoring model weights from the end of the best epoch: 16.\n",
            "46/46 [==============================] - 0s 9ms/step - loss: -0.2459 - val_loss: -0.1989\n",
            "Epoch 21: early stopping\n",
            "174/174 [==============================] - 0s 3ms/step - loss: -0.2507\n",
            "\n",
            "Training model with image_size=24, step=10, lag=7\n"
          ]
        },
        {
          "metadata": {
            "tags": null
          },
          "name": "stderr",
          "output_type": "stream",
          "text": [
            "100%|██████████| 59/59 [02:21<00:00,  2.40s/it]\n"
          ]
        },
        {
          "metadata": {
            "tags": null
          },
          "name": "stdout",
          "output_type": "stream",
          "text": [
            "Epoch 1/100\n",
            "46/46 [==============================] - 2s 24ms/step - loss: -0.0997 - val_loss: -0.2086\n",
            "Epoch 2/100\n",
            "46/46 [==============================] - 0s 10ms/step - loss: -0.1755 - val_loss: -0.2346\n",
            "Epoch 3/100\n",
            "46/46 [==============================] - 0s 10ms/step - loss: -0.2013 - val_loss: -0.2128\n",
            "Epoch 4/100\n",
            "46/46 [==============================] - 0s 10ms/step - loss: -0.2140 - val_loss: -0.2363\n",
            "Epoch 5/100\n",
            "46/46 [==============================] - 1s 12ms/step - loss: -0.2252 - val_loss: -0.2348\n",
            "Epoch 6/100\n",
            "46/46 [==============================] - 1s 14ms/step - loss: -0.2194 - val_loss: -0.2379\n",
            "Epoch 7/100\n",
            "46/46 [==============================] - 1s 15ms/step - loss: -0.2340 - val_loss: -0.2382\n",
            "Epoch 8/100\n",
            "46/46 [==============================] - 1s 15ms/step - loss: -0.2486 - val_loss: -0.2570\n",
            "Epoch 9/100\n",
            "46/46 [==============================] - 1s 14ms/step - loss: -0.2225 - val_loss: -0.2177\n",
            "Epoch 10/100\n",
            "46/46 [==============================] - 1s 15ms/step - loss: -0.2511 - val_loss: -0.2302\n",
            "Epoch 11/100\n",
            "46/46 [==============================] - 1s 16ms/step - loss: -0.2617 - val_loss: -0.2548\n",
            "Epoch 12/100\n",
            "46/46 [==============================] - 1s 12ms/step - loss: -0.2619 - val_loss: -0.2546\n",
            "Epoch 13/100\n",
            "43/46 [===========================>..] - ETA: 0s - loss: -0.2660Restoring model weights from the end of the best epoch: 8.\n",
            "46/46 [==============================] - 0s 11ms/step - loss: -0.2659 - val_loss: -0.2472\n",
            "Epoch 13: early stopping\n",
            "174/174 [==============================] - 0s 3ms/step - loss: -0.2570\n",
            "\n",
            "Training model with image_size=24, step=10, lag=10\n"
          ]
        },
        {
          "metadata": {
            "tags": null
          },
          "name": "stderr",
          "output_type": "stream",
          "text": [
            "100%|██████████| 59/59 [02:22<00:00,  2.42s/it]\n"
          ]
        },
        {
          "metadata": {
            "tags": null
          },
          "name": "stdout",
          "output_type": "stream",
          "text": [
            "Epoch 1/100\n",
            "46/46 [==============================] - 3s 27ms/step - loss: -0.1125 - val_loss: -0.0983\n",
            "Epoch 2/100\n",
            "46/46 [==============================] - 1s 12ms/step - loss: -0.1449 - val_loss: -0.2381\n",
            "Epoch 3/100\n",
            "46/46 [==============================] - 1s 13ms/step - loss: -0.1867 - val_loss: -0.1641\n",
            "Epoch 4/100\n",
            "46/46 [==============================] - 1s 13ms/step - loss: -0.1883 - val_loss: -0.2514\n",
            "Epoch 5/100\n",
            "46/46 [==============================] - 1s 14ms/step - loss: -0.2209 - val_loss: -0.2704\n",
            "Epoch 6/100\n",
            "46/46 [==============================] - 1s 15ms/step - loss: -0.2297 - val_loss: -0.2658\n",
            "Epoch 7/100\n",
            "46/46 [==============================] - 1s 17ms/step - loss: -0.2304 - val_loss: -0.2372\n",
            "Epoch 8/100\n",
            "46/46 [==============================] - 1s 18ms/step - loss: -0.2204 - val_loss: -0.2504\n",
            "Epoch 9/100\n",
            "46/46 [==============================] - 1s 19ms/step - loss: -0.2418 - val_loss: -0.2605\n",
            "Epoch 10/100\n",
            "45/46 [============================>.] - ETA: 0s - loss: -0.2550Restoring model weights from the end of the best epoch: 5.\n",
            "46/46 [==============================] - 1s 19ms/step - loss: -0.2551 - val_loss: -0.2637\n",
            "Epoch 10: early stopping\n",
            "174/174 [==============================] - 0s 3ms/step - loss: -0.2704\n",
            "\n",
            "Training model with image_size=24, step=16, lag=1\n"
          ]
        },
        {
          "metadata": {
            "tags": null
          },
          "name": "stderr",
          "output_type": "stream",
          "text": [
            "100%|██████████| 59/59 [02:14<00:00,  2.28s/it]\n"
          ]
        },
        {
          "metadata": {
            "tags": null
          },
          "name": "stdout",
          "output_type": "stream",
          "text": [
            "Epoch 1/100\n",
            "46/46 [==============================] - 2s 15ms/step - loss: -0.0782 - val_loss: -0.1808\n",
            "Epoch 2/100\n",
            "46/46 [==============================] - 0s 7ms/step - loss: -0.1218 - val_loss: -0.2037\n",
            "Epoch 3/100\n",
            "46/46 [==============================] - 0s 6ms/step - loss: -0.1176 - val_loss: -0.1933\n",
            "Epoch 4/100\n",
            "46/46 [==============================] - 0s 6ms/step - loss: -0.1319 - val_loss: -0.2072\n",
            "Epoch 5/100\n",
            "46/46 [==============================] - 0s 7ms/step - loss: -0.1286 - val_loss: -0.2050\n",
            "Epoch 6/100\n",
            "46/46 [==============================] - 0s 9ms/step - loss: -0.1445 - val_loss: -0.2053\n",
            "Epoch 7/100\n",
            "46/46 [==============================] - 0s 8ms/step - loss: -0.1526 - val_loss: -0.2093\n",
            "Epoch 8/100\n",
            "46/46 [==============================] - 0s 9ms/step - loss: -0.1648 - val_loss: -0.0980\n",
            "Epoch 9/100\n",
            "46/46 [==============================] - 0s 9ms/step - loss: -0.1481 - val_loss: -0.2000\n",
            "Epoch 10/100\n",
            "46/46 [==============================] - 0s 8ms/step - loss: -0.1636 - val_loss: -0.2041\n",
            "Epoch 11/100\n",
            "46/46 [==============================] - 0s 8ms/step - loss: -0.1725 - val_loss: -0.2004\n",
            "Epoch 12/100\n",
            "41/46 [=========================>....] - ETA: 0s - loss: -0.1852Restoring model weights from the end of the best epoch: 7.\n",
            "46/46 [==============================] - 0s 9ms/step - loss: -0.1838 - val_loss: -0.1929\n",
            "Epoch 12: early stopping\n",
            "174/174 [==============================] - 1s 4ms/step - loss: -0.2093\n",
            "\n",
            "Training model with image_size=24, step=16, lag=3\n"
          ]
        },
        {
          "metadata": {
            "tags": null
          },
          "name": "stderr",
          "output_type": "stream",
          "text": [
            "100%|██████████| 59/59 [02:17<00:00,  2.33s/it]\n"
          ]
        },
        {
          "metadata": {
            "tags": null
          },
          "name": "stdout",
          "output_type": "stream",
          "text": [
            "Epoch 1/100\n",
            "46/46 [==============================] - 2s 16ms/step - loss: -0.0683 - val_loss: -0.1784\n",
            "Epoch 2/100\n",
            "46/46 [==============================] - 0s 8ms/step - loss: -0.1379 - val_loss: -0.1822\n",
            "Epoch 3/100\n",
            "46/46 [==============================] - 0s 8ms/step - loss: -0.0893 - val_loss: -0.1909\n",
            "Epoch 4/100\n",
            "46/46 [==============================] - 0s 8ms/step - loss: -0.1505 - val_loss: -0.1949\n",
            "Epoch 5/100\n",
            "46/46 [==============================] - 0s 9ms/step - loss: -0.1754 - val_loss: -0.2126\n",
            "Epoch 6/100\n",
            "46/46 [==============================] - 0s 10ms/step - loss: -0.1714 - val_loss: -0.2268\n",
            "Epoch 7/100\n",
            "46/46 [==============================] - 1s 11ms/step - loss: -0.1512 - val_loss: -0.2370\n",
            "Epoch 8/100\n",
            "46/46 [==============================] - 0s 11ms/step - loss: -0.1852 - val_loss: -0.2236\n",
            "Epoch 9/100\n",
            "46/46 [==============================] - 0s 11ms/step - loss: -0.1951 - val_loss: -0.2265\n",
            "Epoch 10/100\n",
            "46/46 [==============================] - 0s 11ms/step - loss: -0.2028 - val_loss: -0.2290\n",
            "Epoch 11/100\n",
            "46/46 [==============================] - 0s 11ms/step - loss: -0.2185 - val_loss: -0.2239\n",
            "Epoch 12/100\n",
            "43/46 [===========================>..] - ETA: 0s - loss: -0.2182Restoring model weights from the end of the best epoch: 7.\n",
            "46/46 [==============================] - 1s 11ms/step - loss: -0.2178 - val_loss: -0.2084\n",
            "Epoch 12: early stopping\n",
            "174/174 [==============================] - 0s 3ms/step - loss: -0.2370\n",
            "\n",
            "Training model with image_size=24, step=16, lag=5\n"
          ]
        },
        {
          "metadata": {
            "tags": null
          },
          "name": "stderr",
          "output_type": "stream",
          "text": [
            "100%|██████████| 59/59 [02:18<00:00,  2.35s/it]\n"
          ]
        },
        {
          "metadata": {
            "tags": null
          },
          "name": "stdout",
          "output_type": "stream",
          "text": [
            "Epoch 1/100\n",
            "46/46 [==============================] - 2s 20ms/step - loss: -0.0924 - val_loss: -0.1840\n",
            "Epoch 2/100\n",
            "46/46 [==============================] - 0s 9ms/step - loss: -0.1506 - val_loss: -0.2173\n",
            "Epoch 3/100\n",
            "46/46 [==============================] - 0s 9ms/step - loss: -0.1625 - val_loss: -0.1891\n",
            "Epoch 4/100\n",
            "46/46 [==============================] - 0s 8ms/step - loss: -0.1589 - val_loss: -0.2310\n",
            "Epoch 5/100\n",
            "46/46 [==============================] - 0s 9ms/step - loss: -0.1916 - val_loss: -0.2126\n",
            "Epoch 6/100\n",
            "46/46 [==============================] - 0s 9ms/step - loss: -0.1994 - val_loss: -0.1892\n",
            "Epoch 7/100\n",
            "46/46 [==============================] - 0s 10ms/step - loss: -0.2124 - val_loss: -0.1780\n",
            "Epoch 8/100\n",
            "46/46 [==============================] - 0s 9ms/step - loss: -0.2036 - val_loss: -0.2169\n",
            "Epoch 9/100\n",
            "43/46 [===========================>..] - ETA: 0s - loss: -0.2071Restoring model weights from the end of the best epoch: 4.\n",
            "46/46 [==============================] - 0s 9ms/step - loss: -0.2085 - val_loss: -0.2202\n",
            "Epoch 9: early stopping\n",
            "174/174 [==============================] - 0s 3ms/step - loss: -0.2310\n",
            "\n",
            "Training model with image_size=24, step=16, lag=7\n"
          ]
        },
        {
          "metadata": {
            "tags": null
          },
          "name": "stderr",
          "output_type": "stream",
          "text": [
            "100%|██████████| 59/59 [02:14<00:00,  2.28s/it]\n"
          ]
        },
        {
          "metadata": {
            "tags": null
          },
          "name": "stdout",
          "output_type": "stream",
          "text": [
            "Epoch 1/100\n",
            "46/46 [==============================] - 3s 28ms/step - loss: -0.1034 - val_loss: -0.1847\n",
            "Epoch 2/100\n",
            "46/46 [==============================] - 1s 15ms/step - loss: -0.1575 - val_loss: -0.2209\n",
            "Epoch 3/100\n",
            "46/46 [==============================] - 1s 13ms/step - loss: -0.1922 - val_loss: -0.2366\n",
            "Epoch 4/100\n",
            "46/46 [==============================] - 1s 11ms/step - loss: -0.2075 - val_loss: -0.2244\n",
            "Epoch 5/100\n",
            "46/46 [==============================] - 1s 12ms/step - loss: -0.2154 - val_loss: -0.2145\n",
            "Epoch 6/100\n",
            "46/46 [==============================] - 1s 15ms/step - loss: -0.2151 - val_loss: -0.2491\n",
            "Epoch 7/100\n",
            "46/46 [==============================] - 1s 16ms/step - loss: -0.2283 - val_loss: -0.2374\n",
            "Epoch 8/100\n",
            "46/46 [==============================] - 1s 15ms/step - loss: -0.2454 - val_loss: -0.2612\n",
            "Epoch 9/100\n",
            "46/46 [==============================] - 1s 14ms/step - loss: -0.2443 - val_loss: -0.2485\n",
            "Epoch 10/100\n",
            "46/46 [==============================] - 1s 15ms/step - loss: -0.2463 - val_loss: -0.2306\n",
            "Epoch 11/100\n",
            "46/46 [==============================] - 1s 12ms/step - loss: -0.2494 - val_loss: -0.2787\n",
            "Epoch 12/100\n",
            "46/46 [==============================] - 1s 11ms/step - loss: -0.2695 - val_loss: -0.2324\n",
            "Epoch 13/100\n",
            "46/46 [==============================] - 1s 11ms/step - loss: -0.2765 - val_loss: -0.2569\n",
            "Epoch 14/100\n",
            "46/46 [==============================] - 1s 11ms/step - loss: -0.2678 - val_loss: -0.2428\n",
            "Epoch 15/100\n",
            "46/46 [==============================] - 1s 11ms/step - loss: -0.2687 - val_loss: -0.2764\n",
            "Epoch 16/100\n",
            "42/46 [==========================>...] - ETA: 0s - loss: -0.2291Restoring model weights from the end of the best epoch: 11.\n",
            "46/46 [==============================] - 1s 11ms/step - loss: -0.2304 - val_loss: -0.2563\n",
            "Epoch 16: early stopping\n",
            "174/174 [==============================] - 0s 3ms/step - loss: -0.2787\n",
            "\n",
            "Training model with image_size=24, step=16, lag=10\n"
          ]
        },
        {
          "metadata": {
            "tags": null
          },
          "name": "stderr",
          "output_type": "stream",
          "text": [
            "100%|██████████| 59/59 [02:16<00:00,  2.31s/it]\n"
          ]
        },
        {
          "metadata": {
            "tags": null
          },
          "name": "stdout",
          "output_type": "stream",
          "text": [
            "Epoch 1/100\n",
            "46/46 [==============================] - 3s 29ms/step - loss: -0.1063 - val_loss: -0.2218\n",
            "Epoch 2/100\n",
            "46/46 [==============================] - 1s 15ms/step - loss: -0.1765 - val_loss: -0.2619\n",
            "Epoch 3/100\n",
            "46/46 [==============================] - 1s 14ms/step - loss: -0.1980 - val_loss: -0.2396\n",
            "Epoch 4/100\n",
            "46/46 [==============================] - 1s 15ms/step - loss: -0.2031 - val_loss: -0.2738\n",
            "Epoch 5/100\n",
            "46/46 [==============================] - 1s 13ms/step - loss: -0.2263 - val_loss: -0.2155\n",
            "Epoch 6/100\n",
            "46/46 [==============================] - 1s 13ms/step - loss: -0.0831 - val_loss: -0.2119\n",
            "Epoch 7/100\n",
            "46/46 [==============================] - 1s 13ms/step - loss: -0.1578 - val_loss: -0.2554\n",
            "Epoch 8/100\n",
            "46/46 [==============================] - 1s 14ms/step - loss: -0.2081 - val_loss: -0.2646\n",
            "Epoch 9/100\n",
            "41/46 [=========================>....] - ETA: 0s - loss: -0.2069Restoring model weights from the end of the best epoch: 4.\n",
            "46/46 [==============================] - 1s 13ms/step - loss: -0.2088 - val_loss: -0.2654\n",
            "Epoch 9: early stopping\n",
            "174/174 [==============================] - 0s 3ms/step - loss: -0.2738\n",
            "\n",
            "Training model with image_size=32, step=1, lag=1\n"
          ]
        },
        {
          "output_type": "stream",
          "name": "stderr",
          "text": [
            "100%|██████████| 59/59 [02:24<00:00,  2.45s/it]\n"
          ]
        },
        {
          "output_type": "stream",
          "name": "stdout",
          "text": [
            "Epoch 1/100\n",
            "50/50 [==============================] - 2s 13ms/step - loss: -0.0662 - val_loss: -0.1427\n",
            "Epoch 2/100\n",
            "50/50 [==============================] - 0s 7ms/step - loss: -0.1077 - val_loss: -0.1472\n",
            "Epoch 3/100\n",
            "50/50 [==============================] - 0s 7ms/step - loss: -0.1094 - val_loss: -0.1554\n",
            "Epoch 4/100\n",
            "50/50 [==============================] - 0s 7ms/step - loss: -0.1094 - val_loss: -0.1555\n",
            "Epoch 5/100\n",
            "50/50 [==============================] - 0s 7ms/step - loss: -0.1136 - val_loss: -0.1519\n",
            "Epoch 6/100\n",
            "50/50 [==============================] - 0s 7ms/step - loss: -0.0972 - val_loss: -0.1070\n",
            "Epoch 7/100\n",
            "50/50 [==============================] - 0s 9ms/step - loss: -0.1151 - val_loss: -0.1487\n",
            "Epoch 8/100\n",
            "50/50 [==============================] - 0s 9ms/step - loss: -0.1185 - val_loss: -0.1445\n",
            "Epoch 9/100\n",
            "46/50 [==========================>...] - ETA: 0s - loss: -0.1213Restoring model weights from the end of the best epoch: 4.\n",
            "50/50 [==============================] - 0s 9ms/step - loss: -0.1233 - val_loss: -0.1394\n",
            "Epoch 9: early stopping\n",
            "181/181 [==============================] - 1s 4ms/step - loss: -0.1555\n",
            "\n",
            "Training model with image_size=32, step=1, lag=3\n"
          ]
        },
        {
          "output_type": "stream",
          "name": "stderr",
          "text": [
            "100%|██████████| 59/59 [02:25<00:00,  2.47s/it]\n"
          ]
        },
        {
          "output_type": "stream",
          "name": "stdout",
          "text": [
            "Epoch 1/100\n",
            "50/50 [==============================] - 3s 22ms/step - loss: -0.0967 - val_loss: -0.1274\n",
            "Epoch 2/100\n",
            "50/50 [==============================] - 0s 10ms/step - loss: -0.1333 - val_loss: -0.1764\n",
            "Epoch 3/100\n",
            "50/50 [==============================] - 0s 9ms/step - loss: -0.1416 - val_loss: -0.1806\n",
            "Epoch 4/100\n",
            "50/50 [==============================] - 0s 10ms/step - loss: -0.1504 - val_loss: -0.1741\n",
            "Epoch 5/100\n",
            "50/50 [==============================] - 0s 9ms/step - loss: -0.1488 - val_loss: -0.1576\n",
            "Epoch 6/100\n",
            "50/50 [==============================] - 0s 10ms/step - loss: -0.1522 - val_loss: -0.1782\n",
            "Epoch 7/100\n",
            "50/50 [==============================] - 0s 10ms/step - loss: -0.1510 - val_loss: -0.1686\n",
            "Epoch 8/100\n",
            "49/50 [============================>.] - ETA: 0s - loss: -0.1598Restoring model weights from the end of the best epoch: 3.\n",
            "50/50 [==============================] - 0s 10ms/step - loss: -0.1592 - val_loss: -0.1771\n",
            "Epoch 8: early stopping\n",
            "181/181 [==============================] - 0s 3ms/step - loss: -0.1806\n",
            "\n",
            "Training model with image_size=32, step=1, lag=5\n"
          ]
        },
        {
          "output_type": "stream",
          "name": "stderr",
          "text": [
            "100%|██████████| 59/59 [02:25<00:00,  2.46s/it]\n"
          ]
        },
        {
          "output_type": "stream",
          "name": "stdout",
          "text": [
            "Epoch 1/100\n",
            "50/50 [==============================] - 3s 26ms/step - loss: -0.1034 - val_loss: -0.1437\n",
            "Epoch 2/100\n",
            "50/50 [==============================] - 1s 14ms/step - loss: -0.1403 - val_loss: -0.1869\n",
            "Epoch 3/100\n",
            "50/50 [==============================] - 1s 16ms/step - loss: -0.1615 - val_loss: -0.1912\n",
            "Epoch 4/100\n",
            "50/50 [==============================] - 1s 16ms/step - loss: -0.1642 - val_loss: -0.1916\n",
            "Epoch 5/100\n",
            "50/50 [==============================] - 1s 16ms/step - loss: -0.1691 - val_loss: -0.1742\n",
            "Epoch 6/100\n",
            "50/50 [==============================] - 1s 17ms/step - loss: -0.1732 - val_loss: -0.1828\n",
            "Epoch 7/100\n",
            "50/50 [==============================] - 1s 16ms/step - loss: -0.1733 - val_loss: -0.1717\n",
            "Epoch 8/100\n",
            "50/50 [==============================] - 1s 13ms/step - loss: -0.1733 - val_loss: -0.1831\n",
            "Epoch 9/100\n",
            "46/50 [==========================>...] - ETA: 0s - loss: -0.1777Restoring model weights from the end of the best epoch: 4.\n",
            "50/50 [==============================] - 1s 13ms/step - loss: -0.1793 - val_loss: -0.1843\n",
            "Epoch 9: early stopping\n",
            "181/181 [==============================] - 1s 3ms/step - loss: -0.1916\n",
            "\n",
            "Training model with image_size=32, step=1, lag=7\n"
          ]
        },
        {
          "output_type": "stream",
          "name": "stderr",
          "text": [
            "100%|██████████| 59/59 [02:27<00:00,  2.49s/it]\n"
          ]
        }
      ]
    }
  ],
  "metadata": {
    "kernelspec": {
      "display_name": "Python 3",
      "name": "python3"
    },
    "language_info": {
      "codemirror_mode": {
        "name": "ipython",
        "version": 3
      },
      "file_extension": ".py",
      "mimetype": "text/x-python",
      "name": "python",
      "nbconvert_exporter": "python",
      "pygments_lexer": "ipython3",
      "version": "3.10.12"
    },
    "colab": {
      "provenance": [],
      "gpuType": "T4",
      "include_colab_link": true
    },
    "accelerator": "GPU"
  },
  "nbformat": 4,
  "nbformat_minor": 0
}