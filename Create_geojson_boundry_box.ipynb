{
 "cells": [
  {
   "cell_type": "code",
   "execution_count": 2,
   "id": "f6c50fed-5bad-41bf-a7c0-ce56751218bb",
   "metadata": {},
   "outputs": [],
   "source": [
    "import csv\n",
    "from geojson import Feature, FeatureCollection, Polygon"
   ]
  },
  {
   "cell_type": "code",
   "execution_count": 3,
   "id": "e3a95c70-7312-4665-876e-d366ab352af8",
   "metadata": {},
   "outputs": [],
   "source": [
    "# Define the input CSV file path and GeoJSON output file path\n",
    "csv_file_path = 'data/wb_1day_Serengeti.csv'\n",
    "geojson_file_path = 'data/Serengeti.geojson'"
   ]
  },
  {
   "cell_type": "code",
   "execution_count": 9,
   "id": "3225f3f5-208c-42ed-aef5-863d85cd030e",
   "metadata": {},
   "outputs": [
    {
     "name": "stdout",
     "output_type": "stream",
     "text": [
      "Bounding box GeoJSON file 'data/Schwelle.geojson' created successfully.\n"
     ]
    }
   ],
   "source": [
    "# Initialize variables to store the bounding box coordinates\n",
    "min_lat, min_lon, max_lat, max_lon = float('inf'), float('inf'), float('-inf'), float('-inf')\n",
    "\n",
    "# Read the CSV file and extract latitude and longitude\n",
    "with open(csv_file_path, 'r') as csv_file:\n",
    "    csv_reader = csv.DictReader(csv_file)\n",
    "    for row in csv_reader:\n",
    "        latitude = float(row['lat'])\n",
    "        longitude = float(row['long'])\n",
    "        \n",
    "        # Update bounding box coordinates\n",
    "        min_lat = min(min_lat, latitude)\n",
    "        min_lon = min(min_lon, longitude)\n",
    "        max_lat = max(max_lat, latitude)\n",
    "        max_lon = max(max_lon, longitude)\n",
    "\n",
    "# Create a GeoJSON Polygon representing the bounding box\n",
    "bounding_box = Polygon([[\n",
    "    (min_lon, min_lat),\n",
    "    (max_lon, min_lat),\n",
    "    (max_lon, max_lat),\n",
    "    (min_lon, max_lat),\n",
    "    (min_lon, min_lat)  # Close the polygon\n",
    "]])\n",
    "\n",
    "# Create a GeoJSON feature for the bounding box\n",
    "feature = Feature(geometry=bounding_box, properties={})\n",
    "\n",
    "# Create a GeoJSON FeatureCollection\n",
    "feature_collection = FeatureCollection([feature])\n",
    "\n",
    "# Write the GeoJSON data to a file\n",
    "with open(geojson_file_path, 'w') as geojson_file:\n",
    "    geojson_file.write(str(feature_collection))\n",
    "\n",
    "print(f\"Bounding box GeoJSON file '{geojson_file_path}' created successfully.\")"
   ]
  },
  {
   "cell_type": "code",
   "execution_count": 7,
   "id": "4c281ec7-2142-4abd-9a0b-3c3946288ad2",
   "metadata": {},
   "outputs": [
    {
     "name": "stdout",
     "output_type": "stream",
     "text": [
      "Bounding box GeoJSON file 'data/Schwelle.geojson' with a 100 km buffer created successfully.\n"
     ]
    },
    {
     "name": "stderr",
     "output_type": "stream",
     "text": [
      "/usr/local/lib/python3.10/dist-packages/pyproj/crs/crs.py:141: FutureWarning: '+init=<authority>:<code>' syntax is deprecated. '<authority>:<code>' is the preferred initialization method. When making the change, be mindful of axis order changes: https://pyproj4.github.io/pyproj/stable/gotchas.html#axis-order-changes-in-proj-6\n",
      "  in_crs_string = _prepare_from_proj_string(in_crs_string)\n",
      "/usr/local/lib/python3.10/dist-packages/shapely/ops.py:276: FutureWarning: This function is deprecated. See: https://pyproj4.github.io/pyproj/stable/gotchas.html#upgrading-to-pyproj-2-from-pyproj-1\n",
      "  shell = type(geom.exterior)(zip(*func(*zip(*geom.exterior.coords))))\n"
     ]
    }
   ],
   "source": [
    "import csv\n",
    "from shapely.geometry import Polygon\n",
    "from shapely.geometry import shape\n",
    "from shapely.ops import transform\n",
    "from functools import partial\n",
    "import pyproj\n",
    "from geojson import Feature, FeatureCollection\n",
    "\n",
    "# Function to create a buffer around a polygon\n",
    "def create_buffer(polygon, buffer_distance_km):\n",
    "    project = partial(\n",
    "        pyproj.transform,\n",
    "        pyproj.Proj(init='epsg:4326'),  # source coordinate system (WGS 84)\n",
    "        pyproj.Proj(\n",
    "            proj='aea',\n",
    "            lat_1=polygon.bounds[1],\n",
    "            lat_2=polygon.bounds[3]\n",
    "        )  # Albers Equal Area Conic projection\n",
    "    )\n",
    "    return transform(project, polygon).buffer(buffer_distance_km * 1000)  # Buffer distance is in meters\n",
    "\n",
    "# Initialize variables to store the bounding box coordinates\n",
    "min_lat, min_lon, max_lat, max_lon = float('inf'), float('inf'), float('-inf'), float('-inf')\n",
    "\n",
    "# Read the CSV file and extract latitude and longitude\n",
    "with open(csv_file_path, 'r') as csv_file:\n",
    "    csv_reader = csv.DictReader(csv_file)\n",
    "    for row in csv_reader:\n",
    "        latitude = float(row['lat'])\n",
    "        longitude = float(row['long'])\n",
    "        \n",
    "        # Update bounding box coordinates\n",
    "        min_lat = min(min_lat, latitude)\n",
    "        min_lon = min(min_lon, longitude)\n",
    "        max_lat = max(max_lat, latitude)\n",
    "        max_lon = max(max_lon, longitude)\n",
    "\n",
    "# Create a GeoJSON Polygon representing the bounding box\n",
    "bounding_box = Polygon([\n",
    "    (min_lon, min_lat),\n",
    "    (max_lon, min_lat),\n",
    "    (max_lon, max_lat),\n",
    "    (min_lon, max_lat),\n",
    "    (min_lon, min_lat)  # Close the polygon\n",
    "])\n",
    "\n",
    "# Create a buffer around the bounding box\n",
    "buffer_distance_km = 500  # 100 km buffer\n",
    "buffered_polygon = create_buffer(bounding_box, buffer_distance_km)\n",
    "\n",
    "# Create a GeoJSON feature for the buffered polygon\n",
    "feature = Feature(geometry=shape(buffered_polygon), properties={})\n",
    "\n",
    "# Create a GeoJSON FeatureCollection\n",
    "feature_collection = FeatureCollection([feature])\n",
    "\n",
    "# Write the GeoJSON data to a file\n",
    "with open(geojson_file_path, 'w') as geojson_file:\n",
    "    geojson_file.write(str(feature_collection))\n",
    "\n",
    "print(f\"Bounding box GeoJSON file '{geojson_file_path}' with a {buffer_distance_km} km buffer created successfully.\")\n"
   ]
  },
  {
   "cell_type": "code",
   "execution_count": 4,
   "id": "b59ad6f1-bfbd-4007-a769-90a2b3d96320",
   "metadata": {},
   "outputs": [
    {
     "name": "stdout",
     "output_type": "stream",
     "text": [
      "Bounding box GeoJSON file 'data/Serengeti.geojson' created successfully.\n"
     ]
    }
   ],
   "source": [
    "import csv\n",
    "from geojson import Polygon, Feature, FeatureCollection\n",
    "\n",
    "# Initialize variables to store the bounding box coordinates\n",
    "min_lat, min_lon, max_lat, max_lon = float('inf'), float('inf'), float('-inf'), float('-inf')\n",
    "\n",
    "# Read the CSV file and extract latitude and longitude\n",
    "with open(csv_file_path, 'r') as csv_file:\n",
    "    csv_reader = csv.DictReader(csv_file)\n",
    "    for row in csv_reader:\n",
    "        latitude = float(row['lat'])\n",
    "        longitude = float(row['long'])\n",
    "        \n",
    "        # Update bounding box coordinates\n",
    "        min_lat = min(min_lat, latitude)\n",
    "        min_lon = min(min_lon, longitude)\n",
    "        max_lat = max(max_lat, latitude)\n",
    "        max_lon = max(max_lon, longitude)\n",
    "\n",
    "# Add 0.9 degrees around the boundary\n",
    "buffer_degrees = 2\n",
    "min_lat -= buffer_degrees\n",
    "min_lon -= buffer_degrees\n",
    "max_lat += buffer_degrees\n",
    "max_lon += buffer_degrees\n",
    "\n",
    "# Create a GeoJSON Polygon representing the bounding box\n",
    "bounding_box = Polygon([[\n",
    "    (min_lon, min_lat),\n",
    "    (max_lon, min_lat),\n",
    "    (max_lon, max_lat),\n",
    "    (min_lon, max_lat),\n",
    "    (min_lon, min_lat)  # Close the polygon\n",
    "]])\n",
    "\n",
    "# Create a GeoJSON feature for the bounding box\n",
    "feature = Feature(geometry=bounding_box, properties={})\n",
    "\n",
    "# Create a GeoJSON FeatureCollection\n",
    "feature_collection = FeatureCollection([feature])\n",
    "\n",
    "# Write the GeoJSON data to a file\n",
    "with open(geojson_file_path, 'w') as geojson_file:\n",
    "    geojson_file.write(str(feature_collection))\n",
    "\n",
    "print(f\"Bounding box GeoJSON file '{geojson_file_path}' created successfully.\")\n"
   ]
  },
  {
   "cell_type": "code",
   "execution_count": 5,
   "id": "348f42cf-968c-4e76-adbd-13eb5743e504",
   "metadata": {},
   "outputs": [
    {
     "data": {
      "text/plain": [
       "{\"coordinates\": [[[31.870678, -5.538456], [37.890365, -5.538456], [37.890365, 0.903614], [31.870678, 0.903614], [31.870678, -5.538456]]], \"type\": \"Polygon\"}"
      ]
     },
     "execution_count": 5,
     "metadata": {},
     "output_type": "execute_result"
    }
   ],
   "source": [
    "bounding_box"
   ]
  },
  {
   "cell_type": "code",
   "execution_count": 7,
   "id": "c0a18263-97a0-4094-ac33-a954fdab3798",
   "metadata": {},
   "outputs": [
    {
     "data": {
      "text/plain": [
       "{\"coordinates\": [[[9608997.0, 596742.1], [9879023.0, 596742.1], [9879023.0, 821598.7], [9608997.0, 821598.7], [9608997.0, 596742.1]]], \"type\": \"Polygon\"}"
      ]
     },
     "execution_count": 7,
     "metadata": {},
     "output_type": "execute_result"
    }
   ],
   "source": [
    "# Initialize variables to store the bounding box coordinates\n",
    "min_lat, min_lon, max_lat, max_lon = float('inf'), float('inf'), float('-inf'), float('-inf')\n",
    "\n",
    "# Read the CSV file and extract latitude and longitude\n",
    "with open(csv_file_path, 'r') as csv_file:\n",
    "    csv_reader = csv.DictReader(csv_file)\n",
    "    for row in csv_reader:\n",
    "        latitude = float(row['x1_'])\n",
    "        longitude = float(row['y1_'])\n",
    "        \n",
    "        # Update bounding box coordinates\n",
    "        min_lat = min(min_lat, latitude)\n",
    "        min_lon = min(min_lon, longitude)\n",
    "        max_lat = max(max_lat, latitude)\n",
    "        max_lon = max(max_lon, longitude)\n",
    "\n",
    "# Create a GeoJSON Polygon representing the bounding box\n",
    "bounding_box = Polygon([[\n",
    "    (min_lon, min_lat),\n",
    "    (max_lon, min_lat),\n",
    "    (max_lon, max_lat),\n",
    "    (min_lon, max_lat),\n",
    "    (min_lon, min_lat)  # Close the polygon\n",
    "]])\n",
    "\n",
    "bounding_box"
   ]
  },
  {
   "cell_type": "code",
   "execution_count": null,
   "id": "7d5b1be9-1568-4829-aeef-fa3eeeeed57c",
   "metadata": {},
   "outputs": [],
   "source": []
  }
 ],
 "metadata": {
  "kernelspec": {
   "display_name": "Python 3 (ipykernel)",
   "language": "python",
   "name": "python3"
  },
  "language_info": {
   "codemirror_mode": {
    "name": "ipython",
    "version": 3
   },
   "file_extension": ".py",
   "mimetype": "text/x-python",
   "name": "python",
   "nbconvert_exporter": "python",
   "pygments_lexer": "ipython3",
   "version": "3.10.12"
  }
 },
 "nbformat": 4,
 "nbformat_minor": 5
}
